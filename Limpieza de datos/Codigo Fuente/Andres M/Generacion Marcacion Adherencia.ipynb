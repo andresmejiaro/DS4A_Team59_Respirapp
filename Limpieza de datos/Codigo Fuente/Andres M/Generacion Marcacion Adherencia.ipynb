{
 "cells": [
  {
   "cell_type": "code",
   "execution_count": 1,
   "metadata": {},
   "outputs": [],
   "source": [
    "import pandas as pd\n",
    "import matplotlib.pyplot as plt\n",
    "from datetime import timedelta\n",
    "import numpy as np\n",
    "from sklearn.linear_model import LinearRegression"
   ]
  },
  {
   "cell_type": "code",
   "execution_count": 2,
   "metadata": {},
   "outputs": [],
   "source": [
    "medicamentos=pd.read_excel(\"medicamentos_limpio_15jun.xlsx\")\n",
    "medicamentos.FECHA_EMISION=pd.to_datetime(medicamentos.FECHA_EMISION)"
   ]
  },
  {
   "cell_type": "code",
   "execution_count": 3,
   "metadata": {},
   "outputs": [
    {
     "data": {
      "text/html": [
       "<div>\n",
       "<style scoped>\n",
       "    .dataframe tbody tr th:only-of-type {\n",
       "        vertical-align: middle;\n",
       "    }\n",
       "\n",
       "    .dataframe tbody tr th {\n",
       "        vertical-align: top;\n",
       "    }\n",
       "\n",
       "    .dataframe thead th {\n",
       "        text-align: right;\n",
       "    }\n",
       "</style>\n",
       "<table border=\"1\" class=\"dataframe\">\n",
       "  <thead>\n",
       "    <tr style=\"text-align: right;\">\n",
       "      <th></th>\n",
       "      <th>ID_PACIENTE</th>\n",
       "      <th>FECHA_EMISION</th>\n",
       "      <th>REGIONAL_EPS_DESC</th>\n",
       "      <th>CODIGO_PRESTACION_OP</th>\n",
       "      <th>NOMBRE_MEDICAMENTO</th>\n",
       "      <th>CODIGO_DIAGNOSTICO_EPS_OP</th>\n",
       "      <th>DIAGNOSTICO_EPS_DESC</th>\n",
       "      <th>NUMERO_CANTIDAD_PRESTACIONES</th>\n",
       "      <th>NumeroCantidadPrestacionesImputado</th>\n",
       "      <th>NumeroCantidadPrestacionesImputadoInd</th>\n",
       "      <th>DiagnosticoAgrupadoRel</th>\n",
       "      <th>Categoria</th>\n",
       "      <th>Tratamiento</th>\n",
       "    </tr>\n",
       "  </thead>\n",
       "  <tbody>\n",
       "    <tr>\n",
       "      <th>0</th>\n",
       "      <td>940545</td>\n",
       "      <td>2020-02-25</td>\n",
       "      <td>Medellin</td>\n",
       "      <td>M025848</td>\n",
       "      <td>TACROLIMUS MONOHIDRATADO -INDICACIONES DIFEREN...</td>\n",
       "      <td>L309</td>\n",
       "      <td>DERMATITIS, NO ESPECIFICADA</td>\n",
       "      <td>1.0</td>\n",
       "      <td>1.0</td>\n",
       "      <td>0</td>\n",
       "      <td>NaN</td>\n",
       "      <td>NaN</td>\n",
       "      <td>NaN</td>\n",
       "    </tr>\n",
       "    <tr>\n",
       "      <th>1</th>\n",
       "      <td>725649</td>\n",
       "      <td>2020-02-26</td>\n",
       "      <td>Medellin</td>\n",
       "      <td>M029434</td>\n",
       "      <td>MONTELUKAST/LEVOCETIRIZINA DIHIDROCLORURO</td>\n",
       "      <td>J304</td>\n",
       "      <td>RINITIS ALÉRGICA, NO ESPECIFICADA</td>\n",
       "      <td>28.0</td>\n",
       "      <td>28.0</td>\n",
       "      <td>0</td>\n",
       "      <td>RINITIS ALERGICA</td>\n",
       "      <td>MONTELUKAST</td>\n",
       "      <td>Oral</td>\n",
       "    </tr>\n",
       "    <tr>\n",
       "      <th>2</th>\n",
       "      <td>535255</td>\n",
       "      <td>2020-02-27</td>\n",
       "      <td>Medellin</td>\n",
       "      <td>M026578</td>\n",
       "      <td>FLUTICASONA PROPIONATO/SALMETEROL</td>\n",
       "      <td>D848</td>\n",
       "      <td>OTRAS INMUNODEFICIENCIAS ESPECIFICADAS</td>\n",
       "      <td>1.0</td>\n",
       "      <td>1.0</td>\n",
       "      <td>0</td>\n",
       "      <td>NaN</td>\n",
       "      <td>FLUTICASONA</td>\n",
       "      <td>Inhaladores Mantenimiento</td>\n",
       "    </tr>\n",
       "    <tr>\n",
       "      <th>3</th>\n",
       "      <td>1127795</td>\n",
       "      <td>2020-02-28</td>\n",
       "      <td>Medellin</td>\n",
       "      <td>M004049</td>\n",
       "      <td>DOXICICLINA</td>\n",
       "      <td>N760</td>\n",
       "      <td>VAGINITIS AGUDA</td>\n",
       "      <td>28.0</td>\n",
       "      <td>28.0</td>\n",
       "      <td>0</td>\n",
       "      <td>NaN</td>\n",
       "      <td>NaN</td>\n",
       "      <td>NaN</td>\n",
       "    </tr>\n",
       "    <tr>\n",
       "      <th>4</th>\n",
       "      <td>1673566</td>\n",
       "      <td>2020-02-25</td>\n",
       "      <td>Medellin</td>\n",
       "      <td>M280151</td>\n",
       "      <td>BECLOMETASONA NASAL</td>\n",
       "      <td>Z929</td>\n",
       "      <td>HISTORIA PERSONAL DE TRATAMIENTO MÉDICO NO ESP...</td>\n",
       "      <td>1.0</td>\n",
       "      <td>1.0</td>\n",
       "      <td>0</td>\n",
       "      <td>NaN</td>\n",
       "      <td>NaN</td>\n",
       "      <td>NaN</td>\n",
       "    </tr>\n",
       "    <tr>\n",
       "      <th>...</th>\n",
       "      <td>...</td>\n",
       "      <td>...</td>\n",
       "      <td>...</td>\n",
       "      <td>...</td>\n",
       "      <td>...</td>\n",
       "      <td>...</td>\n",
       "      <td>...</td>\n",
       "      <td>...</td>\n",
       "      <td>...</td>\n",
       "      <td>...</td>\n",
       "      <td>...</td>\n",
       "      <td>...</td>\n",
       "      <td>...</td>\n",
       "    </tr>\n",
       "    <tr>\n",
       "      <th>109591</th>\n",
       "      <td>535255</td>\n",
       "      <td>2019-11-27</td>\n",
       "      <td>Medellin</td>\n",
       "      <td>M284026</td>\n",
       "      <td>DOMPERIDONA</td>\n",
       "      <td>D848</td>\n",
       "      <td>OTRAS INMUNODEFICIENCIAS ESPECIFICADAS</td>\n",
       "      <td>270.0</td>\n",
       "      <td>270.0</td>\n",
       "      <td>0</td>\n",
       "      <td>NaN</td>\n",
       "      <td>NaN</td>\n",
       "      <td>NaN</td>\n",
       "    </tr>\n",
       "    <tr>\n",
       "      <th>109592</th>\n",
       "      <td>1589082</td>\n",
       "      <td>2019-11-12</td>\n",
       "      <td>Medellin</td>\n",
       "      <td>M022950</td>\n",
       "      <td>SUCRALOSA</td>\n",
       "      <td>E106</td>\n",
       "      <td>DIABETES MELLITUS INSULINODEPENDIENTE, CON OTR...</td>\n",
       "      <td>300.0</td>\n",
       "      <td>300.0</td>\n",
       "      <td>0</td>\n",
       "      <td>NaN</td>\n",
       "      <td>NaN</td>\n",
       "      <td>NaN</td>\n",
       "    </tr>\n",
       "    <tr>\n",
       "      <th>109593</th>\n",
       "      <td>978163</td>\n",
       "      <td>2019-11-06</td>\n",
       "      <td>Medellin</td>\n",
       "      <td>M019032</td>\n",
       "      <td>LIPASA/AMILASA/PROTEASA</td>\n",
       "      <td>E840</td>\n",
       "      <td>FIBROSIS QUÍSTICA CON MANIFESTACIONES PULMONARES</td>\n",
       "      <td>300.0</td>\n",
       "      <td>300.0</td>\n",
       "      <td>0</td>\n",
       "      <td>NaN</td>\n",
       "      <td>NaN</td>\n",
       "      <td>NaN</td>\n",
       "    </tr>\n",
       "    <tr>\n",
       "      <th>109594</th>\n",
       "      <td>978163</td>\n",
       "      <td>2019-12-03</td>\n",
       "      <td>Medellin</td>\n",
       "      <td>M019032</td>\n",
       "      <td>LIPASA/AMILASA/PROTEASA</td>\n",
       "      <td>E840</td>\n",
       "      <td>FIBROSIS QUÍSTICA CON MANIFESTACIONES PULMONARES</td>\n",
       "      <td>300.0</td>\n",
       "      <td>300.0</td>\n",
       "      <td>0</td>\n",
       "      <td>NaN</td>\n",
       "      <td>NaN</td>\n",
       "      <td>NaN</td>\n",
       "    </tr>\n",
       "    <tr>\n",
       "      <th>109595</th>\n",
       "      <td>742708</td>\n",
       "      <td>2019-11-18</td>\n",
       "      <td>Medellin</td>\n",
       "      <td>M022670</td>\n",
       "      <td>PANCREATINA</td>\n",
       "      <td>E168</td>\n",
       "      <td>OTROS TRASTORNOS ESPECIFICADOS DE LA SECRECIÓN...</td>\n",
       "      <td>360.0</td>\n",
       "      <td>360.0</td>\n",
       "      <td>0</td>\n",
       "      <td>NaN</td>\n",
       "      <td>NaN</td>\n",
       "      <td>NaN</td>\n",
       "    </tr>\n",
       "  </tbody>\n",
       "</table>\n",
       "<p>109596 rows × 13 columns</p>\n",
       "</div>"
      ],
      "text/plain": [
       "        ID_PACIENTE FECHA_EMISION REGIONAL_EPS_DESC CODIGO_PRESTACION_OP  \\\n",
       "0            940545    2020-02-25          Medellin              M025848   \n",
       "1            725649    2020-02-26          Medellin              M029434   \n",
       "2            535255    2020-02-27          Medellin              M026578   \n",
       "3           1127795    2020-02-28          Medellin              M004049   \n",
       "4           1673566    2020-02-25          Medellin              M280151   \n",
       "...             ...           ...               ...                  ...   \n",
       "109591       535255    2019-11-27          Medellin              M284026   \n",
       "109592      1589082    2019-11-12          Medellin              M022950   \n",
       "109593       978163    2019-11-06          Medellin              M019032   \n",
       "109594       978163    2019-12-03          Medellin              M019032   \n",
       "109595       742708    2019-11-18          Medellin              M022670   \n",
       "\n",
       "                                       NOMBRE_MEDICAMENTO  \\\n",
       "0       TACROLIMUS MONOHIDRATADO -INDICACIONES DIFEREN...   \n",
       "1               MONTELUKAST/LEVOCETIRIZINA DIHIDROCLORURO   \n",
       "2                       FLUTICASONA PROPIONATO/SALMETEROL   \n",
       "3                                             DOXICICLINA   \n",
       "4                                     BECLOMETASONA NASAL   \n",
       "...                                                   ...   \n",
       "109591                                        DOMPERIDONA   \n",
       "109592                                          SUCRALOSA   \n",
       "109593                            LIPASA/AMILASA/PROTEASA   \n",
       "109594                            LIPASA/AMILASA/PROTEASA   \n",
       "109595                                        PANCREATINA   \n",
       "\n",
       "       CODIGO_DIAGNOSTICO_EPS_OP  \\\n",
       "0                           L309   \n",
       "1                           J304   \n",
       "2                           D848   \n",
       "3                           N760   \n",
       "4                           Z929   \n",
       "...                          ...   \n",
       "109591                      D848   \n",
       "109592                      E106   \n",
       "109593                      E840   \n",
       "109594                      E840   \n",
       "109595                      E168   \n",
       "\n",
       "                                     DIAGNOSTICO_EPS_DESC  \\\n",
       "0                             DERMATITIS, NO ESPECIFICADA   \n",
       "1                       RINITIS ALÉRGICA, NO ESPECIFICADA   \n",
       "2                  OTRAS INMUNODEFICIENCIAS ESPECIFICADAS   \n",
       "3                                         VAGINITIS AGUDA   \n",
       "4       HISTORIA PERSONAL DE TRATAMIENTO MÉDICO NO ESP...   \n",
       "...                                                   ...   \n",
       "109591             OTRAS INMUNODEFICIENCIAS ESPECIFICADAS   \n",
       "109592  DIABETES MELLITUS INSULINODEPENDIENTE, CON OTR...   \n",
       "109593   FIBROSIS QUÍSTICA CON MANIFESTACIONES PULMONARES   \n",
       "109594   FIBROSIS QUÍSTICA CON MANIFESTACIONES PULMONARES   \n",
       "109595  OTROS TRASTORNOS ESPECIFICADOS DE LA SECRECIÓN...   \n",
       "\n",
       "        NUMERO_CANTIDAD_PRESTACIONES  NumeroCantidadPrestacionesImputado  \\\n",
       "0                                1.0                                 1.0   \n",
       "1                               28.0                                28.0   \n",
       "2                                1.0                                 1.0   \n",
       "3                               28.0                                28.0   \n",
       "4                                1.0                                 1.0   \n",
       "...                              ...                                 ...   \n",
       "109591                         270.0                               270.0   \n",
       "109592                         300.0                               300.0   \n",
       "109593                         300.0                               300.0   \n",
       "109594                         300.0                               300.0   \n",
       "109595                         360.0                               360.0   \n",
       "\n",
       "        NumeroCantidadPrestacionesImputadoInd DiagnosticoAgrupadoRel  \\\n",
       "0                                           0                    NaN   \n",
       "1                                           0       RINITIS ALERGICA   \n",
       "2                                           0                    NaN   \n",
       "3                                           0                    NaN   \n",
       "4                                           0                    NaN   \n",
       "...                                       ...                    ...   \n",
       "109591                                      0                    NaN   \n",
       "109592                                      0                    NaN   \n",
       "109593                                      0                    NaN   \n",
       "109594                                      0                    NaN   \n",
       "109595                                      0                    NaN   \n",
       "\n",
       "          Categoria                Tratamiento  \n",
       "0               NaN                        NaN  \n",
       "1       MONTELUKAST                       Oral  \n",
       "2       FLUTICASONA  Inhaladores Mantenimiento  \n",
       "3               NaN                        NaN  \n",
       "4               NaN                        NaN  \n",
       "...             ...                        ...  \n",
       "109591          NaN                        NaN  \n",
       "109592          NaN                        NaN  \n",
       "109593          NaN                        NaN  \n",
       "109594          NaN                        NaN  \n",
       "109595          NaN                        NaN  \n",
       "\n",
       "[109596 rows x 13 columns]"
      ]
     },
     "execution_count": 3,
     "metadata": {},
     "output_type": "execute_result"
    }
   ],
   "source": [
    "medicamentos.iloc[:,:]"
   ]
  },
  {
   "cell_type": "code",
   "execution_count": 4,
   "metadata": {},
   "outputs": [],
   "source": [
    "## esta función toma un registro de medicamento y regresa la marcación con respecto a \n",
    "## adherencia, si es una continuación del mismo medicamento retorna un dataframe de pandas \n",
    "## de una sola fila\n",
    "\n",
    "def marca_fila(ID_PACIENTE,FECHA_EMISION,NombreAdherencia,\n",
    "               NUMERO_CANTIDAD_PRESTACIONES,base_med=medicamentos,\n",
    "              columna=\"NOMBRE_MEDICAMENTO\",tolerancia_dias=5):\n",
    "    #los input corresponden a campos de la tabla Medicamentos, Frecuencia_Diaria es la cantidad \n",
    "    #de ese medicamento si la aplicacion fuera diaria, ej si es un inhalador al mes usar 1, si es un\n",
    "    # si es una aplicacion diaria usar 30\n",
    "    # base med es la base donde se realiza la busqueda\n",
    "    # Fecha Emision formato datetime de pandas\n",
    "    #_Fecha_Fin_=FECHA_EMISION+30*NUMERO_CANTIDAD_PRESTACIONES/Frecuencia_Mensual*timedelta(days=1)\n",
    "    #_Fecha_Fin_inf_=_Fecha_Fin_-timedelta(days=tolerancia_dias)\n",
    "    #_Fecha_Fin_sup_=_Fecha_Fin_+timedelta(days=tolerancia_dias)\n",
    "    _filtro_fin_med_=(base_med.ID_PACIENTE==ID_PACIENTE) &(base_med[\"FECHA_EMISION\"]>FECHA_EMISION)\n",
    "    _filtro_fin_med_=_filtro_fin_med_ &(base_med[columna]==NombreAdherencia)\n",
    "    _medicamentos_local_=base_med[_filtro_fin_med_]\n",
    "    _fecha_prox_formula_=_medicamentos_local_.loc[base_med.ID_PACIENTE==ID_PACIENTE,\"FECHA_EMISION\"].min()\n",
    "    _tiempo_entre_form_=(_fecha_prox_formula_-FECHA_EMISION).days\n",
    "    if _medicamentos_local_.shape[0]==0:\n",
    "        ## marca como no adherente \n",
    "        _adherencia_=0\n",
    "        _comentario_=\"ultimo registro\"\n",
    "        #print(\"No adherente\")\n",
    "        pass\n",
    "    elif _tiempo_entre_form_<=NUMERO_CANTIDAD_PRESTACIONES+tolerancia_dias:\n",
    "        ## marca como adherente marca continuidad medicamento\n",
    "        #print(\"Adherente, Continuidad\")\n",
    "        _adherencia_=1\n",
    "        _comentario_=\"adherente\"\n",
    "        pass\n",
    "    else:\n",
    "        ## marca como aderente no continuidad del medicamento\n",
    "        #print(\"Adherente, No Continuidad\")\n",
    "        _adherencia_=0\n",
    "        _comentario_=\"no adherente\"\n",
    "        pass\n",
    "    #print(_medicamentos_local_)\n",
    "    _return_=pd.Series({\"ID_PACIENTE\":ID_PACIENTE,\n",
    "                           \"FECHA_EMISION\":FECHA_EMISION,\n",
    "                        \"FechaSiguienteRecla\":_fecha_prox_formula_,\n",
    "                           columna:NombreAdherencia,\n",
    "                          \"AdherenciaMed\":_adherencia_,\n",
    "                          \"Comentario\":_comentario_,\n",
    "                       \"TiempoEntreFormulas\":_tiempo_entre_form_,\n",
    "                        \"NUMERO_CANTIDAD_PRESTACIONES\":NUMERO_CANTIDAD_PRESTACIONES})\n",
    "    return _return_\n",
    "    \n",
    "    "
   ]
  },
  {
   "cell_type": "code",
   "execution_count": 5,
   "metadata": {},
   "outputs": [
    {
     "data": {
      "text/plain": [
       "ID_PACIENTE                                  725649\n",
       "FECHA_EMISION                   2020-02-26 00:00:00\n",
       "FechaSiguienteRecla             2020-04-01 00:00:00\n",
       "Categoria                               MONTELUKAST\n",
       "AdherenciaMed                                     0\n",
       "Comentario                             no adherente\n",
       "TiempoEntreFormulas                              35\n",
       "NUMERO_CANTIDAD_PRESTACIONES                     28\n",
       "dtype: object"
      ]
     },
     "execution_count": 5,
     "metadata": {},
     "output_type": "execute_result"
    }
   ],
   "source": [
    "marca_fila(medicamentos.ID_PACIENTE[1],medicamentos.FECHA_EMISION[1],medicamentos.Categoria[1],\n",
    "           medicamentos.NUMERO_CANTIDAD_PRESTACIONES[1],columna=\"Categoria\")"
   ]
  },
  {
   "cell_type": "code",
   "execution_count": 6,
   "metadata": {},
   "outputs": [],
   "source": [
    "## Esta funcion toma un dataframe y añade las columnas necesarias al mismo\n",
    "## oportunidad de mejora un diccionario de las prestaciones con la frecuencia \n",
    "## de medicacion\n",
    "def procesa_medicamentos_df(base_med=medicamentos,columna=\"NOMBRE_MEDICAMENTO\",NombreAdherencia=\"MONTELUKAST\",\n",
    "                           tolerancia_dias=5):\n",
    "    _work_base_=base_med[base_med[columna]==NombreAdherencia]\n",
    "    _adherencia_=_work_base_.apply(lambda x:marca_fila(x.ID_PACIENTE,\n",
    "                                   x.FECHA_EMISION,\n",
    "                                   NombreAdherencia,\n",
    "                                   x.NUMERO_CANTIDAD_PRESTACIONES,\n",
    "                                   _work_base_,\n",
    "                                   columna,\n",
    "                                    tolerancia_dias) ,axis=1)\n",
    "    #_adherencia_=_adherencia_.loc[:,[\"adherencia_med\",\"comentario\"]]\n",
    "    #_return_=pd.concat([df,_adherencia_],axis=1)\n",
    "    return _adherencia_"
   ]
  },
  {
   "cell_type": "code",
   "execution_count": 151,
   "metadata": {},
   "outputs": [
    {
     "data": {
      "text/plain": [
       "0               NaN\n",
       "1       MONTELUKAST\n",
       "2       FLUTICASONA\n",
       "10       BUDESONIDA\n",
       "12       OMALIZUMAB\n",
       "24        TIOTROPIO\n",
       "25     FEXOFENADINA\n",
       "59       SALBUTAMOL\n",
       "79        BILASTINA\n",
       "81     BENRALIZUMAB\n",
       "144      MOMETASONA\n",
       "292     MEPOLIZUMAB\n",
       "537    PREDNISOLONA\n",
       "Name: Categoria, dtype: object"
      ]
     },
     "execution_count": 151,
     "metadata": {},
     "output_type": "execute_result"
    }
   ],
   "source": [
    "medicamentos.Categoria.drop_duplicates()"
   ]
  },
  {
   "cell_type": "code",
   "execution_count": 26,
   "metadata": {},
   "outputs": [],
   "source": [
    "\n",
    "_base_=procesa_medicamentos_df(columna=\"Categoria\",NombreAdherencia=\"BUDESONIDA\")\n",
    "    "
   ]
  },
  {
   "cell_type": "code",
   "execution_count": 27,
   "metadata": {},
   "outputs": [
    {
     "data": {
      "text/plain": [
       "[<matplotlib.lines.Line2D at 0x7f55609ff8b0>]"
      ]
     },
     "execution_count": 27,
     "metadata": {},
     "output_type": "execute_result"
    },
    {
     "data": {
      "image/png": "[encoded data removed]",
      "text/plain": [
       "<Figure size 432x288 with 1 Axes>"
      ]
     },
     "metadata": {
      "needs_background": "light"
     },
     "output_type": "display_data"
    }
   ],
   "source": [
    "#_base_.columns\n",
    "\n",
    "plt.figure()\n",
    "x=_base_.NUMERO_CANTIDAD_PRESTACIONES\n",
    "y=_base_.TiempoEntreFormulas\n",
    "plt.scatter(x,y)\n",
    "plt.xlabel(\"Number prescribed\")\n",
    "plt.ylabel(\"Time between refills (days)\")\n",
    "filtro=(-np.isnan(x))&(-np.isnan(y))\n",
    "z = np.polyfit(x[filtro], y[filtro], 1)\n",
    "p = np.poly1d(z)\n",
    "plt.plot(x,p(x),\"r--\")"
   ]
  },
  {
   "cell_type": "code",
   "execution_count": null,
   "metadata": {},
   "outputs": [],
   "source": []
  },
  {
   "cell_type": "code",
   "execution_count": 28,
   "metadata": {},
   "outputs": [],
   "source": [
    "reg=LinearRegression().fit(x[filtro].values.reshape(-1, 1), y[filtro].values.reshape(-1, 1))\n"
   ]
  },
  {
   "cell_type": "code",
   "execution_count": 29,
   "metadata": {},
   "outputs": [
    {
     "data": {
      "text/plain": [
       "array([[0.15484238]])"
      ]
     },
     "execution_count": 29,
     "metadata": {},
     "output_type": "execute_result"
    }
   ],
   "source": [
    "reg.coef_"
   ]
  },
  {
   "cell_type": "code",
   "execution_count": 30,
   "metadata": {},
   "outputs": [
    {
     "data": {
      "text/plain": [
       "array([66.62331504])"
      ]
     },
     "execution_count": 30,
     "metadata": {},
     "output_type": "execute_result"
    }
   ],
   "source": [
    "reg.intercept_"
   ]
  },
  {
   "cell_type": "code",
   "execution_count": 142,
   "metadata": {},
   "outputs": [
    {
     "data": {
      "text/plain": [
       "2           1.0\n",
       "10          1.0\n",
       "11          1.0\n",
       "13          1.0\n",
       "16          1.0\n",
       "          ...  \n",
       "109435    120.0\n",
       "109515    120.0\n",
       "109535    120.0\n",
       "109553    150.0\n",
       "109583    180.0\n",
       "Name: NUMERO_CANTIDAD_PRESTACIONES, Length: 11940, dtype: float64"
      ]
     },
     "execution_count": 142,
     "metadata": {},
     "output_type": "execute_result"
    }
   ],
   "source": []
  },
  {
   "cell_type": "code",
   "execution_count": 9,
   "metadata": {},
   "outputs": [],
   "source": [
    "adherencia=pd.read_excel(\"/mnt/Storage/ds4a/Proyecto Omnivida/datos originales/Adherencia.xlsx\")"
   ]
  },
  {
   "cell_type": "code",
   "execution_count": 16,
   "metadata": {},
   "outputs": [],
   "source": [
    "adherencia[\"mm\"]=1\n",
    "adherencia[\"NUMERO_CANTIDAD_PRESTACIONES\"]=1\n",
    "adherencia[\"FECHA_EMISION\"]=adherencia[\"FE_ENTREVISTA\"]\n",
    "adherencia[\"ID_PACIENTE\"]=adherencia['ds_identificacion']\n",
    "\n",
    "\n",
    "\n"
   ]
  },
  {
   "cell_type": "code",
   "execution_count": 18,
   "metadata": {},
   "outputs": [],
   "source": [
    "abc=procesa_medicamentos_df(base_med=adherencia,columna=\"mm\",NombreAdherencia=1)"
   ]
  },
  {
   "cell_type": "code",
   "execution_count": 19,
   "metadata": {},
   "outputs": [],
   "source": [
    "abc.to_excel(\"Adherecnia_dias.xlsx\")"
   ]
  },
  {
   "cell_type": "code",
   "execution_count": 23,
   "metadata": {},
   "outputs": [
    {
     "data": {
      "text/plain": [
       "(array([3.10e+03, 8.26e+02, 2.92e+02, 1.17e+02, 4.20e+01, 2.00e+01,\n",
       "        1.00e+01, 5.00e+00, 2.00e+00, 4.00e+00]),\n",
       " array([1.0000e+00, 2.3390e+02, 4.6680e+02, 6.9970e+02, 9.3260e+02,\n",
       "        1.1655e+03, 1.3984e+03, 1.6313e+03, 1.8642e+03, 2.0971e+03,\n",
       "        2.3300e+03]),\n",
       " <a list of 10 Patch objects>)"
      ]
     },
     "execution_count": 23,
     "metadata": {},
     "output_type": "execute_result"
    },
    {
     "data": {
      "image/png": "[encoded data removed]",
      "text/plain": [
       "<Figure size 432x288 with 1 Axes>"
      ]
     },
     "metadata": {
      "needs_background": "light"
     },
     "output_type": "display_data"
    }
   ],
   "source": [
    "plt.hist(abc[~pd.isna(abc[\"TiempoEntreFormulas\"])][\"TiempoEntreFormulas\"])"
   ]
  },
  {
   "cell_type": "code",
   "execution_count": 24,
   "metadata": {},
   "outputs": [],
   "source": [
    "abc2=abc[abc[\"TiempoEntreFormulas\"]<361]"
   ]
  },
  {
   "cell_type": "code",
   "execution_count": 25,
   "metadata": {},
   "outputs": [
    {
     "data": {
      "text/plain": [
       "205.75350837483023"
      ]
     },
     "execution_count": 25,
     "metadata": {},
     "output_type": "execute_result"
    }
   ],
   "source": [
    "abc[\"TiempoEntreFormulas\"].mean()"
   ]
  },
  {
   "cell_type": "code",
   "execution_count": 26,
   "metadata": {},
   "outputs": [
    {
     "data": {
      "text/plain": [
       "117.2450495049505"
      ]
     },
     "execution_count": 26,
     "metadata": {},
     "output_type": "execute_result"
    }
   ],
   "source": [
    "abc2[\"TiempoEntreFormulas\"].mean()"
   ]
  },
  {
   "cell_type": "code",
   "execution_count": 27,
   "metadata": {},
   "outputs": [
    {
     "data": {
      "text/plain": [
       "(array([853., 660., 529., 431., 277., 244., 214., 173., 131., 124.]),\n",
       " array([  1. ,  36.9,  72.8, 108.7, 144.6, 180.5, 216.4, 252.3, 288.2,\n",
       "        324.1, 360. ]),\n",
       " <a list of 10 Patch objects>)"
      ]
     },
     "execution_count": 27,
     "metadata": {},
     "output_type": "execute_result"
    },
    {
     "data": {
      "image/png": "[encoded data removed]",
      "text/plain": [
       "<Figure size 432x288 with 1 Axes>"
      ]
     },
     "metadata": {
      "needs_background": "light"
     },
     "output_type": "display_data"
    }
   ],
   "source": [
    "plt.hist(abc2[~pd.isna(abc2[\"TiempoEntreFormulas\"])][\"TiempoEntreFormulas\"])"
   ]
  }
 ],
 "metadata": {
  "kernelspec": {
   "display_name": "Python 3",
   "language": "python",
   "name": "python3"
  },
  "language_info": {
   "codemirror_mode": {
    "name": "ipython",
    "version": 3
   },
   "file_extension": ".py",
   "mimetype": "text/x-python",
   "name": "python",
   "nbconvert_exporter": "python",
   "pygments_lexer": "ipython3",
   "version": "3.8.2"
  }
 },
 "nbformat": 4,
 "nbformat_minor": 4
}
