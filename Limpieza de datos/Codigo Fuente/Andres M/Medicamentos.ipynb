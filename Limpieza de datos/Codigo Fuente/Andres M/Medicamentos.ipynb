{
 "cells": [
  {
   "cell_type": "code",
   "execution_count": 113,
   "metadata": {},
   "outputs": [],
   "source": [
    "### Limpieza del Archivo de Medicamentos, incluye calculos de variables necesarias para \n",
    "### calcular la adherencia"
   ]
  },
  {
   "cell_type": "code",
   "execution_count": 114,
   "metadata": {},
   "outputs": [],
   "source": [
    "import pandas as pd\n",
    "from datetime import timedelta\n",
    "from sklearn.experimental import enable_iterative_imputer\n",
    "from sklearn.impute import IterativeImputer,MissingIndicator \n",
    "\n",
    "medicamentos=pd.read_excel(\"../datos originales/Medicamentos.xlsx\")"
   ]
  },
  {
   "cell_type": "code",
   "execution_count": 115,
   "metadata": {},
   "outputs": [],
   "source": [
    "### Renombramiento de columnas segun el estilo acordado\n",
    "\n"
   ]
  },
  {
   "cell_type": "code",
   "execution_count": 116,
   "metadata": {},
   "outputs": [],
   "source": [
    "medicamentos.columns=[x.upper() for x in medicamentos.columns ]\n",
    "medicamentos.rename(columns={\"ID\":\"ID_PACIENTE\"},inplace=True)\n",
    "medicamentos.rename(columns={\"DESCRIPCION_PRESTACION\":\"NOMBRE_MEDICAMENTO\"},inplace=True)"
   ]
  },
  {
   "cell_type": "code",
   "execution_count": 117,
   "metadata": {},
   "outputs": [
    {
     "output_type": "execute_result",
     "data": {
      "text/plain": "Index(['ID_PACIENTE', 'FECHA_EMISION', 'REGIONAL_EPS_DESC',\n       'CODIGO_PRESTACION_OP', 'NOMBRE_MEDICAMENTO',\n       'CODIGO_DIAGNOSTICO_EPS_OP', 'DIAGNOSTICO_EPS_DESC',\n       'NUMERO_CANTIDAD_PRESTACIONES'],\n      dtype='object')"
     },
     "metadata": {},
     "execution_count": 117
    }
   ],
   "source": [
    "medicamentos.columns"
   ]
  },
  {
   "cell_type": "code",
   "execution_count": 118,
   "metadata": {
    "tags": []
   },
   "outputs": [
    {
     "output_type": "stream",
     "name": "stdout",
     "text": "1267\n0\n0\n"
    }
   ],
   "source": [
    "### Revision Columnas\n",
    "\n",
    "## ID Paciente\n",
    "print(medicamentos.ID_PACIENTE.drop_duplicates().count())\n",
    "print(medicamentos.ID_PACIENTE.isna().sum())\n",
    "print(medicamentos.ID_PACIENTE.isnull().sum())"
   ]
  },
  {
   "cell_type": "code",
   "execution_count": 119,
   "metadata": {
    "tags": []
   },
   "outputs": [
    {
     "output_type": "stream",
     "name": "stdout",
     "text": "2016-12-01 00:00:00\n2020-05-18 00:00:00\n0\n0\n"
    }
   ],
   "source": [
    "### Fecha Emision\n",
    "\n",
    "medicamentos.FECHA_EMISION=pd.to_datetime(medicamentos.FECHA_EMISION)\n",
    "print(medicamentos.FECHA_EMISION.min())\n",
    "print(medicamentos.FECHA_EMISION.max())\n",
    "print(medicamentos.FECHA_EMISION.isna().sum())\n",
    "print(medicamentos.FECHA_EMISION.isnull().sum())"
   ]
  },
  {
   "cell_type": "code",
   "execution_count": 120,
   "metadata": {},
   "outputs": [
    {
     "output_type": "execute_result",
     "data": {
      "text/plain": "0           Medellin\n7       Barranquilla\n19            Bogota\n59              Cali\n67         Manizales\n148          Armenia\n249          Pereira\n5628       Cartagena\nName: REGIONAL_EPS_DESC, dtype: object"
     },
     "metadata": {},
     "execution_count": 120
    }
   ],
   "source": [
    "### Regional Eps Descr\n",
    "\n",
    "medicamentos.REGIONAL_EPS_DESC.drop_duplicates()"
   ]
  },
  {
   "cell_type": "code",
   "execution_count": 121,
   "metadata": {},
   "outputs": [
    {
     "output_type": "execute_result",
     "data": {
      "text/plain": "0"
     },
     "metadata": {},
     "execution_count": 121
    }
   ],
   "source": [
    "### Codigo de presptacion OP\n",
    "\n",
    "medicamentos.CODIGO_PRESTACION_OP.drop_duplicates().count()\n",
    "medicamentos.CODIGO_PRESTACION_OP.isna().sum()\n",
    "medicamentos.CODIGO_PRESTACION_OP.isnull().sum()\n",
    "## 1491"
   ]
  },
  {
   "cell_type": "code",
   "execution_count": 122,
   "metadata": {
    "tags": []
   },
   "outputs": [
    {
     "output_type": "stream",
     "name": "stdout",
     "text": "978\n0\n0\n"
    }
   ],
   "source": [
    "### Descricion prestacion/Nombre del Medicamento \n",
    "\n",
    "##'CODIGO_DIAGNOSTICO_EPS_OP', 'DIAGNOSTICO_EPS_DESC',\n",
    "##       'NUMERO_CANTIDAD_PRESTACIONES']\n",
    "\n",
    "print(medicamentos.NOMBRE_MEDICAMENTO.drop_duplicates().count())\n",
    "print(medicamentos.NOMBRE_MEDICAMENTO.isna().sum())\n",
    "print(medicamentos.NOMBRE_MEDICAMENTO.isnull().sum())"
   ]
  },
  {
   "cell_type": "code",
   "execution_count": 123,
   "metadata": {
    "tags": []
   },
   "outputs": [
    {
     "output_type": "stream",
     "name": "stdout",
     "text": "1187\n0\n0\n"
    },
    {
     "output_type": "execute_result",
     "data": {
      "text/plain": "0    L309\n1    J304\n2    D848\n3    N760\n4    Z929\nName: CODIGO_DIAGNOSTICO_EPS_OP, dtype: object"
     },
     "metadata": {},
     "execution_count": 123
    }
   ],
   "source": [
    "### CODIGO_DIAGNOSTICO EPS\n",
    "\n",
    "print(medicamentos.CODIGO_DIAGNOSTICO_EPS_OP.drop_duplicates().count())\n",
    "print(medicamentos.CODIGO_DIAGNOSTICO_EPS_OP.isna().sum())\n",
    "print(medicamentos.CODIGO_DIAGNOSTICO_EPS_OP.isnull().sum())\n",
    "medicamentos.CODIGO_DIAGNOSTICO_EPS_OP.head()\n"
   ]
  },
  {
   "cell_type": "code",
   "execution_count": 124,
   "metadata": {
    "tags": []
   },
   "outputs": [
    {
     "output_type": "stream",
     "name": "stdout",
     "text": "1370\n0\n0\n"
    },
    {
     "output_type": "execute_result",
     "data": {
      "text/plain": "ASMA PREDOMINANTEMENTE ALÉRGICA                            21149\nASMA, NO ESPECIFICADA                                      11032\nHIPERTENSIÓN ESENCIAL (PRIMARIA)                           10415\nRINITIS ALÉRGICA, NO ESPECIFICADA                           5300\nHISTORIA PERSONAL DE TRATAMIENTO MÉDICO NO ESPECIFICADO     4616\nURTICARIA, NO ESPECIFICADA                                  3015\nOTRAS URTICARIAS                                            2421\nURTICARIA IDIOPÁTICA                                        1600\nASMA PREDOMINANTEMENTE AL?RGICA                             1469\nHIPOTIROIDISMO, NO ESPECIFICADO                             1439\nName: DIAGNOSTICO_EPS_DESC, dtype: int64"
     },
     "metadata": {},
     "execution_count": 124
    }
   ],
   "source": [
    "## Diagnostico Hipertension parece ser Rinitis Alergica y Urticaria\n",
    "\n",
    "print(medicamentos.DIAGNOSTICO_EPS_DESC.drop_duplicates().count())\n",
    "print(medicamentos.DIAGNOSTICO_EPS_DESC.isna().sum())\n",
    "print(medicamentos.DIAGNOSTICO_EPS_DESC.isnull().sum())\n",
    "medicamentos.DIAGNOSTICO_EPS_DESC.value_counts().head(10)"
   ]
  },
  {
   "cell_type": "code",
   "execution_count": 125,
   "metadata": {
    "scrolled": true,
    "tags": []
   },
   "outputs": [
    {
     "output_type": "stream",
     "name": "stdout",
     "text": "1253\n1253\n"
    },
    {
     "output_type": "execute_result",
     "data": {
      "text/plain": "min   2020-01-20\nmax   2020-01-27\nName: FECHA_EMISION, dtype: datetime64[ns]"
     },
     "metadata": {},
     "execution_count": 125
    }
   ],
   "source": [
    "print(medicamentos.NUMERO_CANTIDAD_PRESTACIONES.isna().sum())\n",
    "print(medicamentos.NUMERO_CANTIDAD_PRESTACIONES.isnull().sum())\n",
    "\n",
    "medicamentos[medicamentos.NUMERO_CANTIDAD_PRESTACIONES.isna()].FECHA_EMISION.agg([\"min\",\"max\"])\n",
    "### Numerp de cantidad de prestaciones debe ser imputado para esta columna, poner comentario de imputación "
   ]
  },
  {
   "cell_type": "code",
   "execution_count": 126,
   "metadata": {},
   "outputs": [
    {
     "output_type": "execute_result",
     "data": {
      "text/plain": "Medellin        2233\nBogota           110\nManizales        107\nCali              95\nBarranquilla      94\nPereira           40\nArmenia           28\nName: REGIONAL_EPS_DESC, dtype: int64"
     },
     "metadata": {},
     "execution_count": 126
    }
   ],
   "source": [
    "medicamentos[(medicamentos.FECHA_EMISION>=pd.to_datetime(\"2020-01-20\"))&(medicamentos.FECHA_EMISION<=pd.to_datetime(\"2020-01-27\"))].REGIONAL_EPS_DESC.value_counts()"
   ]
  },
  {
   "cell_type": "code",
   "execution_count": 127,
   "metadata": {},
   "outputs": [],
   "source": [
    "### Las siguientes columnas de procesamiento y limpieza se deben añadir: Imputacion del campo NUMERO_CANTIDAD_PRESTACIONES\n",
    "### Una Dummy que indique si hay imputacion en el anterior\n",
    "### una columna de agrupamiento de los medicamentos que nos interesan\n",
    "\n",
    "## Dejar listo para los script que crean las bases a discutir\n",
    "\n"
   ]
  },
  {
   "cell_type": "code",
   "execution_count": 128,
   "metadata": {},
   "outputs": [],
   "source": [
    "medicamentos.columns\n",
    "medicamentos=medicamentos.groupby([\"ID_PACIENTE\",'FECHA_EMISION','CODIGO_PRESTACION_OP']).agg(\"max\").reset_index()"
   ]
  },
  {
   "cell_type": "code",
   "execution_count": 129,
   "metadata": {},
   "outputs": [],
   "source": [
    "def dum_sign(dummy_col, threshold=0.1):\n",
    "\n",
    "    # removes the bind\n",
    "    dummy_col = dummy_col.copy()\n",
    "\n",
    "    # what is the ratio of a dummy in whole column\n",
    "    count = pd.value_counts(dummy_col) / len(dummy_col)\n",
    "\n",
    "    # cond whether the ratios is higher than the threshold\n",
    "    mask = dummy_col.isin(count[count > threshold].index)\n",
    "\n",
    "    # replace the ones which ratio is lower than the threshold by a special name\n",
    "    dummy_col[~mask] = \"others\"\n",
    "\n",
    "    return pd.get_dummies(dummy_col, prefix=dummy_col.name)\n",
    "\n",
    "\n",
    "\n",
    "#medicamentos2=pd.get_dummies(medicamentos)\n",
    "#medicamentos2.FECHA_EMISION=medicamentos2.FECHA_EMISION.apply(lambda x: x.timestamp())\n",
    "\n",
    "#medicamentos2.sum(axis=1)\n",
    "\n",
    "#medicamentos_imputed=IterativeImputer(random_state=141854)\n",
    "#medicamentos_imputed.fit_transform(medicamentos2)"
   ]
  },
  {
   "cell_type": "code",
   "execution_count": 130,
   "metadata": {},
   "outputs": [],
   "source": [
    "medicamentos.columns\n",
    "\n",
    "dum_reg=pd.get_dummies(medicamentos.REGIONAL_EPS_DESC)\n",
    "dum_medicamento=dum_sign(medicamentos.NOMBRE_MEDICAMENTO,0.01)\n",
    "dum_diag=dum_sign(medicamentos.DIAGNOSTICO_EPS_DESC,0.01)\n",
    "\n",
    "aver=pd.concat([dum_reg,dum_medicamento,dum_diag,\n",
    "                medicamentos.FECHA_EMISION.apply(lambda x: x.timestamp()),\n",
    "                medicamentos.NUMERO_CANTIDAD_PRESTACIONES],axis=1)\n",
    "\n",
    "medicamentos_imputed=IterativeImputer(random_state=141854)\n",
    "sal=medicamentos_imputed.fit_transform(aver)"
   ]
  },
  {
   "cell_type": "code",
   "execution_count": 131,
   "metadata": {},
   "outputs": [],
   "source": [
    "medicamentos[\"NumeroCantidadPrestacionesImputado\"]=sal[:,-1]"
   ]
  },
  {
   "cell_type": "code",
   "execution_count": 132,
   "metadata": {},
   "outputs": [],
   "source": [
    "medicamentos[\"NumeroCantidadPrestacionesImputadoInd\"]=pd.isna(medicamentos.NUMERO_CANTIDAD_PRESTACIONES).astype(int)"
   ]
  },
  {
   "cell_type": "code",
   "execution_count": 133,
   "metadata": {},
   "outputs": [
    {
     "output_type": "execute_result",
     "data": {
      "text/plain": "Empty DataFrame\nColumns: [ID_PACIENTE, FECHA_EMISION, CODIGO_PRESTACION_OP, REGIONAL_EPS_DESC, NOMBRE_MEDICAMENTO, CODIGO_DIAGNOSTICO_EPS_OP, DIAGNOSTICO_EPS_DESC, NUMERO_CANTIDAD_PRESTACIONES, NumeroCantidadPrestacionesImputado, NumeroCantidadPrestacionesImputadoInd]\nIndex: []",
      "text/html": "<div>\n<style scoped>\n    .dataframe tbody tr th:only-of-type {\n        vertical-align: middle;\n    }\n\n    .dataframe tbody tr th {\n        vertical-align: top;\n    }\n\n    .dataframe thead th {\n        text-align: right;\n    }\n</style>\n<table border=\"1\" class=\"dataframe\">\n  <thead>\n    <tr style=\"text-align: right;\">\n      <th></th>\n      <th>ID_PACIENTE</th>\n      <th>FECHA_EMISION</th>\n      <th>CODIGO_PRESTACION_OP</th>\n      <th>REGIONAL_EPS_DESC</th>\n      <th>NOMBRE_MEDICAMENTO</th>\n      <th>CODIGO_DIAGNOSTICO_EPS_OP</th>\n      <th>DIAGNOSTICO_EPS_DESC</th>\n      <th>NUMERO_CANTIDAD_PRESTACIONES</th>\n      <th>NumeroCantidadPrestacionesImputado</th>\n      <th>NumeroCantidadPrestacionesImputadoInd</th>\n    </tr>\n  </thead>\n  <tbody>\n  </tbody>\n</table>\n</div>"
     },
     "metadata": {},
     "execution_count": 133
    }
   ],
   "source": [
    "medicamentos[medicamentos.NumeroCantidadPrestacionesImputadoInd==1]"
   ]
  },
  {
   "cell_type": "code",
   "execution_count": 134,
   "metadata": {},
   "outputs": [],
   "source": [
    "## El objetivo de estos script es crear los casos de observación de adherencia. \n",
    "## La metodologia consiste en ver si existe otra entrega de medicación cercana al dia final \n",
    "## para las entregas de medicacion (un delta de 5 dias es posible)\n",
    "## Existen casos y lecturas que complican la situación se puede añadir una lectura de \"seguridad\"\n",
    "## que es 1 si el medicamento es el mismo o 0 si solo existe otro medicamento."
   ]
  },
  {
   "cell_type": "code",
   "execution_count": 135,
   "metadata": {},
   "outputs": [],
   "source": [
    "diagnosticos=pd.read_excel(\"Diagnostico.xlsx\")\n",
    "diagnosticos.drop(columns=\"Unnamed: 0\",inplace=True)"
   ]
  },
  {
   "cell_type": "code",
   "execution_count": 136,
   "metadata": {},
   "outputs": [],
   "source": [
    "medicamentos=medicamentos.merge(diagnosticos,how=\"left\")"
   ]
  },
  {
   "cell_type": "code",
   "execution_count": 137,
   "metadata": {},
   "outputs": [],
   "source": [
    "tipo_med=pd.read_excel(\"Unico_Medicamento.xlsx\")"
   ]
  },
  {
   "cell_type": "code",
   "execution_count": 138,
   "metadata": {},
   "outputs": [
    {
     "output_type": "execute_result",
     "data": {
      "text/plain": "Index(['NOMBRE_MEDICAMENTO', 'Categoria', 'Tratamiento'], dtype='object')"
     },
     "metadata": {},
     "execution_count": 138
    }
   ],
   "source": [
    "tipo_med.columns"
   ]
  },
  {
   "cell_type": "code",
   "execution_count": 139,
   "metadata": {},
   "outputs": [],
   "source": [
    "medicamentos=medicamentos.merge(tipo_med,how=\"left\")"
   ]
  },
  {
   "cell_type": "code",
   "execution_count": 140,
   "metadata": {
    "tags": []
   },
   "outputs": [
    {
     "output_type": "stream",
     "name": "stdout",
     "text": "(108086, 13)\nIndex(['ID_PACIENTE', 'FECHA_EMISION', 'CODIGO_PRESTACION_OP',\n       'REGIONAL_EPS_DESC', 'NOMBRE_MEDICAMENTO', 'CODIGO_DIAGNOSTICO_EPS_OP',\n       'DIAGNOSTICO_EPS_DESC', 'NUMERO_CANTIDAD_PRESTACIONES',\n       'NumeroCantidadPrestacionesImputado',\n       'NumeroCantidadPrestacionesImputadoInd', 'DiagnosticoAgrupadoRel',\n       'Categoria', 'Tratamiento'],\n      dtype='object')\n"
    }
   ],
   "source": [
    "print(medicamentos.shape)\n",
    "print(medicamentos.columns)\n"
   ]
  },
  {
   "cell_type": "code",
   "execution_count": 141,
   "metadata": {},
   "outputs": [],
   "source": [
    "medicamentos.to_excel(\"medicamentos_limpio_19jun.xlsx\")"
   ]
  },
  {
   "cell_type": "code",
   "execution_count": null,
   "metadata": {},
   "outputs": [],
   "source": []
  }
 ],
 "metadata": {
  "kernelspec": {
   "display_name": "Python 3",
   "language": "python",
   "name": "python3"
  },
  "language_info": {
   "codemirror_mode": {
    "name": "ipython",
    "version": 3
   },
   "file_extension": ".py",
   "mimetype": "text/x-python",
   "name": "python",
   "nbconvert_exporter": "python",
   "pygments_lexer": "ipython3",
   "version": "3.8.2-final"
  }
 },
 "nbformat": 4,
 "nbformat_minor": 4
}