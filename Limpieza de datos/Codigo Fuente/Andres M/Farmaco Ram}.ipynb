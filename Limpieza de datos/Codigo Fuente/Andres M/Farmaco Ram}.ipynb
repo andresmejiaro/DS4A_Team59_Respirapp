{
 "cells": [
  {
   "cell_type": "code",
   "execution_count": 2,
   "metadata": {},
   "outputs": [],
   "source": [
    "### Limpieza del Archivo de Farmacovigilancia RAM"
   ]
  },
  {
   "cell_type": "code",
   "execution_count": 3,
   "metadata": {},
   "outputs": [],
   "source": [
    "import pandas as pd\n",
    "from datetime import timedelta\n",
    "from sklearn.experimental import enable_iterative_imputer\n",
    "from sklearn.impute import IterativeImputer,MissingIndicator \n",
    "\n",
    "Farmaco_RAM=pd.read_excel(\"../datos originales/Farmacovigilancia RAM.xlsx\")"
   ]
  },
  {
   "cell_type": "code",
   "execution_count": 4,
   "metadata": {},
   "outputs": [
    {
     "output_type": "execute_result",
     "data": {
      "text/plain": "Index(['FECHA_NOTIFICACION', 'DEPARTAMENTO', 'MUNICIPIO', 'EPS', 'ETNIA',\n       'FECHA_NACIMIENTO', 'EDAD', 'TIPO_IDENTIFICACION', 'NRO_IDENTIFICACION',\n       'SEXO', 'PESO', 'ESTATURA', 'DIAGNOSTICO_PPAL_CONDICIONES_CLINICAS',\n       'MEDICAMENTO_SOSPECHOSO', 'INDICACION', 'FECHA_INICIO_TRATAMIENTO',\n       'FECHA_FIN_TRATAMIENTO', 'COMERCIAL', 'FECHA_INICIO_REACCION',\n       'RAM_SOSPECHADA', 'SISTEMA_COMPROMETIDO', 'ANALISIS', 'EVOLUCION',\n       'SERIEDAD', 'EVENTO_PRESENTO_DESPUES_ADMINISTRAR_MEDICAMENTO',\n       'EXISTEN_OTROS_FACTORES_PUEDAN_EXPLICAR_EVENTO',\n       'EVENTO_DESAPARECIO_DISMINUIR_SUSP_MED',\n       'PACIENTE_HABIA_PRESENTADO_MISMA_REACION_MEDIC',\n       'CAUSALIDAD_SEGUN_ALGORITMO_DE_NARANJO', 'EVITABILIDAD', 'GRAVEDAD',\n       'DS_PLAN_INTERVENCION'],\n      dtype='object')"
     },
     "metadata": {},
     "execution_count": 4
    }
   ],
   "source": [
    "### Renombramiento de columnas segun el estilo acordado\n",
    "\n",
    "Farmaco_RAM.columns"
   ]
  },
  {
   "cell_type": "code",
   "execution_count": 5,
   "metadata": {},
   "outputs": [],
   "source": [
    "Farmaco_RAM.rename(columns={\"NRO_IDENTIFICACION\":\"ID_PACIENTE\"},inplace=True)\n"
   ]
  },
  {
   "cell_type": "code",
   "execution_count": null,
   "metadata": {},
   "outputs": [],
   "source": []
  },
  {
   "cell_type": "code",
   "execution_count": 6,
   "metadata": {
    "tags": []
   },
   "outputs": [
    {
     "output_type": "stream",
     "name": "stdout",
     "text": "217\n0\n0\n"
    }
   ],
   "source": [
    "### Revision Columnas\n",
    "\n",
    "## ID Paciente\n",
    "print(Farmaco_RAM.ID_PACIENTE.drop_duplicates().count())\n",
    "print(Farmaco_RAM.ID_PACIENTE.isna().sum())\n",
    "print(Farmaco_RAM.ID_PACIENTE.isnull().sum())"
   ]
  },
  {
   "cell_type": "code",
   "execution_count": 7,
   "metadata": {
    "tags": []
   },
   "outputs": [
    {
     "output_type": "stream",
     "name": "stdout",
     "text": "2013-03-05 00:00:00\n2020-05-06 00:00:00\n0\n0\n"
    }
   ],
   "source": [
    "### Fechas\n",
    "\n",
    "Farmaco_RAM.FECHA_NOTIFICACION=pd.to_datetime(Farmaco_RAM.FECHA_NOTIFICACION)\n",
    "Farmaco_RAM.FECHA_NACIMIENTO=pd.to_datetime(Farmaco_RAM.FECHA_NACIMIENTO)\n",
    "Farmaco_RAM.FECHA_INICIO_TRATAMIENTO=pd.to_datetime(Farmaco_RAM.FECHA_INICIO_TRATAMIENTO)\n",
    "Farmaco_RAM.FECHA_FIN_TRATAMIENTO=pd.to_datetime(Farmaco_RAM.FECHA_FIN_TRATAMIENTO)\n",
    "Farmaco_RAM.FECHA_INICIO_REACCION=pd.to_datetime(Farmaco_RAM.FECHA_INICIO_REACCION)\n",
    "print(Farmaco_RAM.FECHA_NOTIFICACION.min())\n",
    "print(Farmaco_RAM.FECHA_NOTIFICACION.max())\n",
    "print(Farmaco_RAM.FECHA_NOTIFICACION.isna().sum())\n",
    "print(Farmaco_RAM.FECHA_NOTIFICACION.isnull().sum())"
   ]
  },
  {
   "cell_type": "code",
   "execution_count": 8,
   "metadata": {},
   "outputs": [],
   "source": [
    "### ID Caso debido a que un caso se va a separar en varias columnas\n",
    "\n",
    "Farmaco_RAM=Farmaco_RAM.reset_index()\n",
    "Farmaco_RAM.rename(columns={\"index\":\"ID_RAM\"},inplace=True)"
   ]
  },
  {
   "cell_type": "code",
   "execution_count": 9,
   "metadata": {},
   "outputs": [],
   "source": [
    "### Separecion de Diagnostico principal condiciones clinicas en una fila por cada condicion \n",
    "\n",
    "Diagnosticos=Farmaco_RAM.DIAGNOSTICO_PPAL_CONDICIONES_CLINICAS.str.split(\"/\",n=36,expand=True)\n",
    "Unida=pd.concat([Farmaco_RAM,Diagnosticos],axis=1)"
   ]
  },
  {
   "cell_type": "code",
   "execution_count": 10,
   "metadata": {
    "tags": []
   },
   "outputs": [],
   "source": [
    "\n",
    "Fijas=Unida.columns[-36:]\n",
    "Mover=Unida.columns[:-36]\n",
    "Unida=Unida.melt(id_vars=Mover,value_name=\"DiagnosticoPpalCondicionesClinicas\",var_name=\"NumDiagnostico\")\n",
    "Unida=Unida[~pd.isna(Unida[\"DiagnosticoPpalCondicionesClinicas\"])]\n"
   ]
  },
  {
   "cell_type": "code",
   "execution_count": 11,
   "metadata": {},
   "outputs": [],
   "source": [
    "## Indicacion y Diagnostico Separar el código de la Indicación/Diagnostico\n",
    "\n",
    "abc=Unida.DiagnosticoPpalCondicionesClinicas.str.rsplit(\"[\",expand=True,n=1)\n",
    "abc[0]=abc[0].str.strip()\n",
    "abc[1]=abc[1].str.replace(\"]\",\"\").str.strip()\n",
    "abc.columns=[\"DiagnosticoPpalCondicionesClinicas\",\"DiagnosticoPpalCondicionesClinicasCodigo\"]\n",
    "Unida.drop(columns=\"DiagnosticoPpalCondicionesClinicas\",inplace=True)\n",
    "Unida=pd.concat([Unida,abc],axis=1)\n",
    "\n",
    "\n",
    "\n",
    "abc=Unida.INDICACION.str.rsplit(\"[\",expand=True,n=1)\n",
    "abc[0]=abc[0].str.strip()\n",
    "abc[1]=abc[1].str.replace(\"]\",\"\").str.strip()\n",
    "abc.columns=[\"Indicacion\",\"IndicacionCodigo\"]\n",
    "Unida=pd.concat([Unida,abc],axis=1)\n",
    "Farmaco_RAM=Unida\n"
   ]
  },
  {
   "cell_type": "code",
   "execution_count": 12,
   "metadata": {},
   "outputs": [],
   "source": [
    "Farmaco_RAM.to_excel(\"Farmaco_RAM_limpia_18_jun.xlsx\")"
   ]
  },
  {
   "cell_type": "code",
   "execution_count": null,
   "metadata": {},
   "outputs": [],
   "source": []
  }
 ],
 "metadata": {
  "kernelspec": {
   "display_name": "Python 3",
   "language": "python",
   "name": "python3"
  },
  "language_info": {
   "codemirror_mode": {
    "name": "ipython",
    "version": 3
   },
   "file_extension": ".py",
   "mimetype": "text/x-python",
   "name": "python",
   "nbconvert_exporter": "python",
   "pygments_lexer": "ipython3",
   "version": "3.8.2-final"
  }
 },
 "nbformat": 4,
 "nbformat_minor": 4
}