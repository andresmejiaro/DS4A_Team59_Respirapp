{
 "cells": [
  {
   "cell_type": "code",
   "execution_count": 1,
   "metadata": {},
   "outputs": [],
   "source": [
    "import pandas as pd\n",
    "import numpy as np\n",
    "import matplotlib.pyplot as plt\n",
    "import seaborn as sns"
   ]
  },
  {
   "cell_type": "markdown",
   "metadata": {},
   "source": [
    "En este archivo se exploran las siguientes tres bases de datos:\n",
    "* ACT\n",
    "* ACT_DESAGREGADO\n",
    "* DISNEA"
   ]
  },
  {
   "cell_type": "code",
   "execution_count": 70,
   "metadata": {},
   "outputs": [
    {
     "name": "stdout",
     "output_type": "stream",
     "text": [
      "-------------DF ACT\n",
      "<class 'pandas.core.frame.DataFrame'>\n",
      "RangeIndex: 15090 entries, 0 to 15089\n",
      "Data columns (total 5 columns):\n",
      " #   Column        Non-Null Count  Dtype         \n",
      "---  ------        --------------  -----         \n",
      " 0   ID            15090 non-null  int64         \n",
      " 1   DS_NOMBRE     15090 non-null  object        \n",
      " 2   NM_PUNTAJE    15090 non-null  int64         \n",
      " 3   DS_RESULTADO  15090 non-null  object        \n",
      " 4   FE_RESULTADO  15090 non-null  datetime64[ns]\n",
      "dtypes: datetime64[ns](1), int64(2), object(2)\n",
      "memory usage: 589.6+ KB\n",
      "\n",
      "\n",
      "-------------DF ACT DESAGREGADO\n",
      "<class 'pandas.core.frame.DataFrame'>\n",
      "RangeIndex: 8602 entries, 0 to 8601\n",
      "Data columns (total 5 columns):\n",
      " #   Column                 Non-Null Count  Dtype         \n",
      "---  ------                 --------------  -----         \n",
      " 0   NUMERO IDENTIFICACION  8602 non-null   int64         \n",
      " 1   NOMBRE ENCUESTA        8602 non-null   object        \n",
      " 2   PREGUNTA               8602 non-null   object        \n",
      " 3   RESPUESTA              8602 non-null   object        \n",
      " 4   FE_RESULTADO           8602 non-null   datetime64[ns]\n",
      "dtypes: datetime64[ns](1), int64(1), object(3)\n",
      "memory usage: 336.1+ KB\n",
      "-------------DISNEA\n",
      "\n",
      "\n",
      "<class 'pandas.core.frame.DataFrame'>\n",
      "RangeIndex: 137 entries, 0 to 136\n",
      "Data columns (total 3 columns):\n",
      " #   Column   Non-Null Count  Dtype         \n",
      "---  ------   --------------  -----         \n",
      " 0   id       137 non-null    int64         \n",
      " 1   FE_ALTA  137 non-null    datetime64[ns]\n",
      " 2   Examen   137 non-null    object        \n",
      "dtypes: datetime64[ns](1), int64(1), object(1)\n",
      "memory usage: 3.3+ KB\n"
     ]
    }
   ],
   "source": [
    "#Importar archivos\n",
    "ACT_data = pd.read_excel(\"./Data/ACT.xlsx\")\n",
    "ACT_DESAGREGADO_data = pd.read_excel(\"./Data/ACT_DESAGREGADO.xlsx\")\n",
    "DISNEA_data = pd.read_excel(\"./Data/Disnea.xlsx\")\n",
    "#Creación de DF\n",
    "df_ACT = ACT_data\n",
    "df_ACT_DSG = ACT_DESAGREGADO_data\n",
    "df_DISNEA = DISNEA_data\n",
    "#Características\n",
    "print(\"-------------DF ACT\")\n",
    "df_ACT.info()\n",
    "print(\"\\n\")\n",
    "print(\"-------------DF ACT DESAGREGADO\")\n",
    "df_ACT_DSG.info()\n",
    "print(\"-------------DISNEA\")\n",
    "print(\"\\n\")\n",
    "df_DISNEA.info()"
   ]
  },
  {
   "cell_type": "markdown",
   "metadata": {},
   "source": [
    "Aparentemente no hay missing data entre las BD, eso es bueno."
   ]
  },
  {
   "cell_type": "code",
   "execution_count": 49,
   "metadata": {},
   "outputs": [
    {
     "name": "stdout",
     "output_type": "stream",
     "text": [
      "---------------ACT------------------------\n",
      "Tamaño de la BD: (15090, 5)\n",
      "\n",
      "\n",
      "Numero de lotes de pruebas (ID): 458\n",
      "Numero de pruebas totales (DS_NOMBRE): 1\n",
      "Cantidad de puntajes (NM_PUNTAJE): 21\n",
      "Cantidad de resultados presentados (DS_RESULTADO): 3\n",
      "Cantidad de fechas (FE_RESULTADO): 1710\n"
     ]
    }
   ],
   "source": [
    "#Características\n",
    "print(\"---------------ACT------------------------\")\n",
    "print(\"Tamaño de la BD: \" + str(df_ACT.shape))"
   ]
  },
  {
   "cell_type": "markdown",
   "metadata": {},
   "source": []
  },
  {
   "cell_type": "code",
   "execution_count": 92,
   "metadata": {},
   "outputs": [
    {
     "name": "stdout",
     "output_type": "stream",
     "text": [
      "---------------ACT DESAGREGADO------------------------\n",
      "Tamaño de la BD: (8602, 5)\n",
      "------------PROCESAR NOMBRE DE LAS VARIABLES\n",
      "<class 'pandas.core.frame.DataFrame'>\n",
      "RangeIndex: 8602 entries, 0 to 8601\n",
      "Data columns (total 5 columns):\n",
      " #   Column         Non-Null Count  Dtype         \n",
      "---  ------         --------------  -----         \n",
      " 0   ID             8602 non-null   int64         \n",
      " 1   DS_NOMBRE      8602 non-null   object        \n",
      " 2   PREGUNTA_ACT   8602 non-null   object        \n",
      " 3   RESPUESTA_ACT  8602 non-null   object        \n",
      " 4   FE_RESULTADO   8602 non-null   datetime64[ns]\n",
      "dtypes: datetime64[ns](1), int64(1), object(3)\n",
      "memory usage: 336.1+ KB\n"
     ]
    }
   ],
   "source": [
    "print(\"---------------ACT DESAGREGADO------------------------\")\n",
    "print(\"Tamaño de la BD: \" + str(df_ACT_DSG.shape))\n",
    "print(\"------------PROCESAR NOMBRE DE LAS VARIABLES\")\n",
    "#Para NUMERO IDENTIFICACION, voy a dejar el mismo nombre del ID de arriba. Aún así faltaría confirmar con OMNIVIDA qué es realmente\n",
    "df_ACT_DSG.rename(columns={\"NUMERO IDENTIFICACION\": \"ID\"}, inplace=True)\n",
    "#Para NOMBRE ENCUESTA voy a dejar el mismo nombre de la BD ACT: DS_NOMBRE\n",
    "df_ACT_DSG.rename(columns={\"NOMBRE ENCUESTA\": \"DS_NOMBRE\"}, inplace=True)\n",
    "#Para PREGUNTA los voy a renombrar PREGUNTA_ACT\n",
    "df_ACT_DSG.rename(columns={\"PREGUNTA\": \"PREGUNTA_ACT\"}, inplace=True)\n",
    "#Para RESPUESTA los voy a renombrar RESPUESTA_ACT\n",
    "df_ACT_DSG.rename(columns={\"RESPUESTA\": \"RESPUESTA_ACT\"}, inplace=True)\n",
    "#FE_RESULTADO no la modifico\n",
    "df_ACT_DSG.info()"
   ]
  },
  {
   "cell_type": "code",
   "execution_count": 54,
   "metadata": {},
   "outputs": [
    {
     "name": "stdout",
     "output_type": "stream",
     "text": [
      "---------------DISNEA------------------------\n",
      "Tamaño de la BD: (137, 3)\n",
      "------------PROCESAR NOMBRE DE LAS VARIABLES\n"
     ]
    }
   ],
   "source": [
    "print(\"---------------DISNEA------------------------\")\n",
    "print(\"Tamaño de la BD: \" + str(df_DISNEA.shape))\n",
    "print(\"------------PROCESAR NOMBRE DE LAS VARIABLES\")\n",
    "#Para id, voy a dejar el mismo nombre del ID de arriba. Aún así faltaría confirmar con OMNIVIDA qué es realmente\n",
    "df_DISNEA.rename(columns={\"id\": \"ID\"}, inplace=True)\n",
    "#Para FE_ALTA no le modifico nada\n",
    "#Para Examen, lo voy a cambiar por RESULTADO_EXAMEN\n",
    "df_DISNEA.rename(columns={\"Examen\": \"RESULTADO_EXAMEN\"}, inplace=True)"
   ]
  },
  {
   "cell_type": "markdown",
   "metadata": {},
   "source": [
    "Con el renombre de las variables, procedo a revisar en detalle cada una de las BD para identificar cuáles variables son suceptibles de manipular previo un análisis posterior."
   ]
  },
  {
   "cell_type": "markdown",
   "metadata": {},
   "source": [
    "<font color='red'> **----------------------------------------- BD ACT -----------------------------------------** </font>"
   ]
  },
  {
   "cell_type": "code",
   "execution_count": 90,
   "metadata": {},
   "outputs": [
    {
     "name": "stdout",
     "output_type": "stream",
     "text": [
      "1. Cantidad de datos: (15090, 6)\n",
      "\n",
      "\n",
      "2. Cantidad de datos por variables--------\n",
      "Numero de lotes de pruebas (ID): 458\n",
      "Cantidad de pruebas totales (DS_NOMBRE): 1\n",
      "Cantidad de puntajes (NM_PUNTAJE): 21\n",
      "            Puntaje min. 5// Puntaje max. 25\n",
      "Cantidad de resultados presentados (DS_RESULTADO): 3\n",
      "            Cantidad de categorias: ['NO totalmente controlada' 'Totalmente controlada' 'no esta controlada']\n",
      "Cantidad de fechas (FE_RESULTADO): 1710\n"
     ]
    }
   ],
   "source": [
    "print(\"1. Cantidad de datos: \" + str(df_ACT.shape))\n",
    "print(\"\\n\")\n",
    "print(\"2. Cantidad de datos por variables--------\")\n",
    "print(\"Numero de lotes de pruebas (ID): \" + str(df_ACT[\"ID\"].nunique()))\n",
    "print(\"Cantidad de pruebas totales (DS_NOMBRE): \" + str(df_ACT[\"DS_NOMBRE\"].nunique()))\n",
    "print(\"Cantidad de puntajes (NM_PUNTAJE): \" + str(df_ACT[\"NM_PUNTAJE\"].nunique()))\n",
    "print(\"            Puntaje min. \"+str(df_ACT[\"NM_PUNTAJE\"].min()) + \"//\" + \" Puntaje max. \" + str(df_ACT[\"NM_PUNTAJE\"].max()))\n",
    "print(\"Cantidad de resultados presentados (DS_RESULTADO): \" + str(df_ACT[\"DS_RESULTADO\"].nunique()))\n",
    "print(\"            Cantidad de categorias: \" + str(df_ACT[\"DS_RESULTADO\"].unique()))\n",
    "print(\"Cantidad de fechas (FE_RESULTADO): \" + str(df_ACT[\"FE_RESULTADO\"].nunique()))"
   ]
  },
  {
   "cell_type": "markdown",
   "metadata": {},
   "source": [
    "Se listan las conclusiones con base en cada una de las variables presentadas:\n",
    "* ID : presumiblemente es el número de las pruebas\n",
    "* DS_NOMBRE: solo está mostrando el nombre de la prueba que para todos los casos es \"Prueba de control del Asma ACT\"\n",
    "* NM_PUNTAJE: puntaje obtenido por cada una de las pruebas por lote\n",
    "* DS_RESULTADO: para esta variable se cuentan con tres valores: 1) NO totalmente controlada; 2) Totalmente controlada y 3) no está controlada. \n",
    "* FE_RESULTADO: fecha del resultado de la pruueba, contiene hora también.\n",
    "\n",
    "Con los resultados anteriores, se puede evidenciar que DS_RESULTADO tiene tres categorías que se pueden codificar, de acuerdo al grado de control que se ha presentado:\n",
    "* 0: No está controlada\n",
    "* 1: No totalmente controlada\n",
    "* 2: Totalmente controlada"
   ]
  },
  {
   "cell_type": "code",
   "execution_count": 88,
   "metadata": {},
   "outputs": [
    {
     "name": "stdout",
     "output_type": "stream",
     "text": [
      "       ID                       DS_NOMBRE DS_RESULTADO_COD  NM_PUNTAJE  \\\n",
      "0  502989  Prueba de control del Asma ACT                1          24   \n",
      "1  502989  Prueba de control del Asma ACT                1          24   \n",
      "2  502989  Prueba de control del Asma ACT                1          24   \n",
      "3  502989  Prueba de control del Asma ACT                1          24   \n",
      "4  502989  Prueba de control del Asma ACT                1          24   \n",
      "\n",
      "               DS_RESULTADO        FE_RESULTADO  \n",
      "0  NO totalmente controlada 2014-10-28 13:24:49  \n",
      "1  NO totalmente controlada 2014-10-28 13:24:49  \n",
      "2  NO totalmente controlada 2014-10-28 13:24:49  \n",
      "3  NO totalmente controlada 2014-10-28 13:24:49  \n",
      "4  NO totalmente controlada 2014-10-28 13:24:49  \n",
      "\n",
      "\n",
      "DS_RESULTADO\n",
      "NO totalmente controlada    318\n",
      "Totalmente controlada       130\n",
      "no esta controlada          289\n",
      "Name: ID, dtype: int64\n",
      "DS_RESULTADO_COD\n",
      "0    289\n",
      "1    318\n",
      "2    130\n",
      "Name: ID, dtype: int64\n"
     ]
    }
   ],
   "source": [
    "lista_DS_RESULTADO = {'DS_RESULTADO_ANTES': pd.Series([\"NO totalmente controlada\",\"Totalmente controlada\", \"no esta controlada\"], index=[1,2,3]),\n",
    "     'DS_RESULTADO_AHORA': pd.Series([\"1\", \"2\", \"0\"], index=[1,2,3])}\n",
    "df_lista_DS_RESULTADO = pd.DataFrame(lista_DS_RESULTADO)\n",
    "#Agrego una nueva columna que se llame DS_RESULTADO_COD para no tener que eliminar los datos originales\n",
    "#df_ACT.insert(2,\"DS_RESULTADO_COD\", df_ACT[\"DS_RESULTADO\"].map(df_lista_DS_RESULTADO.set_index(\"DS_RESULTADO_ANTES\")[\"DS_RESULTADO_AHORA\"]))\n",
    "print(df_ACT.head(5))\n",
    "\n",
    "conteo_antes = df_ACT.groupby('DS_RESULTADO')['ID'].nunique()\n",
    "conteo_despues = df_ACT.groupby('DS_RESULTADO_COD')['ID'].nunique()\n",
    "print(\"\\n\")\n",
    "print(conteo_antes)\n",
    "print(conteo_despues)"
   ]
  },
  {
   "cell_type": "markdown",
   "metadata": {},
   "source": [
    "<font color='red'> **---------------------------- BD ACT DESAGREGADA ----------------------** </font>"
   ]
  },
  {
   "cell_type": "code",
   "execution_count": 95,
   "metadata": {},
   "outputs": [
    {
     "name": "stdout",
     "output_type": "stream",
     "text": [
      "1. Cantidad de datos: (8602, 5)\n",
      "\n",
      "\n",
      "2. Cantidad de datos por variables--------\n",
      "Numero de lotes de pruebas (ID): 456\n",
      "Cantidad de pruebas totales (DS_NOMBRE): 1\n",
      "Cantidad de puntajes (PREGUNTA_ACT): 32\n",
      "            Cantidad de categorías ['DURANTE LAS ULTIMAS 4 SEMANAS ¿CON QUE FRECUENCIA SU ASMA LE IMPIDIO LLEVAR A CABO SUS TAREAS HABITUALES EN EL TRABAJO, EL ESTUDIO O EL HOGAR?'\n",
      " 'DURANTE LAS ULTIMAS 4 SEMANAS ¿CON QUE FRECUENCIA SINTIO FALTA DE AIRE?'\n",
      " 'DURANTE LAS ULTIMAS 4 SEMANAS ¿CON QUE FRECUENCIA LOS SINTOMAS DE ASMA (SILBIDOS EN EL PECHO, TOS, FALTA DE AIRE, OPRESION O DOLOR EN EL PECHO) LO/LA HICIERON DESPERTAR DURANTE LA NOCHE O MAS TEMPRANO QUE DE COSTUMBRE POR LA MAÑANA?'\n",
      " 'DURANTE LAS ULTIMAS 4 SEMANAS ¿CON QUE FRECUENCIA USO SU INHALADOR DE EFECTO INMEDIATO O SE HIZO NEBULIZACIONES (POR EJEMPLO, SALBUTAMOL?)'\n",
      " '¿COMO CALIFICARIA EL CONTROL DE SU ASMA DURANTE LAS ULTIMAS 4 SEMANAS?'\n",
      " '¿COMO PUNTUARIA SU CALIDAD DE VIDA?'\n",
      " '¿CUAN SATISFECHO/A ESTA CON SU SALUD?'\n",
      " 'CUANTO TIEMPO LLEVA DE TRATAMIENTO PARA SU PATOLOGIA PRINCIPAL? '\n",
      " '¿EN QUE MEDIDA PIENSA QUE EL DOLOR (FISICO) LE IMPIDE HACER LO QUE NECESITA?'\n",
      " '¿CUANTO NECESITA DE CUALQUIER TRATAMIENTO MEDICO PARA FUNCIONAR EN SU VIDA DIARIA?'\n",
      " '¿CUANTO DISFRUTA DE LA VIDA?'\n",
      " '¿EN QUE MEDIDA SIENTE QUE SU VIDA TIENE SENTIDO?'\n",
      " '¿CUAL ES SU CAPACIDAD DE CONCENTRACION?'\n",
      " '¿CUANTA SEGURIDAD SIENTE EN SU VIDA DIARIA?'\n",
      " '¿CUAN SALUDABLE ES EL AMBIENTE FISICO DE SU ALREDEDOR?'\n",
      " '¿TIENE ENERGIA SUFICIENTE PARA LA VIDA DIARIA?'\n",
      " '¿ES CAPAZ DE ACEPTAR SU APARIENCIA FISICA?'\n",
      " '¿TIENE SUFICIENTE DINERO PARA CUBRIR SUS NECESIDADES?'\n",
      " '¿QUE DISPONIBLE TIENE LA INFORMACION QUE NECESITA EN SU VIDA DIARIA?'\n",
      " '¿HASTA QUE PUNTO TIENE OPORTUNIDAD PARA REALIZAR ACTIVIDADES DE OCIO?'\n",
      " '¿ES CAPAZ DE DESPLAZARSE DE UN LUGAR A OTRO?'\n",
      " '¿CUAN SATISFECHO ESTA CON SU SUEÑO?'\n",
      " '¿CUAN SATISFECHO ESTA CON SU HABILIDAD PARA REALIZAR SUS ACTIVIDADES DE LA VIDA DIARIA?'\n",
      " '¿CUAN SATISFECHO ESTA CON SU CAPACIDAD DE TRABAJO?'\n",
      " '¿CUAN SATISFECHO ESTA DE SI MISMO?'\n",
      " '¿CUAN SATISFECHO ESTA CON SUS RELACIONES PERSONALES?'\n",
      " '¿CUAN SATISFECHO ESTA CON SU VIDA SEXUAL?'\n",
      " '¿CUAN SATISFECHO ESTA CON EL APOYO QUE TIENE DE SUS AMIGOS?'\n",
      " '¿CUAN SATISFECHO ESTA DE LAS CONDICIONES DEL LUGAR DONDE VIVE?'\n",
      " '¿CUAN SATISFECHO ESTA CON EL ACCESO QUE TIENE A LOS SERVICIOS SANITARIOS?'\n",
      " '¿CUAN SATISFECHO ESTA CON SU TRANSPORTE?'\n",
      " '¿CON QUE FRECUENCIA TIENE SENTIMIENTOS NEGATIVOS, TALES COMO TRISTEZA, DESESPERANZA, ANSIEDAD, DEPRESION?']\n",
      "Cantidad de resultados presentados (RESPUESTA_ACT): 31\n",
      "            Puntaje min. 1 O 2 VECES A LA SEMANA\n",
      "            Puntaje max. UNA VEZ AL DIA\n"
     ]
    }
   ],
   "source": [
    "print(\"1. Cantidad de datos: \" + str(df_ACT_DSG.shape))\n",
    "print(\"\\n\")\n",
    "print(\"2. Cantidad de datos por variables--------\")\n",
    "print(\"Numero de lotes de pruebas (ID): \" + str(df_ACT_DSG[\"ID\"].nunique()))\n",
    "print(\"Cantidad de pruebas totales (DS_NOMBRE): \" + str(df_ACT_DSG[\"DS_NOMBRE\"].nunique()))\n",
    "print(\"Cantidad de puntajes (PREGUNTA_ACT): \" + str(df_ACT_DSG[\"PREGUNTA_ACT\"].nunique()))\n",
    "print(\"            Cantidad de categorías \"+str(df_ACT_DSG[\"PREGUNTA_ACT\"].unique()))\n",
    "print(\"Cantidad de resultados presentados (RESPUESTA_ACT): \" + str(df_ACT_DSG[\"RESPUESTA_ACT\"].nunique()))\n",
    "print(\"            Puntaje min. \" + str(df_ACT_DSG[\"RESPUESTA_ACT\"].min()))\n",
    "print(\"            Puntaje max. \" + str(df_ACT_DSG[\"RESPUESTA_ACT\"].max()))"
   ]
  },
  {
   "cell_type": "markdown",
   "metadata": {},
   "source": [
    "De acuerdo con una revisión de literatura, el ACT se compone de un formulario de 5 preguntas donde cada pregunta puede tener hasta 5 valores diferentes. \n",
    "\n",
    "Sin embargo, revisando las diferentes preguntas planteadas, se encuentran preguntas relacionadas con calidad de vida, es por esto que se sugiere dejar las preguntas como actualmente se encuentran así como sus respectivos valores."
   ]
  }
 ],
 "metadata": {
  "kernelspec": {
   "display_name": "Python 3",
   "language": "python",
   "name": "python3"
  },
  "language_info": {
   "codemirror_mode": {
    "name": "ipython",
    "version": 3
   },
   "file_extension": ".py",
   "mimetype": "text/x-python",
   "name": "python",
   "nbconvert_exporter": "python",
   "pygments_lexer": "ipython3",
   "version": "3.7.6"
  }
 },
 "nbformat": 4,
 "nbformat_minor": 4
}
