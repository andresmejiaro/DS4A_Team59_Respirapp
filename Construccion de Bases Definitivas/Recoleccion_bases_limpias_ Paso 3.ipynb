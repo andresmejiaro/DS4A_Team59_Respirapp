{
 "cells": [
  {
   "cell_type": "code",
   "execution_count": 3,
   "metadata": {},
   "outputs": [],
   "source": [
    "import pandas as pd\n",
    "from dateutil.relativedelta import relativedelta"
   ]
  },
  {
   "cell_type": "code",
   "execution_count": 4,
   "metadata": {},
   "outputs": [],
   "source": [
    "datos_basicos=pd.read_csv(\"../Bases limpias/DatosBasicosL_20_jun_GM.csv\")\n",
    "habitos=pd.read_csv(\"../Bases limpias/HabitosL_20_jun_GM.csv\")\n",
    "RAM=pd.read_excel(\"../Bases limpias/Farmaco_RAM_limpia_18_jun_AM.xlsx\")\n",
    "Calidad_Vida=pd.read_excel(\"../Bases limpias/Calidad de vidaNew_20_jun_AG.xlsx\")#\n",
    "ACT=pd.read_csv(\"../Bases limpias/ACT_consolidada_26_junio_Ariel.csv\")    \n"
   ]
  },
  {
   "cell_type": "code",
   "execution_count": 5,
   "metadata": {},
   "outputs": [],
   "source": [
    "datos_basicos.rename(columns={\"ID\":\"ID_PACIENTE\"},inplace=True)\n",
    "habitos.rename(columns={\"DS_IDENTIFICACION\":\"ID_PACIENTE\"},inplace=True)\n",
    "habitos.FE_REGISTRO=pd.to_datetime(habitos.FE_REGISTRO)\n",
    "RAM.sort_values(\"FECHA_INICIO_REACCION\")\n",
    "datos_basicos[\"BIRTHDATE\"]=pd.to_datetime(datos_basicos[\"BIRTHDATE\"])\n",
    "\n",
    "Calidad_Vida=Calidad_Vida.loc[:,\"ID_PACIENTE\":\"0_100\"].pivot_table(index=[\"ID_PACIENTE\",\"FE_ALTA\"],columns=\"DIMENSIONES\",values=\"0_100\").reset_index().sort_values(\"FE_ALTA\")\n"
   ]
  },
  {
   "cell_type": "code",
   "execution_count": 6,
   "metadata": {},
   "outputs": [],
   "source": [
    "ACT=ACT.loc[:,['FE_RESULTADO', 'ID', 'NM_PUNTAJE']].sort_values('FE_RESULTADO')\n",
    "ACT.rename(columns={ 'ID':\"ID_PACIENTE\", 'NM_PUNTAJE':'ACT_NM_PUNTAJE'},inplace=True)\n",
    "\n"
   ]
  },
  {
   "cell_type": "code",
   "execution_count": 1,
   "metadata": {},
   "outputs": [],
   "source": [
    "def try_year(a): \n",
    "    try: \n",
    "        return relativedelta(a.FECHA_EMISION,a.BIRTHDATE).years \n",
    "    except: \n",
    "        return pd.NaT\n",
    "\n",
    "\n",
    "def juntar_con_limpias(filename):\n",
    "    _base_entrenamiento_=pd.read_excel(filename)\n",
    "    print(_base_entrenamiento_.shape)\n",
    "    _base_entrenamiento_.FECHA_EMISION=pd.to_datetime(_base_entrenamiento_.FECHA_EMISION)\n",
    "    _db_=datos_basicos.loc[:,['ID_PACIENTE', 'SEX','DEPARTMENT', 'CITY', 'STRATUM', 'SOCIOECONOMIC_LEVEL','AFFILIATION_TYPE', 'BIRTHDATE', 'Education','MaritalStatus', 'LifeCyle', 'WorkingStatus', 'Zone', 'Ocupation']]\n",
    "    _base_entrenamiento_=_base_entrenamiento_.merge(_db_,how=\"left\")\n",
    "    _base_entrenamiento_[\"Edad\"]=_base_entrenamiento_.apply(try_year,axis=1)\n",
    "    \n",
    "    _habitos_=habitos.loc[habitos.Types.isin([\"Pets\",\"Alcohol\",\"Tobacco\",\"Exercise\",\"Mood\"]),[\"ID_PACIENTE\",\"FE_REGISTRO\",\"Types\",\"Habits\"]]\n",
    "    #return _base_entrenamiento_.FECHA_EMISION.isna().sum()\n",
    "    _habitos_=_habitos_.pivot_table(index=[\"ID_PACIENTE\",\"FE_REGISTRO\"],columns=\"Types\",values=\"Habits\",aggfunc='first').reset_index()\n",
    "    _habitos_=_habitos_.sort_values(\"FE_REGISTRO\")\n",
    "    _base_entrenamiento_=_base_entrenamiento_.sort_values(\"FECHA_EMISION\")\n",
    "    _base_entrenamiento_=pd.merge_asof(_base_entrenamiento_,_habitos_,by=\"ID_PACIENTE\",right_on=\"FE_REGISTRO\",left_on=\"FECHA_EMISION\")\n",
    "    \n",
    "    _RAM_=RAM[~RAM[\"FECHA_INICIO_REACCION\"].isnull()]\n",
    "    _RAM_=_RAM_.sort_values(\"FECHA_INICIO_REACCION\").loc[:,[\"ID_PACIENTE\",'MEDICAMENTO_SOSPECHOSO', 'FECHA_INICIO_REACCION']]\n",
    "    _base_entrenamiento_=pd.merge_asof(_base_entrenamiento_,_RAM_,by=\"ID_PACIENTE\",right_on=\"FECHA_INICIO_REACCION\",left_on=\"FECHA_EMISION\",direction=\"forward\")\n",
    "    _base_entrenamiento_[\"Ram\"]= (_base_entrenamiento_[\"FechaSiguienteRecla\"]>_base_entrenamiento_[\"FECHA_INICIO_REACCION\"])\n",
    "    _base_entrenamiento_[\"FECHA_INICIO_REACCION\"][~_base_entrenamiento_[\"Ram\"]]=pd.NaT\n",
    "    _base_entrenamiento_[\"MEDICAMENTO_SOSPECHOSO\"][~_base_entrenamiento_[\"Ram\"]]=pd.NaT\n",
    "    \n",
    "    if (_base_entrenamiento_.columns==\"Categoria\").any():\n",
    "        b=\"Categoria\"\n",
    "    else:\n",
    "        b=\"NOM_GENERICO\"\n",
    "    _base_entrenamiento_[\"RamEspecifica\"]=_base_entrenamiento_[\"MEDICAMENTO_SOSPECHOSO\"].str.contains(_base_entrenamiento_[b][0])\n",
    "    \n",
    "\n",
    "    _base_entrenamiento_=pd.merge_asof(_base_entrenamiento_,Calidad_Vida,by=\"ID_PACIENTE\",right_on=\"FE_ALTA\",left_on=\"FECHA_EMISION\")\n",
    "\n",
    "    _base_entrenamiento_=pd.merge_asof(_base_entrenamiento_,ACT,by=\"ID_PACIENTE\",right_on=\"FE_ALTA\",left_on=\"FECHA_EMISION\")\n",
    "\n",
    "    print(_base_entrenamiento_.shape)\n",
    "    _base_entrenamiento_.to_csv(filename.rsplit(\".\",1)[0]+\"_trabajo.csv\")\n",
    "\n",
    "    return _base_entrenamiento_#_base_entrenamiento_\n"
   ]
  },
  {
   "cell_type": "code",
   "execution_count": 2,
   "metadata": {
    "tags": []
   },
   "outputs": [
    {
     "output_type": "error",
     "ename": "NameError",
     "evalue": "name 'pd' is not defined",
     "traceback": [
      "\u001b[0;31m---------------------------------------------------------------------------\u001b[0m",
      "\u001b[0;31mNameError\u001b[0m                                 Traceback (most recent call last)",
      "\u001b[0;32m<ipython-input-2-6863991a8e8b>\u001b[0m in \u001b[0;36m<module>\u001b[0;34m\u001b[0m\n\u001b[0;32m----> 1\u001b[0;31m \u001b[0ma\u001b[0m\u001b[0;34m=\u001b[0m\u001b[0mjuntar_con_limpias\u001b[0m\u001b[0;34m(\u001b[0m\u001b[0;34m\"Train_BUDESONIDA.xlsx\"\u001b[0m\u001b[0;34m)\u001b[0m\u001b[0;34m\u001b[0m\u001b[0;34m\u001b[0m\u001b[0m\n\u001b[0m\u001b[1;32m      2\u001b[0m \u001b[0ma\u001b[0m\u001b[0;34m\u001b[0m\u001b[0;34m\u001b[0m\u001b[0m\n",
      "\u001b[0;32m<ipython-input-1-ffd536209905>\u001b[0m in \u001b[0;36mjuntar_con_limpias\u001b[0;34m(filename)\u001b[0m\n\u001b[1;32m      7\u001b[0m \u001b[0;34m\u001b[0m\u001b[0m\n\u001b[1;32m      8\u001b[0m \u001b[0;32mdef\u001b[0m \u001b[0mjuntar_con_limpias\u001b[0m\u001b[0;34m(\u001b[0m\u001b[0mfilename\u001b[0m\u001b[0;34m)\u001b[0m\u001b[0;34m:\u001b[0m\u001b[0;34m\u001b[0m\u001b[0;34m\u001b[0m\u001b[0m\n\u001b[0;32m----> 9\u001b[0;31m     \u001b[0m_base_entrenamiento_\u001b[0m\u001b[0;34m=\u001b[0m\u001b[0mpd\u001b[0m\u001b[0;34m.\u001b[0m\u001b[0mread_excel\u001b[0m\u001b[0;34m(\u001b[0m\u001b[0mfilename\u001b[0m\u001b[0;34m)\u001b[0m\u001b[0;34m\u001b[0m\u001b[0;34m\u001b[0m\u001b[0m\n\u001b[0m\u001b[1;32m     10\u001b[0m     \u001b[0mprint\u001b[0m\u001b[0;34m(\u001b[0m\u001b[0m_base_entrenamiento_\u001b[0m\u001b[0;34m.\u001b[0m\u001b[0mshape\u001b[0m\u001b[0;34m)\u001b[0m\u001b[0;34m\u001b[0m\u001b[0;34m\u001b[0m\u001b[0m\n\u001b[1;32m     11\u001b[0m     \u001b[0m_base_entrenamiento_\u001b[0m\u001b[0;34m.\u001b[0m\u001b[0mFECHA_EMISION\u001b[0m\u001b[0;34m=\u001b[0m\u001b[0mpd\u001b[0m\u001b[0;34m.\u001b[0m\u001b[0mto_datetime\u001b[0m\u001b[0;34m(\u001b[0m\u001b[0m_base_entrenamiento_\u001b[0m\u001b[0;34m.\u001b[0m\u001b[0mFECHA_EMISION\u001b[0m\u001b[0;34m)\u001b[0m\u001b[0;34m\u001b[0m\u001b[0;34m\u001b[0m\u001b[0m\n",
      "\u001b[0;31mNameError\u001b[0m: name 'pd' is not defined"
     ]
    }
   ],
   "source": [
    "a=juntar_con_limpias(\"Train_BUDESONIDA.xlsx\")\n",
    "a"
   ]
  },
  {
   "cell_type": "code",
   "execution_count": null,
   "metadata": {},
   "outputs": [],
   "source": []
  },
  {
   "cell_type": "code",
   "execution_count": null,
   "metadata": {},
   "outputs": [],
   "source": [
    "a.loc[213,:]"
   ]
  },
  {
   "cell_type": "code",
   "execution_count": null,
   "metadata": {},
   "outputs": [],
   "source": []
  }
 ],
 "metadata": {
  "language_info": {
   "codemirror_mode": {
    "name": "ipython",
    "version": 3
   },
   "file_extension": ".py",
   "mimetype": "text/x-python",
   "name": "python",
   "nbconvert_exporter": "python",
   "pygments_lexer": "ipython3",
   "version": "3.8.2-final"
  },
  "orig_nbformat": 2,
  "kernelspec": {
   "name": "python38264bit98f1a1bc423940899042b718c959f4d5",
   "display_name": "Python 3.8.2 64-bit"
  }
 },
 "nbformat": 4,
 "nbformat_minor": 2
}