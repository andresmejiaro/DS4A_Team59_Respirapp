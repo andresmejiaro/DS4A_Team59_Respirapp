{
 "cells": [
  {
   "cell_type": "code",
   "execution_count": 8,
   "metadata": {},
   "outputs": [],
   "source": [
    "import pandas as pd\n",
    "from datetime import timedelta\n"
   ]
  },
  {
   "cell_type": "code",
   "execution_count": 9,
   "metadata": {},
   "outputs": [],
   "source": [
    "medicamentos=pd.read_excel(\"../Bases limpias/medicamentos_19_jun_AM.xlsx\")\n",
    "medicamentos_IDtrain=pd.read_excel(\"Lista_pacientes_train.xlsx\")\n"
   ]
  },
  {
   "cell_type": "code",
   "execution_count": 10,
   "metadata": {},
   "outputs": [],
   "source": [
    "## esta función toma un registro de medicamento y regresa la marcación con respecto a \n",
    "## adherencia, si es una continuación del mismo medicamento retorna un dataframe de pandas \n",
    "## de una sola fila\n",
    "\n",
    "def marca_fila(ID_PACIENTE,FECHA_EMISION,NombreAdherencia,\n",
    "               NUMERO_CANTIDAD_PRESTACIONES,base_med=medicamentos,\n",
    "              columna=\"NOMBRE_MEDICAMENTO\",tolerancia_dias=5,Frecuencia_Mensual=30):\n",
    "    #los input corresponden a campos de la tabla Medicamentos, Frecuencia_Diaria es la cantidad \n",
    "    #de ese medicamento si la aplicacion fuera diaria, ej si es un inhalador al mes usar 1, si es un\n",
    "    # si es una aplicacion diaria usar 30\n",
    "    # base med es la base donde se realiza la busqueda\n",
    "    # Fecha Emision formato datetime de pandas\n",
    "    _tiempo_esperado_=30*NUMERO_CANTIDAD_PRESTACIONES/Frecuencia_Mensual\n",
    "    #_Fecha_Fin_inf_=_Fecha_Fin_-timedelta(days=tolerancia_dias)\n",
    "    #_Fecha_Fin_sup_=_Fecha_Fin_+timedelta(days=tolerancia_dias)\n",
    "    _filtro_fin_med_=(base_med.ID_PACIENTE==ID_PACIENTE) &(base_med[\"FECHA_EMISION\"]>FECHA_EMISION)\n",
    "    _filtro_fin_med_=_filtro_fin_med_ &(base_med[columna]==NombreAdherencia)\n",
    "    _medicamentos_local_=base_med[_filtro_fin_med_]\n",
    "    _fecha_prox_formula_=_medicamentos_local_.loc[base_med.ID_PACIENTE==ID_PACIENTE,\"FECHA_EMISION\"].min()\n",
    "    _tiempo_entre_form_=(_fecha_prox_formula_-FECHA_EMISION).days\n",
    "    _fecha_esperada_reclamacion_=FECHA_EMISION+_tiempo_esperado_*timedelta(days=1)\n",
    "    if _medicamentos_local_.shape[0]==0:\n",
    "        ## marca como no adherente \n",
    "        _adherencia_=float(\"NaN\")\n",
    "        _comentario_=\"ultimo registro\"\n",
    "        #print(\"No adherente\")\n",
    "        pass\n",
    "    elif _tiempo_entre_form_<=_tiempo_esperado_+tolerancia_dias:\n",
    "        ## marca como adherente marca continuidad medicamento\n",
    "        #print(\"Adherente, Continuidad\")\n",
    "        _adherencia_=1\n",
    "        _comentario_=\"adherente\"\n",
    "        pass\n",
    "    elif _tiempo_entre_form_<2*_tiempo_esperado_:\n",
    "        ## marca como aderente no continuidad del medicamento\n",
    "        #print(\"Adherente, No Continuidad\")\n",
    "        _adherencia_=0\n",
    "        _comentario_=\"no adherente\"\n",
    "        pass\n",
    "    else:\n",
    "        _adherencia_=0\n",
    "        _comentario_=\"abandono/ciclo corto\"\n",
    "    #print(_medicamentos_local_)\n",
    "    _return_=pd.Series({\"ID_PACIENTE\":ID_PACIENTE,\n",
    "                           \"FECHA_EMISION\":FECHA_EMISION,\n",
    "                        \"FechaSiguienteRecla\":_fecha_prox_formula_,\n",
    "                           columna:NombreAdherencia,\n",
    "                        \"FechaEsperadaReclamacion\":_fecha_esperada_reclamacion_,\n",
    "                          \"AdherenciaMed\":_adherencia_,\n",
    "                          \"Comentario\":_comentario_,\n",
    "                       \"TiempoEntreFormulas\":_tiempo_entre_form_,\n",
    "                        \"NUMERO_CANTIDAD_PRESTACIONES\":NUMERO_CANTIDAD_PRESTACIONES})\n",
    "    return _return_\n",
    "    \n",
    "    "
   ]
  },
  {
   "cell_type": "code",
   "execution_count": 11,
   "metadata": {},
   "outputs": [],
   "source": [
    "## Esta funcion toma un dataframe y añade las columnas necesarias al mismo\n",
    "## oportunidad de mejora un diccionario de las prestaciones con la frecuencia \n",
    "## de medicacion\n",
    "def procesa_medicamentos_df(base_med=medicamentos,columna=\"NOMBRE_MEDICAMENTO\",NombreAdherencia=\"MONTELUKAST\",\n",
    "                           tolerancia_dias=5,Frecuencia_Mensual=30):\n",
    "    _work_base_=base_med[base_med[columna]==NombreAdherencia]\n",
    "    _adherencia_=_work_base_.apply(lambda x:marca_fila(x.ID_PACIENTE,\n",
    "                                   x.FECHA_EMISION,\n",
    "                                   NombreAdherencia,\n",
    "                                   x.NUMERO_CANTIDAD_PRESTACIONES,\n",
    "                                   _work_base_,\n",
    "                                   columna,\n",
    "                                    tolerancia_dias,Frecuencia_Mensual) ,axis=1)\n",
    "    #_adherencia_=_adherencia_.loc[:,[\"adherencia_med\",\"comentario\"]]\n",
    "    #_return_=pd.concat([df,_adherencia_],axis=1)\n",
    "    return _adherencia_"
   ]
  },
  {
   "cell_type": "code",
   "execution_count": 12,
   "metadata": {},
   "outputs": [
    {
     "output_type": "execute_result",
     "data": {
      "text/plain": "0         OMALIZUMAB\n1                NaN\n4         SALBUTAMOL\n241     FEXOFENADINA\n427        BILASTINA\n439       MOMETASONA\n440      MONTELUKAST\n441      FLUTICASONA\n458     PREDNISOLONA\n974       BUDESONIDA\n1116       TIOTROPIO\n2275    BENRALIZUMAB\n4662     MEPOLIZUMAB\nName: Categoria, dtype: object"
     },
     "metadata": {},
     "execution_count": 12
    }
   ],
   "source": [
    "medicamentos.Categoria.drop_duplicates()"
   ]
  },
  {
   "cell_type": "code",
   "execution_count": 16,
   "metadata": {},
   "outputs": [],
   "source": [
    "\n",
    "def crea_base(medicamento,Frecuencia_Mensual=30):\n",
    "    _base_=procesa_medicamentos_df(base_med=medicamentos,columna=\"Categoria\",NombreAdherencia=medicamento,Frecuencia_Mensual=Frecuencia_Mensual)\n",
    "    _base_train_=_base_[_base_.ID_PACIENTE.isin(medicamentos_IDtrain.ID_PACIENTE)]\n",
    "    _base_test_=_base_[~_base_.ID_PACIENTE.isin(medicamentos_IDtrain.ID_PACIENTE)]\n",
    "    _base_train_.to_excel(\"Train_\"+medicamento+\".xlsx\")\n",
    "    _base_test_.to_excel(\"Test_\"+medicamento+\".xlsx\")\n",
    "    return  "
   ]
  },
  {
   "cell_type": "code",
   "execution_count": 19,
   "metadata": {},
   "outputs": [],
   "source": [
    "crea_base(\"SALBUTAMOL\",Frecuencia_Mensual=1)"
   ]
  },
  {
   "cell_type": "code",
   "execution_count": 20,
   "metadata": {},
   "outputs": [],
   "source": [
    "biologicos=pd.read_excel(\"../Bases limpias/Biologicos_19_jun_AM.xlsx\")\n",
    "biologicos_IDtrain=pd.read_excel(\"Lista_pacientes_biologicos_train.xlsx\")"
   ]
  },
  {
   "cell_type": "code",
   "execution_count": 21,
   "metadata": {},
   "outputs": [
    {
     "output_type": "execute_result",
     "data": {
      "text/plain": "0        OMALIZUMAB\n139    BENRALIZUMAB\n150       DUPILUMAB\n444     MEPOLIZUMAB\nName: NOM_GENERICO, dtype: object"
     },
     "metadata": {},
     "execution_count": 21
    }
   ],
   "source": [
    "biologicos.columns\n",
    "biologicos[\"FECHA_EMISION\"]=biologicos[\"FECHA_DCTO\"]\n",
    "biologicos['NUMERO_CANTIDAD_PRESTACIONES']=1\n",
    "biologicos.NOM_GENERICO.drop_duplicates()"
   ]
  },
  {
   "cell_type": "code",
   "execution_count": 22,
   "metadata": {},
   "outputs": [],
   "source": [
    "def crea_base_bio(medicamento):\n",
    "    _base_=procesa_medicamentos_df(base_med=biologicos,columna=\"NOM_GENERICO\",NombreAdherencia=medicamento,Frecuencia_Mensual=1)\n",
    "    _base_train_=_base_[_base_.ID_PACIENTE.isin(medicamentos_IDtrain.ID_PACIENTE)]\n",
    "    _base_test_=_base_[~_base_.ID_PACIENTE.isin(medicamentos_IDtrain.ID_PACIENTE)]\n",
    "    _base_train_.to_excel(\"Train_\"+medicamento+\".xlsx\")\n",
    "    _base_test_.to_excel(\"Test_\"+medicamento+\".xlsx\")\n",
    "    return  "
   ]
  },
  {
   "cell_type": "code",
   "execution_count": 23,
   "metadata": {},
   "outputs": [],
   "source": [
    "crea_base_bio(\"OMALIZUMAB\")"
   ]
  },
  {
   "cell_type": "code",
   "execution_count": null,
   "metadata": {},
   "outputs": [],
   "source": []
  }
 ],
 "metadata": {
  "kernelspec": {
   "display_name": "Python 3",
   "language": "python",
   "name": "python3"
  },
  "language_info": {
   "codemirror_mode": {
    "name": "ipython",
    "version": 3
   },
   "file_extension": ".py",
   "mimetype": "text/x-python",
   "name": "python",
   "nbconvert_exporter": "python",
   "pygments_lexer": "ipython3",
   "version": "3.8.2-final"
  }
 },
 "nbformat": 4,
 "nbformat_minor": 4
}