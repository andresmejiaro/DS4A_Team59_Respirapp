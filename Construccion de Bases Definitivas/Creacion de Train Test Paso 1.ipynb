{
 "cells": [
  {
   "cell_type": "code",
   "execution_count": 1,
   "metadata": {},
   "outputs": [],
   "source": [
    "import pandas as pd \n",
    "from sklearn.model_selection import train_test_split \n"
   ]
  },
  {
   "cell_type": "code",
   "execution_count": 3,
   "metadata": {},
   "outputs": [],
   "source": [
    "Medicamentos=pd.read_excel(\"../Bases limpias/medicamentos_limpio_19jun.xlsx\")"
   ]
  },
  {
   "cell_type": "code",
   "execution_count": 6,
   "metadata": {},
   "outputs": [],
   "source": [
    "Pacientes_train, Pacientes_test=train_test_split(Medicamentos[\"ID_PACIENTE\"].drop_duplicates(),test_size=0.33)"
   ]
  },
  {
   "cell_type": "code",
   "execution_count": 8,
   "metadata": {},
   "outputs": [],
   "source": [
    "Pacientes_train.to_excel(\"Lista_pacientes_train.xlsx\")\n",
    "Pacientes_test.to_excel(\"Lista_pacientes_test.xlsx\")"
   ]
  },
  {
   "cell_type": "code",
   "execution_count": 2,
   "metadata": {},
   "outputs": [],
   "source": [
    "biologicos=pd.read_excel(\"../Bases limpias/Biologicos_19_jun_AM.xlsx\")\n",
    "biologicos_train,biologicos_test=train_test_split(biologicos[\"ID_PACIENTE\"].drop_duplicates(),test_size=0.33)\n",
    "\n",
    "biologicos_train.to_excel(\"Lista_pacientes_biologicos_train.xlsx\")\n",
    "biologicos_test.to_excel(\"Lista_pacientes_biologicos_test.xlsx\")\n"
   ]
  },
  {
   "cell_type": "code",
   "execution_count": null,
   "metadata": {},
   "outputs": [],
   "source": []
  }
 ],
 "metadata": {
  "language_info": {
   "codemirror_mode": {
    "name": "ipython",
    "version": 3
   },
   "file_extension": ".py",
   "mimetype": "text/x-python",
   "name": "python",
   "nbconvert_exporter": "python",
   "pygments_lexer": "ipython3",
   "version": "3.8.2-final"
  },
  "orig_nbformat": 2,
  "kernelspec": {
   "name": "python38264bit98f1a1bc423940899042b718c959f4d5",
   "display_name": "Python 3.8.2 64-bit"
  }
 },
 "nbformat": 4,
 "nbformat_minor": 2
}