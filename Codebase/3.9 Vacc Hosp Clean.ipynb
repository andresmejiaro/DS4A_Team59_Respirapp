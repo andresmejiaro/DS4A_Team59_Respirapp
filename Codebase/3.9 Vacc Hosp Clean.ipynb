{
 "cells": [
  {
   "cell_type": "code",
   "execution_count": 1,
   "metadata": {},
   "outputs": [],
   "source": [
    "import pandas as pd\n",
    "import numpy as np\n",
    "import matplotlib as plt\n",
    "import seaborn as sns"
   ]
  },
  {
   "cell_type": "code",
   "execution_count": 2,
   "metadata": {},
   "outputs": [],
   "source": [
    "%matplotlib inline"
   ]
  },
  {
   "cell_type": "markdown",
   "metadata": {},
   "source": [
    "## Modify \"Urgencias\" Dataframe"
   ]
  },
  {
   "cell_type": "code",
   "execution_count": 3,
   "metadata": {},
   "outputs": [
    {
     "data": {
      "text/plain": [
       "(5086, 8)"
      ]
     },
     "execution_count": 3,
     "metadata": {},
     "output_type": "execute_result"
    }
   ],
   "source": [
    "df_urg = pd.read_excel('Datos/Urgencias.xlsx')\n",
    "df_urg.shape"
   ]
  },
  {
   "cell_type": "code",
   "execution_count": 4,
   "metadata": {},
   "outputs": [
    {
     "data": {
      "text/plain": [
       "Index(['Numero_Identificacion', 'Fecha_Emision', 'Regional_EPS_Desc',\n",
       "       'Codigo_Prestacion_Op', 'Descripcion_Prestacion',\n",
       "       'Codigo_Diagnostico_EPS_Op', 'Diagnostico_EPS_Desc',\n",
       "       'Cantidad_Autorizada'],\n",
       "      dtype='object')"
      ]
     },
     "execution_count": 4,
     "metadata": {},
     "output_type": "execute_result"
    }
   ],
   "source": [
    "df_urg.columns"
   ]
  },
  {
   "cell_type": "code",
   "execution_count": 5,
   "metadata": {},
   "outputs": [],
   "source": [
    "dict_names_urg = {'Numero_Identificacion':'ID_PACIENTE',\n",
    "                  'Fecha_Emision':'FECHA_EMISION',\n",
    "                  'Regional_EPS_Desc':'REGIONAL_EPS',\n",
    "                  'Codigo_Prestacion_Op':'COD_PRESTACION_OP',\n",
    "                  'Descripcion_Prestacion':'DESC_PRESENTACION',\n",
    "                  'Codigo_Diagnostico_EPS_Op':'COD_DIAGNOSTICO_EPS_OP',\n",
    "                  'Diagnostico_EPS_Desc':'DIAGNOSTICO_EPS_DESC',\n",
    "                  'Cantidad_Autorizada':'CANTIDAD_AUTORIZADA'}"
   ]
  },
  {
   "cell_type": "code",
   "execution_count": 10,
   "metadata": {
    "scrolled": true
   },
   "outputs": [
    {
     "data": {
      "text/html": [
       "<div>\n",
       "<style scoped>\n",
       "    .dataframe tbody tr th:only-of-type {\n",
       "        vertical-align: middle;\n",
       "    }\n",
       "\n",
       "    .dataframe tbody tr th {\n",
       "        vertical-align: top;\n",
       "    }\n",
       "\n",
       "    .dataframe thead th {\n",
       "        text-align: right;\n",
       "    }\n",
       "</style>\n",
       "<table border=\"1\" class=\"dataframe\">\n",
       "  <thead>\n",
       "    <tr style=\"text-align: right;\">\n",
       "      <th></th>\n",
       "      <th>ID_PACIENTE</th>\n",
       "      <th>FECHA_EMISION</th>\n",
       "      <th>REGIONAL_EPS</th>\n",
       "      <th>COD_PRESTACION_OP</th>\n",
       "      <th>DESC_PRESENTACION</th>\n",
       "      <th>COD_DIAGNOSTICO_EPS_OP</th>\n",
       "      <th>DIAGNOSTICO_EPS_DESC</th>\n",
       "      <th>CANTIDAD_AUTORIZADA</th>\n",
       "    </tr>\n",
       "  </thead>\n",
       "  <tbody>\n",
       "    <tr>\n",
       "      <th>0</th>\n",
       "      <td>1759148</td>\n",
       "      <td>2019-09-29</td>\n",
       "      <td>Pereira</td>\n",
       "      <td>S0050115</td>\n",
       "      <td>ATENCION MEDICA PRIORITARIA</td>\n",
       "      <td>Z759</td>\n",
       "      <td>PROBLEMA NO ESPECIFICADO RELACIONADO CON SERVI...</td>\n",
       "      <td>1</td>\n",
       "    </tr>\n",
       "    <tr>\n",
       "      <th>1</th>\n",
       "      <td>1110797</td>\n",
       "      <td>2019-07-20</td>\n",
       "      <td>Armenia</td>\n",
       "      <td>S0050115</td>\n",
       "      <td>ATENCION MEDICA PRIORITARIA</td>\n",
       "      <td>R104</td>\n",
       "      <td>OTROS DOLORES ABDOMINALES Y LOS NO ESPECIFICADOS</td>\n",
       "      <td>1</td>\n",
       "    </tr>\n",
       "    <tr>\n",
       "      <th>2</th>\n",
       "      <td>1497880</td>\n",
       "      <td>2019-07-21</td>\n",
       "      <td>Armenia</td>\n",
       "      <td>S0050115</td>\n",
       "      <td>ATENCION MEDICA PRIORITARIA</td>\n",
       "      <td>Z759</td>\n",
       "      <td>PROBLEMA NO ESPECIFICADO RELACIONADO CON SERVI...</td>\n",
       "      <td>1</td>\n",
       "    </tr>\n",
       "  </tbody>\n",
       "</table>\n",
       "</div>"
      ],
      "text/plain": [
       "   ID_PACIENTE FECHA_EMISION REGIONAL_EPS COD_PRESTACION_OP  \\\n",
       "0      1759148    2019-09-29      Pereira          S0050115   \n",
       "1      1110797    2019-07-20      Armenia          S0050115   \n",
       "2      1497880    2019-07-21      Armenia          S0050115   \n",
       "\n",
       "             DESC_PRESENTACION COD_DIAGNOSTICO_EPS_OP  \\\n",
       "0  ATENCION MEDICA PRIORITARIA                   Z759   \n",
       "1  ATENCION MEDICA PRIORITARIA                   R104   \n",
       "2  ATENCION MEDICA PRIORITARIA                   Z759   \n",
       "\n",
       "                                DIAGNOSTICO_EPS_DESC  CANTIDAD_AUTORIZADA  \n",
       "0  PROBLEMA NO ESPECIFICADO RELACIONADO CON SERVI...                    1  \n",
       "1   OTROS DOLORES ABDOMINALES Y LOS NO ESPECIFICADOS                    1  \n",
       "2  PROBLEMA NO ESPECIFICADO RELACIONADO CON SERVI...                    1  "
      ]
     },
     "execution_count": 10,
     "metadata": {},
     "output_type": "execute_result"
    }
   ],
   "source": [
    "df_urg = df_urg.rename(columns = dict_names_urg)\n",
    "df_urg.head(3)"
   ]
  },
  {
   "cell_type": "code",
   "execution_count": 7,
   "metadata": {},
   "outputs": [],
   "source": [
    "#Ajusta Campo Cantidad\n",
    "df_urg['CANTIDAD_AUTORIZADA'] = 1"
   ]
  },
  {
   "cell_type": "code",
   "execution_count": 8,
   "metadata": {},
   "outputs": [
    {
     "name": "stdout",
     "output_type": "stream",
     "text": [
      "(5086, 8)\n",
      "(2713, 8)\n"
     ]
    }
   ],
   "source": [
    "df_urg_d = df_urg.drop_duplicates()\n",
    "print(df_urg.shape)\n",
    "print(df_urg_d.shape)"
   ]
  },
  {
   "cell_type": "code",
   "execution_count": 9,
   "metadata": {},
   "outputs": [],
   "source": [
    "# EXPORTA URGENCIAS\n",
    "df_urg_d.to_csv('df_urgencias.csv')"
   ]
  },
  {
   "cell_type": "markdown",
   "metadata": {},
   "source": [
    "## Modify \"Ayudas Diagnósticas\" Dataframe"
   ]
  },
  {
   "cell_type": "code",
   "execution_count": 11,
   "metadata": {},
   "outputs": [
    {
     "data": {
      "text/plain": [
       "(6871, 4)"
      ]
     },
     "execution_count": 11,
     "metadata": {},
     "output_type": "execute_result"
    }
   ],
   "source": [
    "df_ay_diag = pd.read_excel('Datos/Ayudas_diagnosticas.xlsx')\n",
    "df_ay_diag.shape"
   ]
  },
  {
   "cell_type": "code",
   "execution_count": 12,
   "metadata": {},
   "outputs": [
    {
     "data": {
      "text/plain": [
       "Index(['Numero_Identificacion', 'Fecha_Orden', 'Manual_Proced_Desc',\n",
       "       'Result_Ayuda_Diag_Txt'],\n",
       "      dtype='object')"
      ]
     },
     "execution_count": 12,
     "metadata": {},
     "output_type": "execute_result"
    }
   ],
   "source": [
    "df_ay_diag.columns"
   ]
  },
  {
   "cell_type": "code",
   "execution_count": 13,
   "metadata": {},
   "outputs": [],
   "source": [
    "dict_names_ay_diag = {'Numero_Identificacion':'ID_PACIENTE',\n",
    "                      'Fecha_Orden':'FECHA_ORIGEN',\n",
    "                      'Manual_Proced_Desc':'MANUAL_PROCED_DESC',\n",
    "                      'Result_Ayuda_Diag_Txt':'RESULT_AYUDA_DIAG'}"
   ]
  },
  {
   "cell_type": "code",
   "execution_count": 14,
   "metadata": {},
   "outputs": [
    {
     "data": {
      "text/html": [
       "<div>\n",
       "<style scoped>\n",
       "    .dataframe tbody tr th:only-of-type {\n",
       "        vertical-align: middle;\n",
       "    }\n",
       "\n",
       "    .dataframe tbody tr th {\n",
       "        vertical-align: top;\n",
       "    }\n",
       "\n",
       "    .dataframe thead th {\n",
       "        text-align: right;\n",
       "    }\n",
       "</style>\n",
       "<table border=\"1\" class=\"dataframe\">\n",
       "  <thead>\n",
       "    <tr style=\"text-align: right;\">\n",
       "      <th></th>\n",
       "      <th>ID_PACIENTE</th>\n",
       "      <th>FECHA_ORIGEN</th>\n",
       "      <th>MANUAL_PROCED_DESC</th>\n",
       "      <th>RESULT_AYUDA_DIAG</th>\n",
       "    </tr>\n",
       "  </thead>\n",
       "  <tbody>\n",
       "    <tr>\n",
       "      <th>0</th>\n",
       "      <td>417594</td>\n",
       "      <td>2019-08-05</td>\n",
       "      <td>Colesterol Total</td>\n",
       "      <td>145.0</td>\n",
       "    </tr>\n",
       "    <tr>\n",
       "      <th>1</th>\n",
       "      <td>423128</td>\n",
       "      <td>2019-11-26</td>\n",
       "      <td>Colesterol Total</td>\n",
       "      <td>235.0</td>\n",
       "    </tr>\n",
       "    <tr>\n",
       "      <th>2</th>\n",
       "      <td>423128</td>\n",
       "      <td>2019-05-16</td>\n",
       "      <td>Colesterol Total</td>\n",
       "      <td>199.0</td>\n",
       "    </tr>\n",
       "  </tbody>\n",
       "</table>\n",
       "</div>"
      ],
      "text/plain": [
       "   ID_PACIENTE FECHA_ORIGEN MANUAL_PROCED_DESC  RESULT_AYUDA_DIAG\n",
       "0       417594   2019-08-05   Colesterol Total              145.0\n",
       "1       423128   2019-11-26   Colesterol Total              235.0\n",
       "2       423128   2019-05-16   Colesterol Total              199.0"
      ]
     },
     "execution_count": 14,
     "metadata": {},
     "output_type": "execute_result"
    }
   ],
   "source": [
    "df_ay_diag = df_ay_diag.rename(columns = dict_names_ay_diag)\n",
    "df_ay_diag.head(3)"
   ]
  },
  {
   "cell_type": "code",
   "execution_count": 15,
   "metadata": {},
   "outputs": [],
   "source": [
    "dic_prodec = {\n",
    "        'Colesterol Hdl':'Colesterol Hdl',\n",
    "        'Colesterol Ldl':'Colesterol Ldl',\n",
    "        'Glucosa (Suero, Lcr, Otros Flu¡Dos)':'Glucosa',\n",
    "        'Glucosa En Suero, Lcr U Otro Fluido Diferente A Orina':'Glucosa',\n",
    "        'Glucosa':'Glucosa',\n",
    "        'Hemoglobina  ':'Hemoglobina',\n",
    "        'Hemoglobina Glicada (Hba1C)':'Hemoglobina Glicada',\n",
    "        'Hemoglobina Glicosilada (Hba1C)':'Hemoglobina Glicada',\n",
    "        'Hemoglobina':'Hemoglobina',\n",
    "        'Hemoglobina:':'Hemoglobina',\n",
    "        'Linfocitos Totales':'Linfocitos',\n",
    "        'Tasa Filtracion Glomerular (Tfg Metodo Mdrd)':'Tasa Filtracion Glomerular(MDRD)',\n",
    "        'Tasa Filtración Glomerular (Tfg Método Mdrd)':'Tasa Filtracion Glomerular(MDRD)',\n",
    "        'Transaminasa Glutamico Oxalacetica O Aspartato Amino Transferasa [Tgo-Ast]':'Transaminasa Glutamico Oxalacetica',\n",
    "        'Transaminasa Glutamicopiruvica O Alanino Amino Transferasa [Tgp-Alt]':'Transaminasa Glutamico Piruvica', \n",
    "        'Transaminasa Got/ Ast, Poct':'Transaminasa Glutamico Oxalacetica',\n",
    "        'Transaminasa Oxalacetica (Got-Ast)':'Transaminasa Glutamico Oxalacetica',\n",
    "        'Transaminasa Oxaloacetica Got (Ast)':'Transaminasa Glutamico Oxalacetica',\n",
    "        'Transaminasa Piruvica (Gpt - Alt)':'Transaminasa Glutamico Piruvica',\n",
    "        'Transaminasa Piruvica Gpt (Alt)':'Transaminasa Glutamico Piruvica',\n",
    "        'Transaminasas Gpt (Alt)':'Transaminasa Glutamico Oxalacetica',\n",
    "        'Transaminasas Oxalacetica Got (Asat)':'Transaminasa Glutamico Oxalacetica',\n",
    "        'Transaminasas Piruvica Gpt (Alat)':'Transaminasa Glutamico Piruvica',\n",
    "        'Trigliceridos':'Trigliceridos',\n",
    "        'Colesterol Total':'Colesterol Total'}"
   ]
  },
  {
   "cell_type": "code",
   "execution_count": 16,
   "metadata": {
    "scrolled": true
   },
   "outputs": [
    {
     "data": {
      "text/html": [
       "<div>\n",
       "<style scoped>\n",
       "    .dataframe tbody tr th:only-of-type {\n",
       "        vertical-align: middle;\n",
       "    }\n",
       "\n",
       "    .dataframe tbody tr th {\n",
       "        vertical-align: top;\n",
       "    }\n",
       "\n",
       "    .dataframe thead th {\n",
       "        text-align: right;\n",
       "    }\n",
       "</style>\n",
       "<table border=\"1\" class=\"dataframe\">\n",
       "  <thead>\n",
       "    <tr style=\"text-align: right;\">\n",
       "      <th></th>\n",
       "      <th>ID_PACIENTE</th>\n",
       "      <th>FECHA_ORIGEN</th>\n",
       "      <th>MANUAL_PROCED_DESC</th>\n",
       "      <th>RESULT_AYUDA_DIAG</th>\n",
       "      <th>ManualProc</th>\n",
       "    </tr>\n",
       "  </thead>\n",
       "  <tbody>\n",
       "    <tr>\n",
       "      <th>0</th>\n",
       "      <td>417594</td>\n",
       "      <td>2019-08-05</td>\n",
       "      <td>Colesterol Total</td>\n",
       "      <td>145.0</td>\n",
       "      <td>Colesterol Total</td>\n",
       "    </tr>\n",
       "    <tr>\n",
       "      <th>1</th>\n",
       "      <td>423128</td>\n",
       "      <td>2019-11-26</td>\n",
       "      <td>Colesterol Total</td>\n",
       "      <td>235.0</td>\n",
       "      <td>Colesterol Total</td>\n",
       "    </tr>\n",
       "    <tr>\n",
       "      <th>2</th>\n",
       "      <td>423128</td>\n",
       "      <td>2019-05-16</td>\n",
       "      <td>Colesterol Total</td>\n",
       "      <td>199.0</td>\n",
       "      <td>Colesterol Total</td>\n",
       "    </tr>\n",
       "    <tr>\n",
       "      <th>3</th>\n",
       "      <td>423128</td>\n",
       "      <td>2018-06-28</td>\n",
       "      <td>Colesterol Total</td>\n",
       "      <td>256.0</td>\n",
       "      <td>Colesterol Total</td>\n",
       "    </tr>\n",
       "    <tr>\n",
       "      <th>4</th>\n",
       "      <td>423128</td>\n",
       "      <td>2017-12-22</td>\n",
       "      <td>Colesterol Total</td>\n",
       "      <td>226.0</td>\n",
       "      <td>Colesterol Total</td>\n",
       "    </tr>\n",
       "  </tbody>\n",
       "</table>\n",
       "</div>"
      ],
      "text/plain": [
       "   ID_PACIENTE FECHA_ORIGEN MANUAL_PROCED_DESC  RESULT_AYUDA_DIAG  \\\n",
       "0       417594   2019-08-05   Colesterol Total              145.0   \n",
       "1       423128   2019-11-26   Colesterol Total              235.0   \n",
       "2       423128   2019-05-16   Colesterol Total              199.0   \n",
       "3       423128   2018-06-28   Colesterol Total              256.0   \n",
       "4       423128   2017-12-22   Colesterol Total              226.0   \n",
       "\n",
       "         ManualProc  \n",
       "0  Colesterol Total  \n",
       "1  Colesterol Total  \n",
       "2  Colesterol Total  \n",
       "3  Colesterol Total  \n",
       "4  Colesterol Total  "
      ]
     },
     "execution_count": 16,
     "metadata": {},
     "output_type": "execute_result"
    }
   ],
   "source": [
    "df_ay_diag['ManualProc'] = df_ay_diag['MANUAL_PROCED_DESC'].map(dic_prodec)\n",
    "df_ay_diag.head()"
   ]
  },
  {
   "cell_type": "code",
   "execution_count": 17,
   "metadata": {},
   "outputs": [
    {
     "data": {
      "text/html": [
       "<div>\n",
       "<style scoped>\n",
       "    .dataframe tbody tr th:only-of-type {\n",
       "        vertical-align: middle;\n",
       "    }\n",
       "\n",
       "    .dataframe tbody tr th {\n",
       "        vertical-align: top;\n",
       "    }\n",
       "\n",
       "    .dataframe thead th {\n",
       "        text-align: right;\n",
       "    }\n",
       "</style>\n",
       "<table border=\"1\" class=\"dataframe\">\n",
       "  <thead>\n",
       "    <tr style=\"text-align: right;\">\n",
       "      <th></th>\n",
       "      <th>ID_PACIENTE</th>\n",
       "      <th>FECHA_ORIGEN</th>\n",
       "      <th>MANUAL_PROCED_DESC</th>\n",
       "      <th>RESULT_AYUDA_DIAG</th>\n",
       "      <th>ManualProc</th>\n",
       "      <th>MoY</th>\n",
       "      <th>Year</th>\n",
       "    </tr>\n",
       "  </thead>\n",
       "  <tbody>\n",
       "    <tr>\n",
       "      <th>0</th>\n",
       "      <td>417594</td>\n",
       "      <td>2019-08-05</td>\n",
       "      <td>Colesterol Total</td>\n",
       "      <td>145.0</td>\n",
       "      <td>Colesterol Total</td>\n",
       "      <td>2019-08</td>\n",
       "      <td>2019</td>\n",
       "    </tr>\n",
       "    <tr>\n",
       "      <th>1</th>\n",
       "      <td>423128</td>\n",
       "      <td>2019-11-26</td>\n",
       "      <td>Colesterol Total</td>\n",
       "      <td>235.0</td>\n",
       "      <td>Colesterol Total</td>\n",
       "      <td>2019-11</td>\n",
       "      <td>2019</td>\n",
       "    </tr>\n",
       "    <tr>\n",
       "      <th>2</th>\n",
       "      <td>423128</td>\n",
       "      <td>2019-05-16</td>\n",
       "      <td>Colesterol Total</td>\n",
       "      <td>199.0</td>\n",
       "      <td>Colesterol Total</td>\n",
       "      <td>2019-05</td>\n",
       "      <td>2019</td>\n",
       "    </tr>\n",
       "    <tr>\n",
       "      <th>3</th>\n",
       "      <td>423128</td>\n",
       "      <td>2018-06-28</td>\n",
       "      <td>Colesterol Total</td>\n",
       "      <td>256.0</td>\n",
       "      <td>Colesterol Total</td>\n",
       "      <td>2018-06</td>\n",
       "      <td>2018</td>\n",
       "    </tr>\n",
       "    <tr>\n",
       "      <th>4</th>\n",
       "      <td>423128</td>\n",
       "      <td>2017-12-22</td>\n",
       "      <td>Colesterol Total</td>\n",
       "      <td>226.0</td>\n",
       "      <td>Colesterol Total</td>\n",
       "      <td>2017-12</td>\n",
       "      <td>2017</td>\n",
       "    </tr>\n",
       "  </tbody>\n",
       "</table>\n",
       "</div>"
      ],
      "text/plain": [
       "   ID_PACIENTE FECHA_ORIGEN MANUAL_PROCED_DESC  RESULT_AYUDA_DIAG  \\\n",
       "0       417594   2019-08-05   Colesterol Total              145.0   \n",
       "1       423128   2019-11-26   Colesterol Total              235.0   \n",
       "2       423128   2019-05-16   Colesterol Total              199.0   \n",
       "3       423128   2018-06-28   Colesterol Total              256.0   \n",
       "4       423128   2017-12-22   Colesterol Total              226.0   \n",
       "\n",
       "         ManualProc      MoY  Year  \n",
       "0  Colesterol Total  2019-08  2019  \n",
       "1  Colesterol Total  2019-11  2019  \n",
       "2  Colesterol Total  2019-05  2019  \n",
       "3  Colesterol Total  2018-06  2018  \n",
       "4  Colesterol Total  2017-12  2017  "
      ]
     },
     "execution_count": 17,
     "metadata": {},
     "output_type": "execute_result"
    }
   ],
   "source": [
    "df_ay_diag['MoY'] = pd.to_datetime(df_ay_diag['FECHA_ORIGEN']).dt.to_period('M')\n",
    "df_ay_diag['Year'] = pd.to_datetime(df_ay_diag['FECHA_ORIGEN']).dt.year\n",
    "df_ay_diag.head()"
   ]
  },
  {
   "cell_type": "code",
   "execution_count": 18,
   "metadata": {},
   "outputs": [
    {
     "data": {
      "text/plain": [
       "(6846, 6)"
      ]
     },
     "execution_count": 18,
     "metadata": {},
     "output_type": "execute_result"
    }
   ],
   "source": [
    "df_ay_diag_d = df_ay_diag[['ID_PACIENTE','FECHA_ORIGEN','ManualProc','RESULT_AYUDA_DIAG','MoY','Year']].drop_duplicates()\n",
    "df_ay_diag_d.shape"
   ]
  },
  {
   "cell_type": "code",
   "execution_count": 19,
   "metadata": {},
   "outputs": [],
   "source": [
    "# EXPORTA BASE AYUDAS_DIAG\n",
    "df_ay_diag_d.to_csv('df_ayu_diag.csv')"
   ]
  },
  {
   "cell_type": "markdown",
   "metadata": {},
   "source": [
    "## Modify \"Vacunación\" Dataframe"
   ]
  },
  {
   "cell_type": "code",
   "execution_count": 20,
   "metadata": {},
   "outputs": [
    {
     "data": {
      "text/plain": [
       "(264, 8)"
      ]
     },
     "execution_count": 20,
     "metadata": {},
     "output_type": "execute_result"
    }
   ],
   "source": [
    "df_vacc = pd.read_excel('Datos/Vacunacion.xlsx')\n",
    "df_vacc.shape"
   ]
  },
  {
   "cell_type": "code",
   "execution_count": 21,
   "metadata": {},
   "outputs": [
    {
     "data": {
      "text/plain": [
       "Index(['Numero_de_documento', 'Fecha_Emision', 'Regional_EPS_Desc',\n",
       "       'Codigo_Prestacion_Op', 'Descripcion_Prestacion',\n",
       "       'Codigo_Diagnostico_EPS_Op', 'Diagnostico_EPS_Desc',\n",
       "       'Cantidad_Autorizada'],\n",
       "      dtype='object')"
      ]
     },
     "execution_count": 21,
     "metadata": {},
     "output_type": "execute_result"
    }
   ],
   "source": [
    "df_vacc.columns"
   ]
  },
  {
   "cell_type": "code",
   "execution_count": 22,
   "metadata": {},
   "outputs": [],
   "source": [
    "dict_names_vacc= {'Numero_de_documento':'ID_PACIENTE',\n",
    "                  'Fecha_Emision':'FECHA_EMISION',\n",
    "                  'Regional_EPS_Desc':'REGIONAL_EPS',\n",
    "                  'Codigo_Prestacion_Op':'COD_PRESTACION_OP',\n",
    "                  'Descripcion_Prestacion':'DESC_PRESENTACION',\n",
    "                  'Codigo_Diagnostico_EPS_Op':'COD_DIAGNOSTICO_EPS_OP',\n",
    "                  'Diagnostico_EPS_Desc':'DIAGNOSTICO_EPS_DESC',\n",
    "                  'Cantidad_Autorizada':'CANTIDAD_AUTORIZADA'}"
   ]
  },
  {
   "cell_type": "code",
   "execution_count": 23,
   "metadata": {
    "scrolled": true
   },
   "outputs": [
    {
     "data": {
      "text/html": [
       "<div>\n",
       "<style scoped>\n",
       "    .dataframe tbody tr th:only-of-type {\n",
       "        vertical-align: middle;\n",
       "    }\n",
       "\n",
       "    .dataframe tbody tr th {\n",
       "        vertical-align: top;\n",
       "    }\n",
       "\n",
       "    .dataframe thead th {\n",
       "        text-align: right;\n",
       "    }\n",
       "</style>\n",
       "<table border=\"1\" class=\"dataframe\">\n",
       "  <thead>\n",
       "    <tr style=\"text-align: right;\">\n",
       "      <th></th>\n",
       "      <th>ID_PACIENTE</th>\n",
       "      <th>FECHA_EMISION</th>\n",
       "      <th>REGIONAL_EPS</th>\n",
       "      <th>COD_PRESTACION_OP</th>\n",
       "      <th>DESC_PRESENTACION</th>\n",
       "      <th>COD_DIAGNOSTICO_EPS_OP</th>\n",
       "      <th>DIAGNOSTICO_EPS_DESC</th>\n",
       "      <th>CANTIDAD_AUTORIZADA</th>\n",
       "    </tr>\n",
       "  </thead>\n",
       "  <tbody>\n",
       "    <tr>\n",
       "      <th>0</th>\n",
       "      <td>845676</td>\n",
       "      <td>2018-01-29</td>\n",
       "      <td>Bogota</td>\n",
       "      <td>S1120191</td>\n",
       "      <td>VACUNA PAI INFLUENZA NIÑOS/AS MAYORES DE 9 AÑOS</td>\n",
       "      <td>Z251</td>\n",
       "      <td>NECESIDAD DE INMUNIZACIÓN CONTRA LA INFLUENZA ...</td>\n",
       "      <td>1</td>\n",
       "    </tr>\n",
       "    <tr>\n",
       "      <th>1</th>\n",
       "      <td>686768</td>\n",
       "      <td>2018-05-20</td>\n",
       "      <td>Medellin</td>\n",
       "      <td>S1120191</td>\n",
       "      <td>VACUNA PAI INFLUENZA NIÑOS/AS MAYORES DE 9 AÑOS</td>\n",
       "      <td>Z759</td>\n",
       "      <td>PROBLEMA NO ESPECIFICADO RELACIONADO CON SERVI...</td>\n",
       "      <td>1</td>\n",
       "    </tr>\n",
       "    <tr>\n",
       "      <th>2</th>\n",
       "      <td>1790062</td>\n",
       "      <td>2018-06-05</td>\n",
       "      <td>Medellin</td>\n",
       "      <td>S1120191</td>\n",
       "      <td>VACUNA PAI INFLUENZA NIÑOS/AS MAYORES DE 9 AÑOS</td>\n",
       "      <td>Z251</td>\n",
       "      <td>NECESIDAD DE INMUNIZACIÓN CONTRA LA INFLUENZA ...</td>\n",
       "      <td>1</td>\n",
       "    </tr>\n",
       "  </tbody>\n",
       "</table>\n",
       "</div>"
      ],
      "text/plain": [
       "   ID_PACIENTE FECHA_EMISION REGIONAL_EPS COD_PRESTACION_OP  \\\n",
       "0       845676    2018-01-29       Bogota          S1120191   \n",
       "1       686768    2018-05-20     Medellin          S1120191   \n",
       "2      1790062    2018-06-05     Medellin          S1120191   \n",
       "\n",
       "                                 DESC_PRESENTACION COD_DIAGNOSTICO_EPS_OP  \\\n",
       "0  VACUNA PAI INFLUENZA NIÑOS/AS MAYORES DE 9 AÑOS                   Z251   \n",
       "1  VACUNA PAI INFLUENZA NIÑOS/AS MAYORES DE 9 AÑOS                   Z759   \n",
       "2  VACUNA PAI INFLUENZA NIÑOS/AS MAYORES DE 9 AÑOS                   Z251   \n",
       "\n",
       "                                DIAGNOSTICO_EPS_DESC  CANTIDAD_AUTORIZADA  \n",
       "0  NECESIDAD DE INMUNIZACIÓN CONTRA LA INFLUENZA ...                    1  \n",
       "1  PROBLEMA NO ESPECIFICADO RELACIONADO CON SERVI...                    1  \n",
       "2  NECESIDAD DE INMUNIZACIÓN CONTRA LA INFLUENZA ...                    1  "
      ]
     },
     "execution_count": 23,
     "metadata": {},
     "output_type": "execute_result"
    }
   ],
   "source": [
    "df_vacc = df_vacc.rename(columns = dict_names_vacc)\n",
    "df_vacc.head(3)"
   ]
  },
  {
   "cell_type": "code",
   "execution_count": 24,
   "metadata": {},
   "outputs": [],
   "source": [
    "df_vacc['CANTIDAD_AUTORIZADA'] = 1"
   ]
  },
  {
   "cell_type": "code",
   "execution_count": 25,
   "metadata": {},
   "outputs": [
    {
     "name": "stdout",
     "output_type": "stream",
     "text": [
      "(264, 8)\n",
      "(217, 8)\n"
     ]
    }
   ],
   "source": [
    "df_vacc_d = df_vacc.drop_duplicates()\n",
    "print(df_vacc.shape)\n",
    "print(df_vacc_d.shape)"
   ]
  },
  {
   "cell_type": "code",
   "execution_count": 26,
   "metadata": {},
   "outputs": [],
   "source": [
    "# EXPORTA VACUNAS\n",
    "df_vacc_d.to_csv('df_vaccunas.csv')"
   ]
  }
 ],
 "metadata": {
  "kernelspec": {
   "display_name": "Python 3",
   "language": "python",
   "name": "python3"
  },
  "language_info": {
   "codemirror_mode": {
    "name": "ipython",
    "version": 3
   },
   "file_extension": ".py",
   "mimetype": "text/x-python",
   "name": "python",
   "nbconvert_exporter": "python",
   "pygments_lexer": "ipython3",
   "version": "3.8.3"
  }
 },
 "nbformat": 4,
 "nbformat_minor": 4
}
