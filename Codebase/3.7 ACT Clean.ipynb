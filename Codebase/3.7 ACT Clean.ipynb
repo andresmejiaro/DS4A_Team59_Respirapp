{
 "cells": [
  {
   "cell_type": "code",
   "execution_count": 1,
   "metadata": {},
   "outputs": [],
   "source": [
    "import pandas as pd\n",
    "import numpy as np\n",
    "import matplotlib.pyplot as plt\n",
    "import seaborn as sns"
   ]
  },
  {
   "cell_type": "markdown",
   "metadata": {},
   "source": [
    "En este archivo se exploran las siguientes tres bases de datos:\n",
    "* ACT\n",
    "* ACT_DESAGREGADO\n",
    "* DISNEA"
   ]
  },
  {
   "cell_type": "code",
   "execution_count": 2,
   "metadata": {},
   "outputs": [
    {
     "name": "stdout",
     "output_type": "stream",
     "text": [
      "-------------DF ACT\n",
      "<class 'pandas.core.frame.DataFrame'>\n",
      "RangeIndex: 15090 entries, 0 to 15089\n",
      "Data columns (total 5 columns):\n",
      " #   Column        Non-Null Count  Dtype         \n",
      "---  ------        --------------  -----         \n",
      " 0   ID            15090 non-null  int64         \n",
      " 1   DS_NOMBRE     15090 non-null  object        \n",
      " 2   NM_PUNTAJE    15090 non-null  int64         \n",
      " 3   DS_RESULTADO  15090 non-null  object        \n",
      " 4   FE_RESULTADO  15090 non-null  datetime64[ns]\n",
      "dtypes: datetime64[ns](1), int64(2), object(2)\n",
      "memory usage: 589.6+ KB\n",
      "\n",
      "\n",
      "-------------DF ACT DESAGREGADO\n",
      "<class 'pandas.core.frame.DataFrame'>\n",
      "RangeIndex: 8602 entries, 0 to 8601\n",
      "Data columns (total 5 columns):\n",
      " #   Column                 Non-Null Count  Dtype         \n",
      "---  ------                 --------------  -----         \n",
      " 0   NUMERO IDENTIFICACION  8602 non-null   int64         \n",
      " 1   NOMBRE ENCUESTA        8602 non-null   object        \n",
      " 2   PREGUNTA               8602 non-null   object        \n",
      " 3   RESPUESTA              8602 non-null   object        \n",
      " 4   FE_RESULTADO           8602 non-null   datetime64[ns]\n",
      "dtypes: datetime64[ns](1), int64(1), object(3)\n",
      "memory usage: 336.1+ KB\n",
      "-------------DISNEA\n",
      "\n",
      "\n",
      "<class 'pandas.core.frame.DataFrame'>\n",
      "RangeIndex: 137 entries, 0 to 136\n",
      "Data columns (total 3 columns):\n",
      " #   Column   Non-Null Count  Dtype         \n",
      "---  ------   --------------  -----         \n",
      " 0   id       137 non-null    int64         \n",
      " 1   FE_ALTA  137 non-null    datetime64[ns]\n",
      " 2   Examen   137 non-null    object        \n",
      "dtypes: datetime64[ns](1), int64(1), object(1)\n",
      "memory usage: 3.3+ KB\n"
     ]
    }
   ],
   "source": [
    "#Importar archivos\n",
    "ACT_data = pd.read_excel(\"./Data/ACT.xlsx\")\n",
    "ACT_DESAGREGADO_data = pd.read_excel(\"./Data/ACT_DESAGREGADO.xlsx\")\n",
    "DISNEA_data = pd.read_excel(\"./Data/Disnea.xlsx\")\n",
    "#Creación de DF\n",
    "df_ACT = ACT_data\n",
    "df_ACT_DSG = ACT_DESAGREGADO_data\n",
    "df_DISNEA = DISNEA_data\n",
    "#Características\n",
    "print(\"-------------DF ACT\")\n",
    "df_ACT.info()\n",
    "print(\"\\n\")\n",
    "print(\"-------------DF ACT DESAGREGADO\")\n",
    "df_ACT_DSG.info()\n",
    "print(\"-------------DISNEA\")\n",
    "print(\"\\n\")\n",
    "df_DISNEA.info()"
   ]
  },
  {
   "cell_type": "markdown",
   "metadata": {},
   "source": [
    "Aparentemente no hay missing data entre las BD, eso es bueno."
   ]
  },
  {
   "cell_type": "code",
   "execution_count": 3,
   "metadata": {},
   "outputs": [
    {
     "name": "stdout",
     "output_type": "stream",
     "text": [
      "---------------ACT------------------------\n",
      "Tamaño de la BD: (15090, 5)\n"
     ]
    }
   ],
   "source": [
    "#Características\n",
    "print(\"---------------ACT------------------------\")\n",
    "print(\"Tamaño de la BD: \" + str(df_ACT.shape))"
   ]
  },
  {
   "cell_type": "code",
   "execution_count": 4,
   "metadata": {},
   "outputs": [
    {
     "name": "stdout",
     "output_type": "stream",
     "text": [
      "---------------ACT DESAGREGADO------------------------\n",
      "Tamaño de la BD: (8602, 5)\n",
      "------------PROCESAR NOMBRE DE LAS VARIABLES\n",
      "<class 'pandas.core.frame.DataFrame'>\n",
      "RangeIndex: 8602 entries, 0 to 8601\n",
      "Data columns (total 5 columns):\n",
      " #   Column         Non-Null Count  Dtype         \n",
      "---  ------         --------------  -----         \n",
      " 0   ID             8602 non-null   int64         \n",
      " 1   DS_NOMBRE      8602 non-null   object        \n",
      " 2   PREGUNTA_ACT   8602 non-null   object        \n",
      " 3   RESPUESTA_ACT  8602 non-null   object        \n",
      " 4   FE_RESULTADO   8602 non-null   datetime64[ns]\n",
      "dtypes: datetime64[ns](1), int64(1), object(3)\n",
      "memory usage: 336.1+ KB\n"
     ]
    }
   ],
   "source": [
    "print(\"---------------ACT DESAGREGADO------------------------\")\n",
    "print(\"Tamaño de la BD: \" + str(df_ACT_DSG.shape))\n",
    "print(\"------------PROCESAR NOMBRE DE LAS VARIABLES\")\n",
    "#Para NUMERO IDENTIFICACION, voy a dejar el mismo nombre del ID de arriba. Aún así faltaría confirmar con OMNIVIDA qué es realmente\n",
    "df_ACT_DSG.rename(columns={\"NUMERO IDENTIFICACION\": \"ID\"}, inplace=True)\n",
    "#Para NOMBRE ENCUESTA voy a dejar el mismo nombre de la BD ACT: DS_NOMBRE\n",
    "df_ACT_DSG.rename(columns={\"NOMBRE ENCUESTA\": \"DS_NOMBRE\"}, inplace=True)\n",
    "#Para PREGUNTA los voy a renombrar PREGUNTA_ACT\n",
    "df_ACT_DSG.rename(columns={\"PREGUNTA\": \"PREGUNTA_ACT\"}, inplace=True)\n",
    "#Para RESPUESTA los voy a renombrar RESPUESTA_ACT\n",
    "df_ACT_DSG.rename(columns={\"RESPUESTA\": \"RESPUESTA_ACT\"}, inplace=True)\n",
    "#FE_RESULTADO no la modifico\n",
    "df_ACT_DSG.info()"
   ]
  },
  {
   "cell_type": "code",
   "execution_count": 5,
   "metadata": {},
   "outputs": [
    {
     "name": "stdout",
     "output_type": "stream",
     "text": [
      "---------------DISNEA------------------------\n",
      "Tamaño de la BD: (137, 3)\n",
      "------------PROCESAR NOMBRE DE LAS VARIABLES\n"
     ]
    }
   ],
   "source": [
    "print(\"---------------DISNEA------------------------\")\n",
    "print(\"Tamaño de la BD: \" + str(df_DISNEA.shape))\n",
    "print(\"------------PROCESAR NOMBRE DE LAS VARIABLES\")\n",
    "#Para id, voy a dejar el mismo nombre del ID de arriba. Aún así faltaría confirmar con OMNIVIDA qué es realmente\n",
    "df_DISNEA.rename(columns={\"id\": \"ID\"}, inplace=True)\n",
    "#Para FE_ALTA no le modifico nada\n",
    "#Para Examen, lo voy a cambiar por RESULTADO_EXAMEN\n",
    "df_DISNEA.rename(columns={\"Examen\": \"RESULTADO_EXAMEN\"}, inplace=True)"
   ]
  },
  {
   "cell_type": "markdown",
   "metadata": {},
   "source": [
    "Con el renombre de las variables, procedo a revisar en detalle cada una de las BD para identificar cuáles variables son suceptibles de manipular previo un análisis posterior."
   ]
  },
  {
   "cell_type": "markdown",
   "metadata": {},
   "source": [
    "<font color='red'> **----------------------------------------- BD ACT -----------------------------------------** </font>"
   ]
  },
  {
   "cell_type": "code",
   "execution_count": 6,
   "metadata": {},
   "outputs": [
    {
     "name": "stdout",
     "output_type": "stream",
     "text": [
      "1. Cantidad de datos: (15090, 5)\n",
      "\n",
      "\n",
      "2. Cantidad de datos por variables--------\n",
      "Numero de lotes de pruebas (ID): 458\n",
      "Cantidad de pruebas totales (DS_NOMBRE): 1\n",
      "Cantidad de puntajes (NM_PUNTAJE): 21\n",
      "            Puntaje min. 5// Puntaje max. 25\n",
      "Cantidad de resultados presentados (DS_RESULTADO): 3\n",
      "            Cantidad de categorias: ['NO totalmente controlada' 'Totalmente controlada' 'no esta controlada']\n",
      "Cantidad de fechas (FE_RESULTADO): 1710\n"
     ]
    }
   ],
   "source": [
    "print(\"1. Cantidad de datos: \" + str(df_ACT.shape))\n",
    "print(\"\\n\")\n",
    "print(\"2. Cantidad de datos por variables--------\")\n",
    "print(\"Numero de lotes de pruebas (ID): \" + str(df_ACT[\"ID\"].nunique()))\n",
    "print(\"Cantidad de pruebas totales (DS_NOMBRE): \" + str(df_ACT[\"DS_NOMBRE\"].nunique()))\n",
    "print(\"Cantidad de puntajes (NM_PUNTAJE): \" + str(df_ACT[\"NM_PUNTAJE\"].nunique()))\n",
    "print(\"            Puntaje min. \"+str(df_ACT[\"NM_PUNTAJE\"].min()) + \"//\" + \" Puntaje max. \" + str(df_ACT[\"NM_PUNTAJE\"].max()))\n",
    "print(\"Cantidad de resultados presentados (DS_RESULTADO): \" + str(df_ACT[\"DS_RESULTADO\"].nunique()))\n",
    "print(\"            Cantidad de categorias: \" + str(df_ACT[\"DS_RESULTADO\"].unique()))\n",
    "print(\"Cantidad de fechas (FE_RESULTADO): \" + str(df_ACT[\"FE_RESULTADO\"].nunique()))\n",
    "df_ACT[\"FE_RESULTADO\"] = pd.to_datetime(df_ACT[\"FE_RESULTADO\"])"
   ]
  },
  {
   "cell_type": "markdown",
   "metadata": {},
   "source": [
    "Se listan las conclusiones con base en cada una de las variables presentadas:\n",
    "* ID : presumiblemente es el número de las pruebas\n",
    "* DS_NOMBRE: solo está mostrando el nombre de la prueba que para todos los casos es \"Prueba de control del Asma ACT\"\n",
    "* NM_PUNTAJE: puntaje obtenido por cada una de las pruebas por lote\n",
    "* DS_RESULTADO: para esta variable se cuentan con tres valores: 1) NO totalmente controlada; 2) Totalmente controlada y 3) no está controlada. \n",
    "* FE_RESULTADO: fecha del resultado de la pruueba, contiene hora también.\n",
    "\n",
    "Con los resultados anteriores, se puede evidenciar que DS_RESULTADO tiene tres categorías que se pueden codificar, de acuerdo al grado de control que se ha presentado:\n",
    "* 0: No está controlada\n",
    "* 1: No totalmente controlada\n",
    "* 2: Totalmente controlada"
   ]
  },
  {
   "cell_type": "code",
   "execution_count": 7,
   "metadata": {},
   "outputs": [
    {
     "name": "stdout",
     "output_type": "stream",
     "text": [
      "       ID                       DS_NOMBRE DS_RESULTADO_COD  NM_PUNTAJE  \\\n",
      "0  502989  Prueba de control del Asma ACT                1          24   \n",
      "1  502989  Prueba de control del Asma ACT                1          24   \n",
      "2  502989  Prueba de control del Asma ACT                1          24   \n",
      "3  502989  Prueba de control del Asma ACT                1          24   \n",
      "4  502989  Prueba de control del Asma ACT                1          24   \n",
      "\n",
      "               DS_RESULTADO        FE_RESULTADO  \n",
      "0  NO totalmente controlada 2014-10-28 13:24:49  \n",
      "1  NO totalmente controlada 2014-10-28 13:24:49  \n",
      "2  NO totalmente controlada 2014-10-28 13:24:49  \n",
      "3  NO totalmente controlada 2014-10-28 13:24:49  \n",
      "4  NO totalmente controlada 2014-10-28 13:24:49  \n",
      "\n",
      "\n",
      "DS_RESULTADO\n",
      "NO totalmente controlada    318\n",
      "Totalmente controlada       130\n",
      "no esta controlada          289\n",
      "Name: ID, dtype: int64\n",
      "DS_RESULTADO_COD\n",
      "0    289\n",
      "1    318\n",
      "2    130\n",
      "Name: ID, dtype: int64\n"
     ]
    }
   ],
   "source": [
    "lista_DS_RESULTADO = {'DS_RESULTADO_ANTES': pd.Series([\"NO totalmente controlada\",\"Totalmente controlada\", \"no esta controlada\"], index=[1,2,3]),\n",
    "     'DS_RESULTADO_AHORA': pd.Series([\"1\", \"2\", \"0\"], index=[1,2,3])}\n",
    "df_lista_DS_RESULTADO = pd.DataFrame(lista_DS_RESULTADO)\n",
    "#Agrego una nueva columna que se llame DS_RESULTADO_COD para no tener que eliminar los datos originales\n",
    "df_ACT.insert(2,\"DS_RESULTADO_COD\", df_ACT[\"DS_RESULTADO\"].map(df_lista_DS_RESULTADO.set_index(\"DS_RESULTADO_ANTES\")[\"DS_RESULTADO_AHORA\"]))\n",
    "print(df_ACT.head(5))\n",
    "\n",
    "conteo_antes = df_ACT.groupby('DS_RESULTADO')['ID'].nunique()\n",
    "conteo_despues = df_ACT.groupby('DS_RESULTADO_COD')['ID'].nunique()\n",
    "print(\"\\n\")\n",
    "print(conteo_antes)\n",
    "print(conteo_despues)"
   ]
  },
  {
   "cell_type": "markdown",
   "metadata": {},
   "source": [
    "<font color='red'> **---------------------------- BD ACT DESAGREGADA ----------------------** </font>"
   ]
  },
  {
   "cell_type": "code",
   "execution_count": 8,
   "metadata": {},
   "outputs": [
    {
     "name": "stdout",
     "output_type": "stream",
     "text": [
      "1. Cantidad de datos: (8602, 5)\n",
      "\n",
      "\n",
      "2. Cantidad de datos por variables--------\n",
      "Numero de lotes de pruebas (ID): 456\n",
      "Cantidad de pruebas totales (DS_NOMBRE): 1\n",
      "Cantidad de puntajes (PREGUNTA_ACT): 32\n",
      "            Cantidad de categorías ['DURANTE LAS ULTIMAS 4 SEMANAS ¿CON QUE FRECUENCIA SU ASMA LE IMPIDIO LLEVAR A CABO SUS TAREAS HABITUALES EN EL TRABAJO, EL ESTUDIO O EL HOGAR?'\n",
      " 'DURANTE LAS ULTIMAS 4 SEMANAS ¿CON QUE FRECUENCIA SINTIO FALTA DE AIRE?'\n",
      " 'DURANTE LAS ULTIMAS 4 SEMANAS ¿CON QUE FRECUENCIA LOS SINTOMAS DE ASMA (SILBIDOS EN EL PECHO, TOS, FALTA DE AIRE, OPRESION O DOLOR EN EL PECHO) LO/LA HICIERON DESPERTAR DURANTE LA NOCHE O MAS TEMPRANO QUE DE COSTUMBRE POR LA MAÑANA?'\n",
      " 'DURANTE LAS ULTIMAS 4 SEMANAS ¿CON QUE FRECUENCIA USO SU INHALADOR DE EFECTO INMEDIATO O SE HIZO NEBULIZACIONES (POR EJEMPLO, SALBUTAMOL?)'\n",
      " '¿COMO CALIFICARIA EL CONTROL DE SU ASMA DURANTE LAS ULTIMAS 4 SEMANAS?'\n",
      " '¿COMO PUNTUARIA SU CALIDAD DE VIDA?'\n",
      " '¿CUAN SATISFECHO/A ESTA CON SU SALUD?'\n",
      " 'CUANTO TIEMPO LLEVA DE TRATAMIENTO PARA SU PATOLOGIA PRINCIPAL? '\n",
      " '¿EN QUE MEDIDA PIENSA QUE EL DOLOR (FISICO) LE IMPIDE HACER LO QUE NECESITA?'\n",
      " '¿CUANTO NECESITA DE CUALQUIER TRATAMIENTO MEDICO PARA FUNCIONAR EN SU VIDA DIARIA?'\n",
      " '¿CUANTO DISFRUTA DE LA VIDA?'\n",
      " '¿EN QUE MEDIDA SIENTE QUE SU VIDA TIENE SENTIDO?'\n",
      " '¿CUAL ES SU CAPACIDAD DE CONCENTRACION?'\n",
      " '¿CUANTA SEGURIDAD SIENTE EN SU VIDA DIARIA?'\n",
      " '¿CUAN SALUDABLE ES EL AMBIENTE FISICO DE SU ALREDEDOR?'\n",
      " '¿TIENE ENERGIA SUFICIENTE PARA LA VIDA DIARIA?'\n",
      " '¿ES CAPAZ DE ACEPTAR SU APARIENCIA FISICA?'\n",
      " '¿TIENE SUFICIENTE DINERO PARA CUBRIR SUS NECESIDADES?'\n",
      " '¿QUE DISPONIBLE TIENE LA INFORMACION QUE NECESITA EN SU VIDA DIARIA?'\n",
      " '¿HASTA QUE PUNTO TIENE OPORTUNIDAD PARA REALIZAR ACTIVIDADES DE OCIO?'\n",
      " '¿ES CAPAZ DE DESPLAZARSE DE UN LUGAR A OTRO?'\n",
      " '¿CUAN SATISFECHO ESTA CON SU SUEÑO?'\n",
      " '¿CUAN SATISFECHO ESTA CON SU HABILIDAD PARA REALIZAR SUS ACTIVIDADES DE LA VIDA DIARIA?'\n",
      " '¿CUAN SATISFECHO ESTA CON SU CAPACIDAD DE TRABAJO?'\n",
      " '¿CUAN SATISFECHO ESTA DE SI MISMO?'\n",
      " '¿CUAN SATISFECHO ESTA CON SUS RELACIONES PERSONALES?'\n",
      " '¿CUAN SATISFECHO ESTA CON SU VIDA SEXUAL?'\n",
      " '¿CUAN SATISFECHO ESTA CON EL APOYO QUE TIENE DE SUS AMIGOS?'\n",
      " '¿CUAN SATISFECHO ESTA DE LAS CONDICIONES DEL LUGAR DONDE VIVE?'\n",
      " '¿CUAN SATISFECHO ESTA CON EL ACCESO QUE TIENE A LOS SERVICIOS SANITARIOS?'\n",
      " '¿CUAN SATISFECHO ESTA CON SU TRANSPORTE?'\n",
      " '¿CON QUE FRECUENCIA TIENE SENTIMIENTOS NEGATIVOS, TALES COMO TRISTEZA, DESESPERANZA, ANSIEDAD, DEPRESION?']\n",
      "Cantidad de resultados presentados (RESPUESTA_ACT): 31\n",
      "            Puntaje min. 1 O 2 VECES A LA SEMANA\n",
      "            Puntaje max. UNA VEZ AL DIA\n"
     ]
    }
   ],
   "source": [
    "print(\"1. Cantidad de datos: \" + str(df_ACT_DSG.shape))\n",
    "print(\"\\n\")\n",
    "print(\"2. Cantidad de datos por variables--------\")\n",
    "print(\"Numero de lotes de pruebas (ID): \" + str(df_ACT_DSG[\"ID\"].nunique()))\n",
    "print(\"Cantidad de pruebas totales (DS_NOMBRE): \" + str(df_ACT_DSG[\"DS_NOMBRE\"].nunique()))\n",
    "print(\"Cantidad de puntajes (PREGUNTA_ACT): \" + str(df_ACT_DSG[\"PREGUNTA_ACT\"].nunique()))\n",
    "print(\"            Cantidad de categorías \"+str(df_ACT_DSG[\"PREGUNTA_ACT\"].unique()))\n",
    "print(\"Cantidad de resultados presentados (RESPUESTA_ACT): \" + str(df_ACT_DSG[\"RESPUESTA_ACT\"].nunique()))\n",
    "print(\"            Puntaje min. \" + str(df_ACT_DSG[\"RESPUESTA_ACT\"].min()))\n",
    "print(\"            Puntaje max. \" + str(df_ACT_DSG[\"RESPUESTA_ACT\"].max()))\n",
    "df_ACT_DSG[\"FE_RESULTADO\"] = pd.to_datetime(df_ACT_DSG[\"FE_RESULTADO\"])"
   ]
  },
  {
   "cell_type": "markdown",
   "metadata": {},
   "source": [
    "De acuerdo con una revisión de literatura, el ACT se compone de un formulario de 5 preguntas donde cada pregunta puede tener hasta 5 valores diferentes. \n",
    "\n",
    "Sin embargo, revisando las diferentes preguntas planteadas, se encuentran preguntas relacionadas con calidad de vida, es por esto que se sugiere dejar las preguntas como actualmente se encuentran así como sus respectivos valores."
   ]
  },
  {
   "cell_type": "markdown",
   "metadata": {},
   "source": [
    "Ahora la idea es exportar los DF para que sean utilizados en otros procesos posteriores."
   ]
  },
  {
   "cell_type": "markdown",
   "metadata": {},
   "source": [
    "<font color='red'> **---------------------------- BD ACT DESAGREGADA ----------------------** </font>"
   ]
  },
  {
   "cell_type": "code",
   "execution_count": 9,
   "metadata": {},
   "outputs": [
    {
     "name": "stdout",
     "output_type": "stream",
     "text": [
      "<class 'pandas.core.frame.DataFrame'>\n",
      "RangeIndex: 137 entries, 0 to 136\n",
      "Data columns (total 3 columns):\n",
      " #   Column            Non-Null Count  Dtype         \n",
      "---  ------            --------------  -----         \n",
      " 0   ID                137 non-null    int64         \n",
      " 1   FE_ALTA           137 non-null    datetime64[ns]\n",
      " 2   RESULTADO_EXAMEN  137 non-null    object        \n",
      "dtypes: datetime64[ns](1), int64(1), object(1)\n",
      "memory usage: 3.3+ KB\n"
     ]
    }
   ],
   "source": [
    "df_DISNEA.info()\n",
    "df_DISNEA[\"FE_ALTA\"] = pd.to_datetime(df_DISNEA[\"FE_ALTA\"])"
   ]
  },
  {
   "cell_type": "markdown",
   "metadata": {},
   "source": [
    "<font color='blue'> **---------------------------- ANALISIS DE LAS BD ACT ----------------------** </font>"
   ]
  },
  {
   "cell_type": "markdown",
   "metadata": {},
   "source": [
    "En primer lugar, se cuenta la cantidad de pruebas que se han presentado durante todo el horizonte de la BD"
   ]
  },
  {
   "cell_type": "code",
   "execution_count": 99,
   "metadata": {},
   "outputs": [
    {
     "name": "stdout",
     "output_type": "stream",
     "text": [
      "       ID                       DS_NOMBRE DS_RESULTADO_COD  NM_PUNTAJE  \\\n",
      "0  502989  Prueba de control del Asma ACT                1          24   \n",
      "1  502989  Prueba de control del Asma ACT                1          24   \n",
      "2  502989  Prueba de control del Asma ACT                1          24   \n",
      "3  502989  Prueba de control del Asma ACT                1          24   \n",
      "4  502989  Prueba de control del Asma ACT                1          24   \n",
      "5  502989  Prueba de control del Asma ACT                1          24   \n",
      "6  502989  Prueba de control del Asma ACT                1          24   \n",
      "7  502989  Prueba de control del Asma ACT                1          24   \n",
      "8  502989  Prueba de control del Asma ACT                1          24   \n",
      "9  502989  Prueba de control del Asma ACT                1          24   \n",
      "\n",
      "               DS_RESULTADO        FE_RESULTADO  ANIO  \n",
      "0  NO totalmente controlada 2014-10-28 13:24:49  2014  \n",
      "1  NO totalmente controlada 2014-10-28 13:24:49  2014  \n",
      "2  NO totalmente controlada 2014-10-28 13:24:49  2014  \n",
      "3  NO totalmente controlada 2014-10-28 13:24:49  2014  \n",
      "4  NO totalmente controlada 2014-10-28 13:24:49  2014  \n",
      "5  NO totalmente controlada 2014-10-28 13:24:49  2014  \n",
      "6  NO totalmente controlada 2014-10-28 13:24:49  2014  \n",
      "7  NO totalmente controlada 2014-10-28 13:24:49  2014  \n",
      "8  NO totalmente controlada 2014-10-28 13:24:49  2014  \n",
      "9  NO totalmente controlada 2014-10-28 13:24:49  2014  \n"
     ]
    },
    {
     "data": {
      "image/png": "[encoded data removed]",
      "text/plain": [
       "<Figure size 720x360 with 1 Axes>"
      ]
     },
     "metadata": {
      "needs_background": "light"
     },
     "output_type": "display_data"
    }
   ],
   "source": [
    "df_ACT[\"FE_RESULTADO\"] = pd.to_datetime(df_ACT[\"FE_RESULTADO\"])\n",
    "df_ACT[\"ANIO\"] = pd.DatetimeIndex(df_ACT[\"FE_RESULTADO\"]).year\n",
    "\n",
    "#Cantidad de pruebas por año\n",
    "fig, ax = plt.subplots(figsize=(10,5))\n",
    "df_ACT.groupby([\"ANIO\"]).count()[\"ID\"].plot(ax=ax)\n",
    "print(df_ACT.head(10))"
   ]
  },
  {
   "cell_type": "markdown",
   "metadata": {},
   "source": [
    "* Se ve un comportamiento creciente para el año 2016 y desde ese momento en el tiempo se ve un comportamiento decreciente, con un pequeño pico en el año 2018.\n",
    "* Además, se ve que existen datos que aparentemente son repetidos, por facilidad de interpretación, por ahora se van a eliminar. "
   ]
  },
  {
   "cell_type": "code",
   "execution_count": 100,
   "metadata": {},
   "outputs": [
    {
     "name": "stdout",
     "output_type": "stream",
     "text": [
      "Cantidad de pruebas únicas: 458\n"
     ]
    },
    {
     "data": {
      "image/png": "[encoded data removed]",
      "text/plain": [
       "<Figure size 720x360 with 1 Axes>"
      ]
     },
     "metadata": {
      "needs_background": "light"
     },
     "output_type": "display_data"
    }
   ],
   "source": [
    "#Eliminar los duplicados\n",
    "df_ACT_OK = df_ACT.drop_duplicates()\n",
    "df_ACT_OK.to_csv(\"asd.csv\")\n",
    "#Graficar la tendencia de los no-duplicados\n",
    "fig, ax = plt.subplots(figsize=(10,5))\n",
    "df_ACT_OK.groupby([\"ANIO\"]).count()[\"ID\"].plot(ax=ax)\n",
    "print(\"Cantidad de pruebas únicas: \" + str(df_ACT_OK[\"ID\"].nunique()))"
   ]
  },
  {
   "cell_type": "markdown",
   "metadata": {},
   "source": [
    "* Antes de la eliminiación de duplicados, se contaban con ~15.000 registros. Después de la eliminiación de los presuntos duplicados se cuentan con ~1.700 registros.\n",
    "* Se puede observar que la tendencia en la cantidad de registros sigue siendo la misma que al tener los datos duplicados.\n",
    "* Cabe resaltar que al haber quitado duplicados se puede ver la evolución efectiva de las pruebas a través del tiempo ya que se tiene un único valor por cada momento del tiempo."
   ]
  },
  {
   "cell_type": "markdown",
   "metadata": {},
   "source": [
    "Ahora, se busca estudiar la tendencia en la cantidad de ACT donde se resulta en un 1) no control, 2) control parcial o 3) control total."
   ]
  },
  {
   "cell_type": "code",
   "execution_count": 12,
   "metadata": {},
   "outputs": [
    {
     "data": {
      "image/png": "[encoded data removed]",
      "text/plain": [
       "<Figure size 720x360 with 1 Axes>"
      ]
     },
     "metadata": {
      "needs_background": "light"
     },
     "output_type": "display_data"
    }
   ],
   "source": [
    "fig, ax = plt.subplots(figsize=(10,5))\n",
    "cantidad_año_control = df_ACT_OK.groupby([\"ANIO\",\"DS_RESULTADO_COD\"]).count()[\"ID\"]\n",
    "ax = cantidad_año_control.plot.bar(rot=90,color=['red', 'blue', 'green'])"
   ]
  },
  {
   "cell_type": "markdown",
   "metadata": {},
   "source": [
    "Ahora es necesario entender a partir de qué puntaje se considera que una evaluación de ACT se encuentre clasificado en alguna de las tres clasificaciones inciales. Para esto se hace una agrupación de las categorías con sus valores mínimos y máximos."
   ]
  },
  {
   "cell_type": "code",
   "execution_count": 13,
   "metadata": {},
   "outputs": [
    {
     "data": {
      "text/html": [
       "<div>\n",
       "<style scoped>\n",
       "    .dataframe tbody tr th:only-of-type {\n",
       "        vertical-align: middle;\n",
       "    }\n",
       "\n",
       "    .dataframe tbody tr th {\n",
       "        vertical-align: top;\n",
       "    }\n",
       "\n",
       "    .dataframe thead tr th {\n",
       "        text-align: left;\n",
       "    }\n",
       "\n",
       "    .dataframe thead tr:last-of-type th {\n",
       "        text-align: right;\n",
       "    }\n",
       "</style>\n",
       "<table border=\"1\" class=\"dataframe\">\n",
       "  <thead>\n",
       "    <tr>\n",
       "      <th></th>\n",
       "      <th>count</th>\n",
       "      <th>min</th>\n",
       "      <th>mean</th>\n",
       "      <th>max</th>\n",
       "    </tr>\n",
       "    <tr>\n",
       "      <th></th>\n",
       "      <th>NM_PUNTAJE</th>\n",
       "      <th>NM_PUNTAJE</th>\n",
       "      <th>NM_PUNTAJE</th>\n",
       "      <th>NM_PUNTAJE</th>\n",
       "    </tr>\n",
       "    <tr>\n",
       "      <th>DS_RESULTADO_COD</th>\n",
       "      <th></th>\n",
       "      <th></th>\n",
       "      <th></th>\n",
       "      <th></th>\n",
       "    </tr>\n",
       "  </thead>\n",
       "  <tbody>\n",
       "    <tr>\n",
       "      <th>0</th>\n",
       "      <td>745</td>\n",
       "      <td>5</td>\n",
       "      <td>14.095302</td>\n",
       "      <td>19</td>\n",
       "    </tr>\n",
       "    <tr>\n",
       "      <th>1</th>\n",
       "      <td>760</td>\n",
       "      <td>20</td>\n",
       "      <td>21.936842</td>\n",
       "      <td>24</td>\n",
       "    </tr>\n",
       "    <tr>\n",
       "      <th>2</th>\n",
       "      <td>205</td>\n",
       "      <td>25</td>\n",
       "      <td>25.000000</td>\n",
       "      <td>25</td>\n",
       "    </tr>\n",
       "  </tbody>\n",
       "</table>\n",
       "</div>"
      ],
      "text/plain": [
       "                      count        min       mean        max\n",
       "                 NM_PUNTAJE NM_PUNTAJE NM_PUNTAJE NM_PUNTAJE\n",
       "DS_RESULTADO_COD                                            \n",
       "0                       745          5  14.095302         19\n",
       "1                       760         20  21.936842         24\n",
       "2                       205         25  25.000000         25"
      ]
     },
     "execution_count": 13,
     "metadata": {},
     "output_type": "execute_result"
    }
   ],
   "source": [
    "cantidad_grupo = pd.pivot_table(df_ACT_OK,\n",
    "                          values = \"NM_PUNTAJE\",\n",
    "                          index = \"DS_RESULTADO_COD\",\n",
    "                          aggfunc = [\"count\",\"min\",\"mean\",\"max\"])\n",
    "cantidad_grupo"
   ]
  },
  {
   "cell_type": "markdown",
   "metadata": {},
   "source": []
  },
  {
   "cell_type": "code",
   "execution_count": 14,
   "metadata": {},
   "outputs": [
    {
     "name": "stdout",
     "output_type": "stream",
     "text": [
      "<class 'pandas.core.frame.DataFrame'>\n",
      "Int64Index: 1710 entries, 0 to 15081\n",
      "Data columns (total 8 columns):\n",
      " #   Column               Non-Null Count  Dtype         \n",
      "---  ------               --------------  -----         \n",
      " 0   ID                   1710 non-null   int64         \n",
      " 1   DS_NOMBRE            1710 non-null   object        \n",
      " 2   DS_RESULTADO_COD     1710 non-null   object        \n",
      " 3   NM_PUNTAJE           1710 non-null   int64         \n",
      " 4   DS_RESULTADO         1710 non-null   object        \n",
      " 5   FE_RESULTADO         1710 non-null   datetime64[ns]\n",
      " 6   ANIO                 1710 non-null   int64         \n",
      " 7   LLAVE_EVOLUCION_ACT  1710 non-null   object        \n",
      "dtypes: datetime64[ns](1), int64(3), object(4)\n",
      "memory usage: 120.2+ KB\n"
     ]
    }
   ],
   "source": [
    "df_ACT[\"LLAVE_EVOLUCION_ACT\"] = df_ACT[\"ID\"].map(str) + df_ACT[\"FE_RESULTADO\"].map(str)\n",
    "df_ACT[\"LLAVE_EVOLUCION_ACT\"]\n",
    "df_ACT_EVOL = df_ACT.drop_duplicates()\n",
    "df_ACT_EVOL.info()"
   ]
  },
  {
   "cell_type": "markdown",
   "metadata": {},
   "source": [
    "<font color='blue'> **---------------------------- ANALISIS DE LAS BD ACT DESAGREGADO ----------------------** </font>"
   ]
  },
  {
   "cell_type": "code",
   "execution_count": 56,
   "metadata": {},
   "outputs": [
    {
     "name": "stdout",
     "output_type": "stream",
     "text": [
      "Cantidad de mediciones (con duplicados): (8602, 6)\n",
      "Cantidad de mediciones (sin duplicados): (8541, 6)\n"
     ]
    },
    {
     "data": {
      "text/plain": [
       "<matplotlib.axes._subplots.AxesSubplot at 0x1988167bec8>"
      ]
     },
     "execution_count": 56,
     "metadata": {},
     "output_type": "execute_result"
    },
    {
     "data": {
      "image/png": "[encoded data removed]",
      "text/plain": [
       "<Figure size 720x360 with 1 Axes>"
      ]
     },
     "metadata": {
      "needs_background": "light"
     },
     "output_type": "display_data"
    }
   ],
   "source": [
    "print(\"Cantidad de mediciones (con duplicados): \"  + str(df_ACT_DSG.shape))\n",
    "#Extraer el año\n",
    "df_ACT_DSG[\"FE_RESULTADO\"] = pd.to_datetime(df_ACT_DSG[\"FE_RESULTADO\"])\n",
    "df_ACT_DSG[\"ANIO\"] = pd.DatetimeIndex(df_ACT_DSG[\"FE_RESULTADO\"]).year\n",
    "#Eliminar los duplicados\n",
    "df_ACT_DSG_OK = df_ACT_DSG.drop_duplicates()\n",
    "print(\"Cantidad de mediciones (sin duplicados): \" + str(df_ACT_DSG_OK.shape))\n",
    "#Cantidad de pruebas por año\n",
    "fig, ax = plt.subplots(figsize=(10,5))\n",
    "df_ACT_DSG_OK.groupby([\"ANIO\"]).count()[\"ID\"].plot(ax=ax)\n",
    "#print(df_ACT.head(10))"
   ]
  },
  {
   "cell_type": "markdown",
   "metadata": {},
   "source": [
    "Se observa que presenta un comportamiento diferente al presentado en la base ACT generalizada."
   ]
  },
  {
   "cell_type": "markdown",
   "metadata": {},
   "source": [
    "Acording to the analysis done previously of the variables, there seems like not all the variables are related to ACT but to life-quality-related too. So for made an analysis it's necessary to create a new category as the DB is narrow-format."
   ]
  },
  {
   "cell_type": "code",
   "execution_count": 66,
   "metadata": {},
   "outputs": [
    {
     "name": "stdout",
     "output_type": "stream",
     "text": [
      "<class 'pandas.core.frame.DataFrame'>\n",
      "Int64Index: 8541 entries, 0 to 8601\n",
      "Data columns (total 6 columns):\n",
      " #   Column         Non-Null Count  Dtype         \n",
      "---  ------         --------------  -----         \n",
      " 0   ID             8541 non-null   int64         \n",
      " 1   DS_NOMBRE      8541 non-null   object        \n",
      " 2   PREGUNTA_ACT   8541 non-null   object        \n",
      " 3   RESPUESTA_ACT  8541 non-null   object        \n",
      " 4   FE_RESULTADO   8541 non-null   datetime64[ns]\n",
      " 5   ANIO           8541 non-null   int64         \n",
      "dtypes: datetime64[ns](1), int64(2), object(3)\n",
      "memory usage: 467.1+ KB\n",
      "['DURANTE LAS ULTIMAS 4 SEMANAS ¿CON QUE FRECUENCIA SU ASMA LE IMPIDIO LLEVAR A CABO SUS TAREAS HABITUALES EN EL TRABAJO, EL ESTUDIO O EL HOGAR?'\n",
      " 'DURANTE LAS ULTIMAS 4 SEMANAS ¿CON QUE FRECUENCIA SINTIO FALTA DE AIRE?'\n",
      " 'DURANTE LAS ULTIMAS 4 SEMANAS ¿CON QUE FRECUENCIA LOS SINTOMAS DE ASMA (SILBIDOS EN EL PECHO, TOS, FALTA DE AIRE, OPRESION O DOLOR EN EL PECHO) LO/LA HICIERON DESPERTAR DURANTE LA NOCHE O MAS TEMPRANO QUE DE COSTUMBRE POR LA MAÑANA?'\n",
      " 'DURANTE LAS ULTIMAS 4 SEMANAS ¿CON QUE FRECUENCIA USO SU INHALADOR DE EFECTO INMEDIATO O SE HIZO NEBULIZACIONES (POR EJEMPLO, SALBUTAMOL?)'\n",
      " '¿COMO CALIFICARIA EL CONTROL DE SU ASMA DURANTE LAS ULTIMAS 4 SEMANAS?'\n",
      " '¿COMO PUNTUARIA SU CALIDAD DE VIDA?'\n",
      " '¿CUAN SATISFECHO/A ESTA CON SU SALUD?'\n",
      " 'CUANTO TIEMPO LLEVA DE TRATAMIENTO PARA SU PATOLOGIA PRINCIPAL? '\n",
      " '¿EN QUE MEDIDA PIENSA QUE EL DOLOR (FISICO) LE IMPIDE HACER LO QUE NECESITA?'\n",
      " '¿CUANTO NECESITA DE CUALQUIER TRATAMIENTO MEDICO PARA FUNCIONAR EN SU VIDA DIARIA?'\n",
      " '¿CUANTO DISFRUTA DE LA VIDA?'\n",
      " '¿EN QUE MEDIDA SIENTE QUE SU VIDA TIENE SENTIDO?'\n",
      " '¿CUAL ES SU CAPACIDAD DE CONCENTRACION?'\n",
      " '¿CUANTA SEGURIDAD SIENTE EN SU VIDA DIARIA?'\n",
      " '¿CUAN SALUDABLE ES EL AMBIENTE FISICO DE SU ALREDEDOR?'\n",
      " '¿TIENE ENERGIA SUFICIENTE PARA LA VIDA DIARIA?'\n",
      " '¿ES CAPAZ DE ACEPTAR SU APARIENCIA FISICA?'\n",
      " '¿TIENE SUFICIENTE DINERO PARA CUBRIR SUS NECESIDADES?'\n",
      " '¿QUE DISPONIBLE TIENE LA INFORMACION QUE NECESITA EN SU VIDA DIARIA?'\n",
      " '¿HASTA QUE PUNTO TIENE OPORTUNIDAD PARA REALIZAR ACTIVIDADES DE OCIO?'\n",
      " '¿ES CAPAZ DE DESPLAZARSE DE UN LUGAR A OTRO?'\n",
      " '¿CUAN SATISFECHO ESTA CON SU SUEÑO?'\n",
      " '¿CUAN SATISFECHO ESTA CON SU HABILIDAD PARA REALIZAR SUS ACTIVIDADES DE LA VIDA DIARIA?'\n",
      " '¿CUAN SATISFECHO ESTA CON SU CAPACIDAD DE TRABAJO?'\n",
      " '¿CUAN SATISFECHO ESTA DE SI MISMO?'\n",
      " '¿CUAN SATISFECHO ESTA CON SUS RELACIONES PERSONALES?'\n",
      " '¿CUAN SATISFECHO ESTA CON SU VIDA SEXUAL?'\n",
      " '¿CUAN SATISFECHO ESTA CON EL APOYO QUE TIENE DE SUS AMIGOS?'\n",
      " '¿CUAN SATISFECHO ESTA DE LAS CONDICIONES DEL LUGAR DONDE VIVE?'\n",
      " '¿CUAN SATISFECHO ESTA CON EL ACCESO QUE TIENE A LOS SERVICIOS SANITARIOS?'\n",
      " '¿CUAN SATISFECHO ESTA CON SU TRANSPORTE?'\n",
      " '¿CON QUE FRECUENCIA TIENE SENTIMIENTOS NEGATIVOS, TALES COMO TRISTEZA, DESESPERANZA, ANSIEDAD, DEPRESION?']\n"
     ]
    }
   ],
   "source": [
    "df_ACT_DSG_OK.info()\n",
    "print(df_ACT_DSG_OK[\"PREGUNTA_ACT\"].unique())"
   ]
  },
  {
   "cell_type": "code",
   "execution_count": 59,
   "metadata": {},
   "outputs": [
    {
     "ename": "ValueError",
     "evalue": "cannot insert PREGUNTA_ACT_COD, already exists",
     "output_type": "error",
     "traceback": [
      "\u001b[1;31m---------------------------------------------------------------------------\u001b[0m",
      "\u001b[1;31mValueError\u001b[0m                                Traceback (most recent call last)",
      "\u001b[1;32m<ipython-input-59-c2b7af3a92a7>\u001b[0m in \u001b[0;36m<module>\u001b[1;34m\u001b[0m\n\u001b[0;32m      8\u001b[0m \u001b[0mdf_preguntas_ACT_2\u001b[0m \u001b[1;33m=\u001b[0m \u001b[0mpd\u001b[0m\u001b[1;33m.\u001b[0m\u001b[0mDataFrame\u001b[0m\u001b[1;33m(\u001b[0m\u001b[0mpreguntas_ACT_2\u001b[0m\u001b[1;33m)\u001b[0m\u001b[1;33m\u001b[0m\u001b[1;33m\u001b[0m\u001b[0m\n\u001b[0;32m      9\u001b[0m \u001b[1;31m#Insertar las etiquietas para preguntas del ACT\u001b[0m\u001b[1;33m\u001b[0m\u001b[1;33m\u001b[0m\u001b[1;33m\u001b[0m\u001b[0m\n\u001b[1;32m---> 10\u001b[1;33m \u001b[0mdf_ACT_DSG_OK\u001b[0m\u001b[1;33m.\u001b[0m\u001b[0minsert\u001b[0m\u001b[1;33m(\u001b[0m\u001b[1;36m2\u001b[0m\u001b[1;33m,\u001b[0m\u001b[1;34m\"PREGUNTA_ACT_COD\"\u001b[0m\u001b[1;33m,\u001b[0m \u001b[0mdf_ACT_DSG_OK\u001b[0m\u001b[1;33m[\u001b[0m\u001b[1;34m\"PREGUNTA_ACT\"\u001b[0m\u001b[1;33m]\u001b[0m\u001b[1;33m.\u001b[0m\u001b[0mmap\u001b[0m\u001b[1;33m(\u001b[0m\u001b[0mdf_preguntas_ACT_2\u001b[0m\u001b[1;33m.\u001b[0m\u001b[0mset_index\u001b[0m\u001b[1;33m(\u001b[0m\u001b[1;34m\"PREGUNTA_ACT\"\u001b[0m\u001b[1;33m)\u001b[0m\u001b[1;33m[\u001b[0m\u001b[1;34m\"PREGUNTA_ACT_COD\"\u001b[0m\u001b[1;33m]\u001b[0m\u001b[1;33m)\u001b[0m\u001b[1;33m)\u001b[0m\u001b[1;33m\u001b[0m\u001b[1;33m\u001b[0m\u001b[0m\n\u001b[0m\u001b[0;32m     11\u001b[0m \u001b[1;31m#df_ACT_DSG_OK.info()\u001b[0m\u001b[1;33m\u001b[0m\u001b[1;33m\u001b[0m\u001b[1;33m\u001b[0m\u001b[0m\n",
      "\u001b[1;32m~\\anaconda3\\lib\\site-packages\\pandas\\core\\frame.py\u001b[0m in \u001b[0;36minsert\u001b[1;34m(self, loc, column, value, allow_duplicates)\u001b[0m\n\u001b[0;32m   3494\u001b[0m         \u001b[0mself\u001b[0m\u001b[1;33m.\u001b[0m\u001b[0m_ensure_valid_index\u001b[0m\u001b[1;33m(\u001b[0m\u001b[0mvalue\u001b[0m\u001b[1;33m)\u001b[0m\u001b[1;33m\u001b[0m\u001b[1;33m\u001b[0m\u001b[0m\n\u001b[0;32m   3495\u001b[0m         \u001b[0mvalue\u001b[0m \u001b[1;33m=\u001b[0m \u001b[0mself\u001b[0m\u001b[1;33m.\u001b[0m\u001b[0m_sanitize_column\u001b[0m\u001b[1;33m(\u001b[0m\u001b[0mcolumn\u001b[0m\u001b[1;33m,\u001b[0m \u001b[0mvalue\u001b[0m\u001b[1;33m,\u001b[0m \u001b[0mbroadcast\u001b[0m\u001b[1;33m=\u001b[0m\u001b[1;32mFalse\u001b[0m\u001b[1;33m)\u001b[0m\u001b[1;33m\u001b[0m\u001b[1;33m\u001b[0m\u001b[0m\n\u001b[1;32m-> 3496\u001b[1;33m         \u001b[0mself\u001b[0m\u001b[1;33m.\u001b[0m\u001b[0m_data\u001b[0m\u001b[1;33m.\u001b[0m\u001b[0minsert\u001b[0m\u001b[1;33m(\u001b[0m\u001b[0mloc\u001b[0m\u001b[1;33m,\u001b[0m \u001b[0mcolumn\u001b[0m\u001b[1;33m,\u001b[0m \u001b[0mvalue\u001b[0m\u001b[1;33m,\u001b[0m \u001b[0mallow_duplicates\u001b[0m\u001b[1;33m=\u001b[0m\u001b[0mallow_duplicates\u001b[0m\u001b[1;33m)\u001b[0m\u001b[1;33m\u001b[0m\u001b[1;33m\u001b[0m\u001b[0m\n\u001b[0m\u001b[0;32m   3497\u001b[0m \u001b[1;33m\u001b[0m\u001b[0m\n\u001b[0;32m   3498\u001b[0m     \u001b[1;32mdef\u001b[0m \u001b[0massign\u001b[0m\u001b[1;33m(\u001b[0m\u001b[0mself\u001b[0m\u001b[1;33m,\u001b[0m \u001b[1;33m**\u001b[0m\u001b[0mkwargs\u001b[0m\u001b[1;33m)\u001b[0m \u001b[1;33m->\u001b[0m \u001b[1;34m\"DataFrame\"\u001b[0m\u001b[1;33m:\u001b[0m\u001b[1;33m\u001b[0m\u001b[1;33m\u001b[0m\u001b[0m\n",
      "\u001b[1;32m~\\anaconda3\\lib\\site-packages\\pandas\\core\\internals\\managers.py\u001b[0m in \u001b[0;36minsert\u001b[1;34m(self, loc, item, value, allow_duplicates)\u001b[0m\n\u001b[0;32m   1171\u001b[0m         \u001b[1;32mif\u001b[0m \u001b[1;32mnot\u001b[0m \u001b[0mallow_duplicates\u001b[0m \u001b[1;32mand\u001b[0m \u001b[0mitem\u001b[0m \u001b[1;32min\u001b[0m \u001b[0mself\u001b[0m\u001b[1;33m.\u001b[0m\u001b[0mitems\u001b[0m\u001b[1;33m:\u001b[0m\u001b[1;33m\u001b[0m\u001b[1;33m\u001b[0m\u001b[0m\n\u001b[0;32m   1172\u001b[0m             \u001b[1;31m# Should this be a different kind of error??\u001b[0m\u001b[1;33m\u001b[0m\u001b[1;33m\u001b[0m\u001b[1;33m\u001b[0m\u001b[0m\n\u001b[1;32m-> 1173\u001b[1;33m             \u001b[1;32mraise\u001b[0m \u001b[0mValueError\u001b[0m\u001b[1;33m(\u001b[0m\u001b[1;34mf\"cannot insert {item}, already exists\"\u001b[0m\u001b[1;33m)\u001b[0m\u001b[1;33m\u001b[0m\u001b[1;33m\u001b[0m\u001b[0m\n\u001b[0m\u001b[0;32m   1174\u001b[0m \u001b[1;33m\u001b[0m\u001b[0m\n\u001b[0;32m   1175\u001b[0m         \u001b[1;32mif\u001b[0m \u001b[1;32mnot\u001b[0m \u001b[0misinstance\u001b[0m\u001b[1;33m(\u001b[0m\u001b[0mloc\u001b[0m\u001b[1;33m,\u001b[0m \u001b[0mint\u001b[0m\u001b[1;33m)\u001b[0m\u001b[1;33m:\u001b[0m\u001b[1;33m\u001b[0m\u001b[1;33m\u001b[0m\u001b[0m\n",
      "\u001b[1;31mValueError\u001b[0m: cannot insert PREGUNTA_ACT_COD, already exists"
     ]
    }
   ],
   "source": [
    "preguntas_ACT = ['DURANTE LAS ULTIMAS 4 SEMANAS ¿CON QUE FRECUENCIA SU ASMA LE IMPIDIO LLEVAR A CABO SUS TAREAS HABITUALES EN EL TRABAJO, EL ESTUDIO O EL HOGAR?',\n",
    "                'DURANTE LAS ULTIMAS 4 SEMANAS ¿CON QUE FRECUENCIA SINTIO FALTA DE AIRE?',\n",
    "                'DURANTE LAS ULTIMAS 4 SEMANAS ¿CON QUE FRECUENCIA LOS SINTOMAS DE ASMA (SILBIDOS EN EL PECHO, TOS, FALTA DE AIRE, OPRESION O DOLOR EN EL PECHO) LO/LA HICIERON DESPERTAR DURANTE LA NOCHE O MAS TEMPRANO QUE DE COSTUMBRE POR LA MAÑANA?',\n",
    "                'DURANTE LAS ULTIMAS 4 SEMANAS ¿CON QUE FRECUENCIA USO SU INHALADOR DE EFECTO INMEDIATO O SE HIZO NEBULIZACIONES (POR EJEMPLO, SALBUTAMOL?)',\n",
    "                '¿COMO CALIFICARIA EL CONTROL DE SU ASMA DURANTE LAS ULTIMAS 4 SEMANAS?']\n",
    "preguntas_ACT_2 = {'PREGUNTA_ACT': pd.Series(preguntas_ACT, index=[1,2,3,4,5]),\n",
    "     'PREGUNTA_ACT_COD': pd.Series([\"ACT_1\", \"ACT_2\", \"ACT_3\",\"ACT_4\",\"ACT_5\"], index=[1,2,3,4,5])}\n",
    "df_preguntas_ACT_2 = pd.DataFrame(preguntas_ACT_2)\n",
    "#Insertar las etiquietas para preguntas del ACT\n",
    "df_ACT_DSG_OK.insert(2,\"PREGUNTA_ACT_COD\", df_ACT_DSG_OK[\"PREGUNTA_ACT\"].map(df_preguntas_ACT_2.set_index(\"PREGUNTA_ACT\")[\"PREGUNTA_ACT_COD\"]))\n",
    "#df_ACT_DSG_OK.info()"
   ]
  },
  {
   "cell_type": "markdown",
   "metadata": {},
   "source": [
    "Here it's necessary to provide a context to ACT and the answer related to each question (coded as ACT_X):\n",
    "* ACT_1: how asthma have impedid work, school or home activities\n",
    "* ACT_2: breathless frequency during the last 4 weeks\n",
    "* ACT_3: how often the asthma symptoms have you waken up during night\n",
    "* ACT_4: how often have you used your inhaler\n",
    "* ACT_5: how you evaluate your asthma control during last 4 weeks"
   ]
  },
  {
   "cell_type": "code",
   "execution_count": 68,
   "metadata": {},
   "outputs": [
    {
     "data": {
      "text/html": [
       "<div>\n",
       "<style scoped>\n",
       "    .dataframe tbody tr th:only-of-type {\n",
       "        vertical-align: middle;\n",
       "    }\n",
       "\n",
       "    .dataframe tbody tr th {\n",
       "        vertical-align: top;\n",
       "    }\n",
       "\n",
       "    .dataframe thead tr th {\n",
       "        text-align: left;\n",
       "    }\n",
       "\n",
       "    .dataframe thead tr:last-of-type th {\n",
       "        text-align: right;\n",
       "    }\n",
       "</style>\n",
       "<table border=\"1\" class=\"dataframe\">\n",
       "  <thead>\n",
       "    <tr>\n",
       "      <th></th>\n",
       "      <th></th>\n",
       "      <th colspan=\"8\" halign=\"left\">count</th>\n",
       "    </tr>\n",
       "    <tr>\n",
       "      <th></th>\n",
       "      <th>ANIO</th>\n",
       "      <th>2012</th>\n",
       "      <th>2014</th>\n",
       "      <th>2015</th>\n",
       "      <th>2016</th>\n",
       "      <th>2017</th>\n",
       "      <th>2018</th>\n",
       "      <th>2019</th>\n",
       "      <th>2020</th>\n",
       "    </tr>\n",
       "    <tr>\n",
       "      <th>PREGUNTA_ACT_COD</th>\n",
       "      <th>RESPUESTA_ACT</th>\n",
       "      <th></th>\n",
       "      <th></th>\n",
       "      <th></th>\n",
       "      <th></th>\n",
       "      <th></th>\n",
       "      <th></th>\n",
       "      <th></th>\n",
       "      <th></th>\n",
       "    </tr>\n",
       "  </thead>\n",
       "  <tbody>\n",
       "    <tr>\n",
       "      <th rowspan=\"5\" valign=\"top\">ACT_1</th>\n",
       "      <th>ALGUNAS VECES</th>\n",
       "      <td>NaN</td>\n",
       "      <td>19.0</td>\n",
       "      <td>48.0</td>\n",
       "      <td>85.0</td>\n",
       "      <td>35.0</td>\n",
       "      <td>39.0</td>\n",
       "      <td>3.0</td>\n",
       "      <td>27.0</td>\n",
       "    </tr>\n",
       "    <tr>\n",
       "      <th>CASI SIEMPRE</th>\n",
       "      <td>1.0</td>\n",
       "      <td>10.0</td>\n",
       "      <td>29.0</td>\n",
       "      <td>18.0</td>\n",
       "      <td>19.0</td>\n",
       "      <td>33.0</td>\n",
       "      <td>3.0</td>\n",
       "      <td>14.0</td>\n",
       "    </tr>\n",
       "    <tr>\n",
       "      <th>NUNCA</th>\n",
       "      <td>4.0</td>\n",
       "      <td>62.0</td>\n",
       "      <td>166.0</td>\n",
       "      <td>189.0</td>\n",
       "      <td>76.0</td>\n",
       "      <td>133.0</td>\n",
       "      <td>9.0</td>\n",
       "      <td>114.0</td>\n",
       "    </tr>\n",
       "    <tr>\n",
       "      <th>POCAS VECES</th>\n",
       "      <td>5.0</td>\n",
       "      <td>13.0</td>\n",
       "      <td>78.0</td>\n",
       "      <td>149.0</td>\n",
       "      <td>69.0</td>\n",
       "      <td>127.0</td>\n",
       "      <td>3.0</td>\n",
       "      <td>58.0</td>\n",
       "    </tr>\n",
       "    <tr>\n",
       "      <th>SIEMPRE</th>\n",
       "      <td>1.0</td>\n",
       "      <td>4.0</td>\n",
       "      <td>26.0</td>\n",
       "      <td>7.0</td>\n",
       "      <td>15.0</td>\n",
       "      <td>6.0</td>\n",
       "      <td>1.0</td>\n",
       "      <td>5.0</td>\n",
       "    </tr>\n",
       "  </tbody>\n",
       "</table>\n",
       "</div>"
      ],
      "text/plain": [
       "                               count                                        \\\n",
       "ANIO                            2012  2014   2015   2016  2017   2018 2019   \n",
       "PREGUNTA_ACT_COD RESPUESTA_ACT                                               \n",
       "ACT_1            ALGUNAS VECES   NaN  19.0   48.0   85.0  35.0   39.0  3.0   \n",
       "                 CASI SIEMPRE    1.0  10.0   29.0   18.0  19.0   33.0  3.0   \n",
       "                 NUNCA           4.0  62.0  166.0  189.0  76.0  133.0  9.0   \n",
       "                 POCAS VECES     5.0  13.0   78.0  149.0  69.0  127.0  3.0   \n",
       "                 SIEMPRE         1.0   4.0   26.0    7.0  15.0    6.0  1.0   \n",
       "\n",
       "                                       \n",
       "ANIO                             2020  \n",
       "PREGUNTA_ACT_COD RESPUESTA_ACT         \n",
       "ACT_1            ALGUNAS VECES   27.0  \n",
       "                 CASI SIEMPRE    14.0  \n",
       "                 NUNCA          114.0  \n",
       "                 POCAS VECES     58.0  \n",
       "                 SIEMPRE          5.0  "
      ]
     },
     "execution_count": 68,
     "metadata": {},
     "output_type": "execute_result"
    }
   ],
   "source": [
    "evolucion_puntaje = pd.pivot_table(df_ACT_DSG_OK[df_ACT_DSG_OK.PREGUNTA_ACT_COD ==\"ACT_1\"],\n",
    "                          values = \"ID\",\n",
    "                          index = [\"PREGUNTA_ACT_COD\",\"RESPUESTA_ACT\"],\n",
    "                            columns = [\"ANIO\"],\n",
    "                          aggfunc = [\"count\"]                        \n",
    "                         )\n",
    "evolucion_puntaje"
   ]
  },
  {
   "cell_type": "markdown",
   "metadata": {},
   "source": [
    "According to the description given above here are some conclussions for ACT's question 1:\n",
    "* The major trends seems that asthma doesn't difficult some task for the patients as the major portion of answers are related to rarely or never."
   ]
  },
  {
   "cell_type": "code",
   "execution_count": 19,
   "metadata": {},
   "outputs": [
    {
     "data": {
      "text/html": [
       "<div>\n",
       "<style scoped>\n",
       "    .dataframe tbody tr th:only-of-type {\n",
       "        vertical-align: middle;\n",
       "    }\n",
       "\n",
       "    .dataframe tbody tr th {\n",
       "        vertical-align: top;\n",
       "    }\n",
       "\n",
       "    .dataframe thead tr th {\n",
       "        text-align: left;\n",
       "    }\n",
       "\n",
       "    .dataframe thead tr:last-of-type th {\n",
       "        text-align: right;\n",
       "    }\n",
       "</style>\n",
       "<table border=\"1\" class=\"dataframe\">\n",
       "  <thead>\n",
       "    <tr>\n",
       "      <th></th>\n",
       "      <th></th>\n",
       "      <th colspan=\"8\" halign=\"left\">count</th>\n",
       "    </tr>\n",
       "    <tr>\n",
       "      <th></th>\n",
       "      <th>ANIO</th>\n",
       "      <th>2012</th>\n",
       "      <th>2014</th>\n",
       "      <th>2015</th>\n",
       "      <th>2016</th>\n",
       "      <th>2017</th>\n",
       "      <th>2018</th>\n",
       "      <th>2019</th>\n",
       "      <th>2020</th>\n",
       "    </tr>\n",
       "    <tr>\n",
       "      <th>PREGUNTA_ACT_COD</th>\n",
       "      <th>RESPUESTA_ACT</th>\n",
       "      <th></th>\n",
       "      <th></th>\n",
       "      <th></th>\n",
       "      <th></th>\n",
       "      <th></th>\n",
       "      <th></th>\n",
       "      <th></th>\n",
       "      <th></th>\n",
       "    </tr>\n",
       "  </thead>\n",
       "  <tbody>\n",
       "    <tr>\n",
       "      <th rowspan=\"5\" valign=\"top\">ACT_2</th>\n",
       "      <th>1 O 2 VECES A LA SEMANA</th>\n",
       "      <td>5.0</td>\n",
       "      <td>28.0</td>\n",
       "      <td>104.0</td>\n",
       "      <td>178.0</td>\n",
       "      <td>90.0</td>\n",
       "      <td>107.0</td>\n",
       "      <td>6.0</td>\n",
       "      <td>55.0</td>\n",
       "    </tr>\n",
       "    <tr>\n",
       "      <th>DE 3 A 6 VECES A LA SEMANA</th>\n",
       "      <td>NaN</td>\n",
       "      <td>14.0</td>\n",
       "      <td>36.0</td>\n",
       "      <td>58.0</td>\n",
       "      <td>26.0</td>\n",
       "      <td>30.0</td>\n",
       "      <td>3.0</td>\n",
       "      <td>25.0</td>\n",
       "    </tr>\n",
       "    <tr>\n",
       "      <th>MAS DE UNA VEZ AL DIA</th>\n",
       "      <td>2.0</td>\n",
       "      <td>16.0</td>\n",
       "      <td>51.0</td>\n",
       "      <td>40.0</td>\n",
       "      <td>31.0</td>\n",
       "      <td>12.0</td>\n",
       "      <td>5.0</td>\n",
       "      <td>20.0</td>\n",
       "    </tr>\n",
       "    <tr>\n",
       "      <th>NUNCA</th>\n",
       "      <td>3.0</td>\n",
       "      <td>39.0</td>\n",
       "      <td>129.0</td>\n",
       "      <td>143.0</td>\n",
       "      <td>50.0</td>\n",
       "      <td>164.0</td>\n",
       "      <td>4.0</td>\n",
       "      <td>103.0</td>\n",
       "    </tr>\n",
       "    <tr>\n",
       "      <th>UNA VEZ AL DIA</th>\n",
       "      <td>1.0</td>\n",
       "      <td>11.0</td>\n",
       "      <td>27.0</td>\n",
       "      <td>28.0</td>\n",
       "      <td>17.0</td>\n",
       "      <td>25.0</td>\n",
       "      <td>1.0</td>\n",
       "      <td>15.0</td>\n",
       "    </tr>\n",
       "  </tbody>\n",
       "</table>\n",
       "</div>"
      ],
      "text/plain": [
       "                                            count                            \\\n",
       "ANIO                                         2012  2014   2015   2016  2017   \n",
       "PREGUNTA_ACT_COD RESPUESTA_ACT                                                \n",
       "ACT_2            1 O 2 VECES A LA SEMANA      5.0  28.0  104.0  178.0  90.0   \n",
       "                 DE 3 A 6 VECES A LA SEMANA   NaN  14.0   36.0   58.0  26.0   \n",
       "                 MAS DE UNA VEZ AL DIA        2.0  16.0   51.0   40.0  31.0   \n",
       "                 NUNCA                        3.0  39.0  129.0  143.0  50.0   \n",
       "                 UNA VEZ AL DIA               1.0  11.0   27.0   28.0  17.0   \n",
       "\n",
       "                                                                \n",
       "ANIO                                          2018 2019   2020  \n",
       "PREGUNTA_ACT_COD RESPUESTA_ACT                                  \n",
       "ACT_2            1 O 2 VECES A LA SEMANA     107.0  6.0   55.0  \n",
       "                 DE 3 A 6 VECES A LA SEMANA   30.0  3.0   25.0  \n",
       "                 MAS DE UNA VEZ AL DIA        12.0  5.0   20.0  \n",
       "                 NUNCA                       164.0  4.0  103.0  \n",
       "                 UNA VEZ AL DIA               25.0  1.0   15.0  "
      ]
     },
     "execution_count": 19,
     "metadata": {},
     "output_type": "execute_result"
    }
   ],
   "source": [
    "evolucion_puntaje = pd.pivot_table(df_ACT_DSG_OK[df_ACT_DSG_OK.PREGUNTA_ACT_COD ==\"ACT_2\"],\n",
    "                          values = \"ID\",\n",
    "                          index = [\"PREGUNTA_ACT_COD\",\"RESPUESTA_ACT\"],\n",
    "                            columns = [\"ANIO\"],\n",
    "                          aggfunc = [\"count\"]                        \n",
    "                         )\n",
    "evolucion_puntaje"
   ]
  },
  {
   "cell_type": "code",
   "execution_count": 20,
   "metadata": {},
   "outputs": [
    {
     "data": {
      "text/html": [
       "<div>\n",
       "<style scoped>\n",
       "    .dataframe tbody tr th:only-of-type {\n",
       "        vertical-align: middle;\n",
       "    }\n",
       "\n",
       "    .dataframe tbody tr th {\n",
       "        vertical-align: top;\n",
       "    }\n",
       "\n",
       "    .dataframe thead tr th {\n",
       "        text-align: left;\n",
       "    }\n",
       "\n",
       "    .dataframe thead tr:last-of-type th {\n",
       "        text-align: right;\n",
       "    }\n",
       "</style>\n",
       "<table border=\"1\" class=\"dataframe\">\n",
       "  <thead>\n",
       "    <tr>\n",
       "      <th></th>\n",
       "      <th></th>\n",
       "      <th colspan=\"8\" halign=\"left\">count</th>\n",
       "    </tr>\n",
       "    <tr>\n",
       "      <th></th>\n",
       "      <th>ANIO</th>\n",
       "      <th>2012</th>\n",
       "      <th>2014</th>\n",
       "      <th>2015</th>\n",
       "      <th>2016</th>\n",
       "      <th>2017</th>\n",
       "      <th>2018</th>\n",
       "      <th>2019</th>\n",
       "      <th>2020</th>\n",
       "    </tr>\n",
       "    <tr>\n",
       "      <th>PREGUNTA_ACT_COD</th>\n",
       "      <th>RESPUESTA_ACT</th>\n",
       "      <th></th>\n",
       "      <th></th>\n",
       "      <th></th>\n",
       "      <th></th>\n",
       "      <th></th>\n",
       "      <th></th>\n",
       "      <th></th>\n",
       "      <th></th>\n",
       "    </tr>\n",
       "  </thead>\n",
       "  <tbody>\n",
       "    <tr>\n",
       "      <th rowspan=\"5\" valign=\"top\">ACT_3</th>\n",
       "      <th>DE 2 A 3 NOCHES EN A LA SEMANA</th>\n",
       "      <td>2</td>\n",
       "      <td>19</td>\n",
       "      <td>54</td>\n",
       "      <td>66</td>\n",
       "      <td>37</td>\n",
       "      <td>28</td>\n",
       "      <td>4</td>\n",
       "      <td>35</td>\n",
       "    </tr>\n",
       "    <tr>\n",
       "      <th>MAS DE 4 NOCHES A LA SEMANA</th>\n",
       "      <td>2</td>\n",
       "      <td>12</td>\n",
       "      <td>54</td>\n",
       "      <td>34</td>\n",
       "      <td>24</td>\n",
       "      <td>10</td>\n",
       "      <td>2</td>\n",
       "      <td>18</td>\n",
       "    </tr>\n",
       "    <tr>\n",
       "      <th>NUNCA</th>\n",
       "      <td>3</td>\n",
       "      <td>50</td>\n",
       "      <td>114</td>\n",
       "      <td>174</td>\n",
       "      <td>87</td>\n",
       "      <td>180</td>\n",
       "      <td>3</td>\n",
       "      <td>124</td>\n",
       "    </tr>\n",
       "    <tr>\n",
       "      <th>UNA O DOS VECES</th>\n",
       "      <td>3</td>\n",
       "      <td>17</td>\n",
       "      <td>92</td>\n",
       "      <td>126</td>\n",
       "      <td>55</td>\n",
       "      <td>92</td>\n",
       "      <td>7</td>\n",
       "      <td>23</td>\n",
       "    </tr>\n",
       "    <tr>\n",
       "      <th>UNA VEZ A LA SEMANA</th>\n",
       "      <td>1</td>\n",
       "      <td>10</td>\n",
       "      <td>33</td>\n",
       "      <td>50</td>\n",
       "      <td>11</td>\n",
       "      <td>28</td>\n",
       "      <td>4</td>\n",
       "      <td>18</td>\n",
       "    </tr>\n",
       "  </tbody>\n",
       "</table>\n",
       "</div>"
      ],
      "text/plain": [
       "                                                count                      \\\n",
       "ANIO                                             2012 2014 2015 2016 2017   \n",
       "PREGUNTA_ACT_COD RESPUESTA_ACT                                              \n",
       "ACT_3            DE 2 A 3 NOCHES EN A LA SEMANA     2   19   54   66   37   \n",
       "                 MAS DE 4 NOCHES A LA SEMANA        2   12   54   34   24   \n",
       "                 NUNCA                              3   50  114  174   87   \n",
       "                 UNA O DOS VECES                    3   17   92  126   55   \n",
       "                 UNA VEZ A LA SEMANA                1   10   33   50   11   \n",
       "\n",
       "                                                                \n",
       "ANIO                                            2018 2019 2020  \n",
       "PREGUNTA_ACT_COD RESPUESTA_ACT                                  \n",
       "ACT_3            DE 2 A 3 NOCHES EN A LA SEMANA   28    4   35  \n",
       "                 MAS DE 4 NOCHES A LA SEMANA      10    2   18  \n",
       "                 NUNCA                           180    3  124  \n",
       "                 UNA O DOS VECES                  92    7   23  \n",
       "                 UNA VEZ A LA SEMANA              28    4   18  "
      ]
     },
     "execution_count": 20,
     "metadata": {},
     "output_type": "execute_result"
    }
   ],
   "source": [
    "evolucion_puntaje = pd.pivot_table(df_ACT_DSG_OK[df_ACT_DSG_OK.PREGUNTA_ACT_COD ==\"ACT_3\"],\n",
    "                          values = \"ID\",\n",
    "                          index = [\"PREGUNTA_ACT_COD\",\"RESPUESTA_ACT\"],\n",
    "                            columns = [\"ANIO\"],\n",
    "                          aggfunc = [\"count\"]                        \n",
    "                         )\n",
    "evolucion_puntaje"
   ]
  },
  {
   "cell_type": "code",
   "execution_count": 21,
   "metadata": {},
   "outputs": [
    {
     "data": {
      "text/html": [
       "<div>\n",
       "<style scoped>\n",
       "    .dataframe tbody tr th:only-of-type {\n",
       "        vertical-align: middle;\n",
       "    }\n",
       "\n",
       "    .dataframe tbody tr th {\n",
       "        vertical-align: top;\n",
       "    }\n",
       "\n",
       "    .dataframe thead tr th {\n",
       "        text-align: left;\n",
       "    }\n",
       "\n",
       "    .dataframe thead tr:last-of-type th {\n",
       "        text-align: right;\n",
       "    }\n",
       "</style>\n",
       "<table border=\"1\" class=\"dataframe\">\n",
       "  <thead>\n",
       "    <tr>\n",
       "      <th></th>\n",
       "      <th></th>\n",
       "      <th colspan=\"8\" halign=\"left\">count</th>\n",
       "    </tr>\n",
       "    <tr>\n",
       "      <th></th>\n",
       "      <th>ANIO</th>\n",
       "      <th>2012</th>\n",
       "      <th>2014</th>\n",
       "      <th>2015</th>\n",
       "      <th>2016</th>\n",
       "      <th>2017</th>\n",
       "      <th>2018</th>\n",
       "      <th>2019</th>\n",
       "      <th>2020</th>\n",
       "    </tr>\n",
       "    <tr>\n",
       "      <th>PREGUNTA_ACT_COD</th>\n",
       "      <th>RESPUESTA_ACT</th>\n",
       "      <th></th>\n",
       "      <th></th>\n",
       "      <th></th>\n",
       "      <th></th>\n",
       "      <th></th>\n",
       "      <th></th>\n",
       "      <th></th>\n",
       "      <th></th>\n",
       "    </tr>\n",
       "  </thead>\n",
       "  <tbody>\n",
       "    <tr>\n",
       "      <th rowspan=\"5\" valign=\"top\">ACT_4</th>\n",
       "      <th>1 O 2 VECES AL DIA</th>\n",
       "      <td>1.0</td>\n",
       "      <td>12.0</td>\n",
       "      <td>71.0</td>\n",
       "      <td>54.0</td>\n",
       "      <td>24.0</td>\n",
       "      <td>37.0</td>\n",
       "      <td>4.0</td>\n",
       "      <td>59.0</td>\n",
       "    </tr>\n",
       "    <tr>\n",
       "      <th>1 VEZ A LA SEMANA O MENOS</th>\n",
       "      <td>6.0</td>\n",
       "      <td>24.0</td>\n",
       "      <td>53.0</td>\n",
       "      <td>141.0</td>\n",
       "      <td>58.0</td>\n",
       "      <td>117.0</td>\n",
       "      <td>5.0</td>\n",
       "      <td>40.0</td>\n",
       "    </tr>\n",
       "    <tr>\n",
       "      <th>2 O 3 VECES A LA SEMANA</th>\n",
       "      <td>NaN</td>\n",
       "      <td>18.0</td>\n",
       "      <td>46.0</td>\n",
       "      <td>76.0</td>\n",
       "      <td>32.0</td>\n",
       "      <td>49.0</td>\n",
       "      <td>6.0</td>\n",
       "      <td>15.0</td>\n",
       "    </tr>\n",
       "    <tr>\n",
       "      <th>MAS DE 3 VECES AL DIA</th>\n",
       "      <td>2.0</td>\n",
       "      <td>23.0</td>\n",
       "      <td>56.0</td>\n",
       "      <td>43.0</td>\n",
       "      <td>49.0</td>\n",
       "      <td>18.0</td>\n",
       "      <td>3.0</td>\n",
       "      <td>30.0</td>\n",
       "    </tr>\n",
       "    <tr>\n",
       "      <th>NUNCA</th>\n",
       "      <td>2.0</td>\n",
       "      <td>31.0</td>\n",
       "      <td>119.0</td>\n",
       "      <td>133.0</td>\n",
       "      <td>52.0</td>\n",
       "      <td>117.0</td>\n",
       "      <td>2.0</td>\n",
       "      <td>74.0</td>\n",
       "    </tr>\n",
       "  </tbody>\n",
       "</table>\n",
       "</div>"
      ],
      "text/plain": [
       "                                           count                            \\\n",
       "ANIO                                        2012  2014   2015   2016  2017   \n",
       "PREGUNTA_ACT_COD RESPUESTA_ACT                                               \n",
       "ACT_4            1 O 2 VECES AL DIA          1.0  12.0   71.0   54.0  24.0   \n",
       "                 1 VEZ A LA SEMANA O MENOS   6.0  24.0   53.0  141.0  58.0   \n",
       "                 2 O 3 VECES A LA SEMANA     NaN  18.0   46.0   76.0  32.0   \n",
       "                 MAS DE 3 VECES AL DIA       2.0  23.0   56.0   43.0  49.0   \n",
       "                 NUNCA                       2.0  31.0  119.0  133.0  52.0   \n",
       "\n",
       "                                                              \n",
       "ANIO                                         2018 2019  2020  \n",
       "PREGUNTA_ACT_COD RESPUESTA_ACT                                \n",
       "ACT_4            1 O 2 VECES AL DIA          37.0  4.0  59.0  \n",
       "                 1 VEZ A LA SEMANA O MENOS  117.0  5.0  40.0  \n",
       "                 2 O 3 VECES A LA SEMANA     49.0  6.0  15.0  \n",
       "                 MAS DE 3 VECES AL DIA       18.0  3.0  30.0  \n",
       "                 NUNCA                      117.0  2.0  74.0  "
      ]
     },
     "execution_count": 21,
     "metadata": {},
     "output_type": "execute_result"
    }
   ],
   "source": [
    "evolucion_puntaje = pd.pivot_table(df_ACT_DSG_OK[df_ACT_DSG_OK.PREGUNTA_ACT_COD ==\"ACT_4\"],\n",
    "                          values = \"ID\",\n",
    "                          index = [\"PREGUNTA_ACT_COD\",\"RESPUESTA_ACT\"],\n",
    "                            columns = [\"ANIO\"],\n",
    "                          aggfunc = [\"count\"]                        \n",
    "                         )\n",
    "evolucion_puntaje"
   ]
  },
  {
   "cell_type": "code",
   "execution_count": 22,
   "metadata": {},
   "outputs": [
    {
     "data": {
      "text/html": [
       "<div>\n",
       "<style scoped>\n",
       "    .dataframe tbody tr th:only-of-type {\n",
       "        vertical-align: middle;\n",
       "    }\n",
       "\n",
       "    .dataframe tbody tr th {\n",
       "        vertical-align: top;\n",
       "    }\n",
       "\n",
       "    .dataframe thead tr th {\n",
       "        text-align: left;\n",
       "    }\n",
       "\n",
       "    .dataframe thead tr:last-of-type th {\n",
       "        text-align: right;\n",
       "    }\n",
       "</style>\n",
       "<table border=\"1\" class=\"dataframe\">\n",
       "  <thead>\n",
       "    <tr>\n",
       "      <th></th>\n",
       "      <th></th>\n",
       "      <th colspan=\"8\" halign=\"left\">count</th>\n",
       "    </tr>\n",
       "    <tr>\n",
       "      <th></th>\n",
       "      <th>ANIO</th>\n",
       "      <th>2012</th>\n",
       "      <th>2014</th>\n",
       "      <th>2015</th>\n",
       "      <th>2016</th>\n",
       "      <th>2017</th>\n",
       "      <th>2018</th>\n",
       "      <th>2019</th>\n",
       "      <th>2020</th>\n",
       "    </tr>\n",
       "    <tr>\n",
       "      <th>PREGUNTA_ACT_COD</th>\n",
       "      <th>RESPUESTA_ACT</th>\n",
       "      <th></th>\n",
       "      <th></th>\n",
       "      <th></th>\n",
       "      <th></th>\n",
       "      <th></th>\n",
       "      <th></th>\n",
       "      <th></th>\n",
       "      <th></th>\n",
       "    </tr>\n",
       "  </thead>\n",
       "  <tbody>\n",
       "    <tr>\n",
       "      <th rowspan=\"5\" valign=\"top\">ACT_5</th>\n",
       "      <th>ALGO CONTROLADA</th>\n",
       "      <td>2.0</td>\n",
       "      <td>24.0</td>\n",
       "      <td>75.0</td>\n",
       "      <td>91.0</td>\n",
       "      <td>44.0</td>\n",
       "      <td>46.0</td>\n",
       "      <td>4.0</td>\n",
       "      <td>45.0</td>\n",
       "    </tr>\n",
       "    <tr>\n",
       "      <th>BIEN CONTROLADA</th>\n",
       "      <td>6.0</td>\n",
       "      <td>56.0</td>\n",
       "      <td>155.0</td>\n",
       "      <td>226.0</td>\n",
       "      <td>127.0</td>\n",
       "      <td>189.0</td>\n",
       "      <td>11.0</td>\n",
       "      <td>137.0</td>\n",
       "    </tr>\n",
       "    <tr>\n",
       "      <th>MAL CONTROLADA</th>\n",
       "      <td>1.0</td>\n",
       "      <td>11.0</td>\n",
       "      <td>28.0</td>\n",
       "      <td>29.0</td>\n",
       "      <td>7.0</td>\n",
       "      <td>27.0</td>\n",
       "      <td>1.0</td>\n",
       "      <td>10.0</td>\n",
       "    </tr>\n",
       "    <tr>\n",
       "      <th>NADA CONTROLADA</th>\n",
       "      <td>NaN</td>\n",
       "      <td>4.0</td>\n",
       "      <td>11.0</td>\n",
       "      <td>5.0</td>\n",
       "      <td>10.0</td>\n",
       "      <td>2.0</td>\n",
       "      <td>1.0</td>\n",
       "      <td>2.0</td>\n",
       "    </tr>\n",
       "    <tr>\n",
       "      <th>TOTALMENTE CONTROLADA</th>\n",
       "      <td>2.0</td>\n",
       "      <td>13.0</td>\n",
       "      <td>77.0</td>\n",
       "      <td>96.0</td>\n",
       "      <td>26.0</td>\n",
       "      <td>74.0</td>\n",
       "      <td>2.0</td>\n",
       "      <td>24.0</td>\n",
       "    </tr>\n",
       "  </tbody>\n",
       "</table>\n",
       "</div>"
      ],
      "text/plain": [
       "                                       count                             \\\n",
       "ANIO                                    2012  2014   2015   2016   2017   \n",
       "PREGUNTA_ACT_COD RESPUESTA_ACT                                            \n",
       "ACT_5            ALGO CONTROLADA         2.0  24.0   75.0   91.0   44.0   \n",
       "                 BIEN CONTROLADA         6.0  56.0  155.0  226.0  127.0   \n",
       "                 MAL CONTROLADA          1.0  11.0   28.0   29.0    7.0   \n",
       "                 NADA CONTROLADA         NaN   4.0   11.0    5.0   10.0   \n",
       "                 TOTALMENTE CONTROLADA   2.0  13.0   77.0   96.0   26.0   \n",
       "\n",
       "                                                            \n",
       "ANIO                                     2018  2019   2020  \n",
       "PREGUNTA_ACT_COD RESPUESTA_ACT                              \n",
       "ACT_5            ALGO CONTROLADA         46.0   4.0   45.0  \n",
       "                 BIEN CONTROLADA        189.0  11.0  137.0  \n",
       "                 MAL CONTROLADA          27.0   1.0   10.0  \n",
       "                 NADA CONTROLADA          2.0   1.0    2.0  \n",
       "                 TOTALMENTE CONTROLADA   74.0   2.0   24.0  "
      ]
     },
     "execution_count": 22,
     "metadata": {},
     "output_type": "execute_result"
    }
   ],
   "source": [
    "evolucion_puntaje = pd.pivot_table(df_ACT_DSG_OK[df_ACT_DSG_OK.PREGUNTA_ACT_COD ==\"ACT_5\"],\n",
    "                          values = \"ID\",\n",
    "                          index = [\"PREGUNTA_ACT_COD\",\"RESPUESTA_ACT\"],\n",
    "                            columns = [\"ANIO\"],\n",
    "                          aggfunc = [\"count\"]                        \n",
    "                         )\n",
    "evolucion_puntaje"
   ]
  },
  {
   "cell_type": "markdown",
   "metadata": {},
   "source": [
    "<font color='blue'> **---------------------------- AGREGAR LAS BASES DE DATOS ----------------------** </font>"
   ]
  },
  {
   "cell_type": "markdown",
   "metadata": {},
   "source": [
    "En primer lugar es necesario codificar todas las respuesta del ACT en la base desagregada para poder cuantificar el puntaje final"
   ]
  },
  {
   "cell_type": "code",
   "execution_count": 31,
   "metadata": {},
   "outputs": [
    {
     "data": {
      "text/plain": [
       "array(['POCAS VECES', '1 O 2 VECES A LA SEMANA',\n",
       "       'DE 2 A 3 NOCHES EN A LA SEMANA', '1 VEZ A LA SEMANA O MENOS',\n",
       "       'BIEN CONTROLADA', 'UNA O DOS VECES', 'UNA VEZ A LA SEMANA',\n",
       "       'ALGO CONTROLADA', 'SIEMPRE', 'MAS DE UNA VEZ AL DIA',\n",
       "       'MAS DE 4 NOCHES A LA SEMANA', 'MAS DE 3 VECES AL DIA',\n",
       "       'MAL CONTROLADA', 'UNA VEZ AL DIA', '1 O 2 VECES AL DIA', 'NUNCA',\n",
       "       'CASI SIEMPRE', 'TOTALMENTE CONTROLADA', '2 O 3 VECES A LA SEMANA',\n",
       "       'DE 3 A 6 VECES A LA SEMANA', 'ALGUNAS VECES', 'NADA CONTROLADA',\n",
       "       'LO NORMAL', 'ENTRE 13 MESES Y 2 AÑOS', 'NADA', 'BASTANTE',\n",
       "       'UN POCO', 'MODERADO', 'INSATISFECHO', 'BASTANTE SATISFECHO',\n",
       "       'RARAMENTE'], dtype=object)"
      ]
     },
     "execution_count": 31,
     "metadata": {},
     "output_type": "execute_result"
    }
   ],
   "source": [
    "df_ACT_DSG_OK[\"RESPUESTA_ACT\"].unique()"
   ]
  },
  {
   "cell_type": "code",
   "execution_count": 60,
   "metadata": {},
   "outputs": [
    {
     "name": "stdout",
     "output_type": "stream",
     "text": [
      "<class 'pandas.core.frame.DataFrame'>\n",
      "Int64Index: 8541 entries, 0 to 8601\n",
      "Data columns (total 8 columns):\n",
      " #   Column                 Non-Null Count  Dtype         \n",
      "---  ------                 --------------  -----         \n",
      " 0   ID                     8541 non-null   int64         \n",
      " 1   DS_NOMBRE              8541 non-null   object        \n",
      " 2   PREGUNTA_ACT_COD       8514 non-null   object        \n",
      " 3   PREGUNTA_ACT           8541 non-null   object        \n",
      " 4   RESPUESTA_ACT          8541 non-null   object        \n",
      " 5   RESPUESTA_ACT_COD_UNO  3603 non-null   float64       \n",
      " 6   FE_RESULTADO           8541 non-null   datetime64[ns]\n",
      " 7   ANIO                   8541 non-null   int64         \n",
      "dtypes: datetime64[ns](1), float64(1), int64(2), object(4)\n",
      "memory usage: 600.5+ KB\n"
     ]
    }
   ],
   "source": [
    "#Cambiar para las del ACT - pregunta 1\n",
    "pregunta_ACT_uno = ['SIEMPRE',\n",
    "                'CASI SIEMPRE',\n",
    "                'ALGUNAS VECES',\n",
    "                'POCAS VECES',\n",
    "                'NUNCA']\n",
    "pregunta_ACT_uno_r = {'PREGUNTA_ACT': pd.Series(pregunta_ACT_uno, index=[1,2,3,4,5]),\n",
    "     'RESPUESTA_ACT_COD': pd.Series([1, 2, 3,4,5], index=[1,2,3,4,5])}\n",
    "df_pregunta_ACT_uno = pd.DataFrame(pregunta_ACT_uno_r)\n",
    "#Insertar las etiquietas para preguntas del ACT\n",
    "df_ACT_DSG_OK.insert(5,\"RESPUESTA_ACT_COD_UNO\", df_ACT_DSG_OK[\"RESPUESTA_ACT\"].map(df_pregunta_ACT_uno.set_index(\"PREGUNTA_ACT\")[\"RESPUESTA_ACT_COD\"]))\n",
    "df_ACT_DSG_OK.info()"
   ]
  },
  {
   "cell_type": "code",
   "execution_count": 61,
   "metadata": {},
   "outputs": [
    {
     "name": "stdout",
     "output_type": "stream",
     "text": [
      "<class 'pandas.core.frame.DataFrame'>\n",
      "Int64Index: 8541 entries, 0 to 8601\n",
      "Data columns (total 9 columns):\n",
      " #   Column                 Non-Null Count  Dtype         \n",
      "---  ------                 --------------  -----         \n",
      " 0   ID                     8541 non-null   int64         \n",
      " 1   DS_NOMBRE              8541 non-null   object        \n",
      " 2   PREGUNTA_ACT_COD       8514 non-null   object        \n",
      " 3   PREGUNTA_ACT           8541 non-null   object        \n",
      " 4   RESPUESTA_ACT          8541 non-null   object        \n",
      " 5   RESPUESTA_ACT_COD_DOS  1067 non-null   float64       \n",
      " 6   RESPUESTA_ACT_COD_UNO  3603 non-null   float64       \n",
      " 7   FE_RESULTADO           8541 non-null   datetime64[ns]\n",
      " 8   ANIO                   8541 non-null   int64         \n",
      "dtypes: datetime64[ns](1), float64(2), int64(2), object(4)\n",
      "memory usage: 667.3+ KB\n"
     ]
    }
   ],
   "source": [
    "#Cambiar para las del ACT - pregunta 2\n",
    "pregunta_ACT_dos = ['MAS DE UNA VEZ AL DIA',\n",
    "                'UNA VEZ AL DIA',\n",
    "                'DE 3 A 6 VECES A LA SEMANA',\n",
    "                '1 O 2 VECES A LA SEMANA']\n",
    "pregunta_ACT_dos_r = {'PREGUNTA_ACT': pd.Series(pregunta_ACT_dos, index=[1,2,3,4]),\n",
    "     'RESPUESTA_ACT_COD': pd.Series([1,2, 3,4], index=[1,2,3,4])}\n",
    "df_pregunta_ACT_dos = pd.DataFrame(pregunta_ACT_dos_r)\n",
    "#Insertar las etiquietas para preguntas del ACT\n",
    "df_ACT_DSG_OK.insert(5,\"RESPUESTA_ACT_COD_DOS\", df_ACT_DSG_OK[\"RESPUESTA_ACT\"].map(df_pregunta_ACT_dos.set_index(\"PREGUNTA_ACT\")[\"RESPUESTA_ACT_COD\"]))\n",
    "df_ACT_DSG_OK.info()"
   ]
  },
  {
   "cell_type": "code",
   "execution_count": 62,
   "metadata": {},
   "outputs": [
    {
     "name": "stdout",
     "output_type": "stream",
     "text": [
      "<class 'pandas.core.frame.DataFrame'>\n",
      "Int64Index: 8541 entries, 0 to 8601\n",
      "Data columns (total 10 columns):\n",
      " #   Column                  Non-Null Count  Dtype         \n",
      "---  ------                  --------------  -----         \n",
      " 0   ID                      8541 non-null   int64         \n",
      " 1   DS_NOMBRE               8541 non-null   object        \n",
      " 2   PREGUNTA_ACT_COD        8514 non-null   object        \n",
      " 3   PREGUNTA_ACT            8541 non-null   object        \n",
      " 4   RESPUESTA_ACT           8541 non-null   object        \n",
      " 5   RESPUESTA_ACT_COD_TRES  971 non-null    float64       \n",
      " 6   RESPUESTA_ACT_COD_DOS   1067 non-null   float64       \n",
      " 7   RESPUESTA_ACT_COD_UNO   3603 non-null   float64       \n",
      " 8   FE_RESULTADO            8541 non-null   datetime64[ns]\n",
      " 9   ANIO                    8541 non-null   int64         \n",
      "dtypes: datetime64[ns](1), float64(3), int64(2), object(4)\n",
      "memory usage: 734.0+ KB\n"
     ]
    }
   ],
   "source": [
    "#Cambiar para las del ACT - pregunta 3\n",
    "pregunta_ACT_tres = ['MAS DE 4 NOCHES A LA SEMANA',\n",
    "                'DE 2 A 3 NOCHES EN A LA SEMANA',\n",
    "                'UNA VEZ A LA SEMANA',\n",
    "                'UNA O DOS VECES']\n",
    "pregunta_ACT_tres_r = {'PREGUNTA_ACT': pd.Series(pregunta_ACT_tres, index=[1,2,3,4]),\n",
    "     'RESPUESTA_ACT_COD': pd.Series([1,2, 3,4], index=[1,2,3,4])}\n",
    "df_pregunta_ACT_tres = pd.DataFrame(pregunta_ACT_tres_r)\n",
    "#Insertar las etiquietas para preguntas del ACT\n",
    "df_ACT_DSG_OK.insert(5,\"RESPUESTA_ACT_COD_TRES\", df_ACT_DSG_OK[\"RESPUESTA_ACT\"].map(df_pregunta_ACT_tres.set_index(\"PREGUNTA_ACT\")[\"RESPUESTA_ACT_COD\"]))\n",
    "df_ACT_DSG_OK.info()"
   ]
  },
  {
   "cell_type": "code",
   "execution_count": 63,
   "metadata": {},
   "outputs": [
    {
     "name": "stdout",
     "output_type": "stream",
     "text": [
      "<class 'pandas.core.frame.DataFrame'>\n",
      "Int64Index: 8541 entries, 0 to 8601\n",
      "Data columns (total 11 columns):\n",
      " #   Column                    Non-Null Count  Dtype         \n",
      "---  ------                    --------------  -----         \n",
      " 0   ID                        8541 non-null   int64         \n",
      " 1   DS_NOMBRE                 8541 non-null   object        \n",
      " 2   PREGUNTA_ACT_COD          8514 non-null   object        \n",
      " 3   PREGUNTA_ACT              8541 non-null   object        \n",
      " 4   RESPUESTA_ACT             8541 non-null   object        \n",
      " 5   RESPUESTA_ACT_COD_CUATRO  1172 non-null   float64       \n",
      " 6   RESPUESTA_ACT_COD_TRES    971 non-null    float64       \n",
      " 7   RESPUESTA_ACT_COD_DOS     1067 non-null   float64       \n",
      " 8   RESPUESTA_ACT_COD_UNO     3603 non-null   float64       \n",
      " 9   FE_RESULTADO              8541 non-null   datetime64[ns]\n",
      " 10  ANIO                      8541 non-null   int64         \n",
      "dtypes: datetime64[ns](1), float64(4), int64(2), object(4)\n",
      "memory usage: 800.7+ KB\n"
     ]
    }
   ],
   "source": [
    "#Cambiar para las del ACT - pregunta 4\n",
    "pregunta_ACT_cuatro = ['MAS DE 3 VECES AL DIA',\n",
    "                '1 O 2 VECES AL DIA',\n",
    "                '2 O 3 VECES A LA SEMANA',\n",
    "                '1 VEZ A LA SEMANA O MENOS']\n",
    "pregunta_ACT_cuatro_r = {'PREGUNTA_ACT': pd.Series(pregunta_ACT_cuatro, index=[1,2,3,4]),\n",
    "     'RESPUESTA_ACT_COD': pd.Series([1,2, 3,4], index=[1,2,3,4])}\n",
    "df_pregunta_ACT_cuatro = pd.DataFrame(pregunta_ACT_cuatro_r)\n",
    "#Insertar las etiquietas para preguntas del ACT\n",
    "df_ACT_DSG_OK.insert(5,\"RESPUESTA_ACT_COD_CUATRO\", df_ACT_DSG_OK[\"RESPUESTA_ACT\"].map(df_pregunta_ACT_cuatro.set_index(\"PREGUNTA_ACT\")[\"RESPUESTA_ACT_COD\"]))\n",
    "df_ACT_DSG_OK.info()"
   ]
  },
  {
   "cell_type": "code",
   "execution_count": 64,
   "metadata": {},
   "outputs": [
    {
     "name": "stdout",
     "output_type": "stream",
     "text": [
      "<class 'pandas.core.frame.DataFrame'>\n",
      "Int64Index: 8541 entries, 0 to 8601\n",
      "Data columns (total 12 columns):\n",
      " #   Column                    Non-Null Count  Dtype         \n",
      "---  ------                    --------------  -----         \n",
      " 0   ID                        8541 non-null   int64         \n",
      " 1   DS_NOMBRE                 8541 non-null   object        \n",
      " 2   PREGUNTA_ACT_COD          8514 non-null   object        \n",
      " 3   PREGUNTA_ACT              8541 non-null   object        \n",
      " 4   RESPUESTA_ACT             8541 non-null   object        \n",
      " 5   RESPUESTA_ACT_COD_CINCO   1701 non-null   float64       \n",
      " 6   RESPUESTA_ACT_COD_CUATRO  1172 non-null   float64       \n",
      " 7   RESPUESTA_ACT_COD_TRES    971 non-null    float64       \n",
      " 8   RESPUESTA_ACT_COD_DOS     1067 non-null   float64       \n",
      " 9   RESPUESTA_ACT_COD_UNO     3603 non-null   float64       \n",
      " 10  FE_RESULTADO              8541 non-null   datetime64[ns]\n",
      " 11  ANIO                      8541 non-null   int64         \n",
      "dtypes: datetime64[ns](1), float64(5), int64(2), object(4)\n",
      "memory usage: 867.4+ KB\n"
     ]
    }
   ],
   "source": [
    "#Cambiar para las del ACT - pregunta 5\n",
    "pregunta_ACT_cinco = ['NADA CONTROLADA',\n",
    "                'MAL CONTROLADA',\n",
    "                'ALGO CONTROLADA',\n",
    "                'BIEN CONTROLADA',\n",
    "                'TOTALMENTE CONTROLADA']\n",
    "pregunta_ACT_cinco_r = {'PREGUNTA_ACT': pd.Series(pregunta_ACT_cinco, index=[1,2,3,4,5]),\n",
    "     'RESPUESTA_ACT_COD': pd.Series([1,2, 3,4,5], index=[1,2,3,4,5])}\n",
    "df_pregunta_ACT_cinco = pd.DataFrame(pregunta_ACT_cinco_r)\n",
    "#Insertar las etiquietas para preguntas del ACT\n",
    "df_ACT_DSG_OK.insert(5,\"RESPUESTA_ACT_COD_CINCO\", df_ACT_DSG_OK[\"RESPUESTA_ACT\"].map(df_pregunta_ACT_cinco.set_index(\"PREGUNTA_ACT\")[\"RESPUESTA_ACT_COD\"]))\n",
    "df_ACT_DSG_OK.info()"
   ]
  },
  {
   "cell_type": "code",
   "execution_count": 65,
   "metadata": {},
   "outputs": [],
   "source": [
    "ACT_respuestas = [\"RESPUESTA_ACT_COD_UNO\",\"RESPUESTA_ACT_COD_DOS\",\"RESPUESTA_ACT_COD_TRES\",\"RESPUESTA_ACT_COD_CUATRO\",\"RESPUESTA_ACT_COD_CINCO\"]\n",
    "df_ACT_DSG_OK2 = df_ACT_DSG_OK.assign(RESPUESTA_ACT_COD = df_ACT_DSG_OK[ACT_respuestas].sum(1)).drop(ACT_respuestas,1)"
   ]
  },
  {
   "cell_type": "code",
   "execution_count": 73,
   "metadata": {},
   "outputs": [
    {
     "name": "stdout",
     "output_type": "stream",
     "text": [
      "       ID                       DS_NOMBRE PREGUNTA_ACT_COD  \\\n",
      "0  535255  Prueba de control del Asma ACT            ACT_1   \n",
      "1  535255  Prueba de control del Asma ACT            ACT_2   \n",
      "2  535255  Prueba de control del Asma ACT            ACT_3   \n",
      "3  535255  Prueba de control del Asma ACT            ACT_4   \n",
      "4  535255  Prueba de control del Asma ACT            ACT_5   \n",
      "\n",
      "                                        PREGUNTA_ACT  \\\n",
      "0  DURANTE LAS ULTIMAS 4 SEMANAS ¿CON QUE FRECUEN...   \n",
      "1  DURANTE LAS ULTIMAS 4 SEMANAS ¿CON QUE FRECUEN...   \n",
      "2  DURANTE LAS ULTIMAS 4 SEMANAS ¿CON QUE FRECUEN...   \n",
      "3  DURANTE LAS ULTIMAS 4 SEMANAS ¿CON QUE FRECUEN...   \n",
      "4  ¿COMO CALIFICARIA EL CONTROL DE SU ASMA DURANT...   \n",
      "\n",
      "                    RESPUESTA_ACT FE_RESULTADO  ANIO  RESPUESTA_ACT_COD  \n",
      "0                     POCAS VECES   2012-06-29  2012                4.0  \n",
      "1         1 O 2 VECES A LA SEMANA   2012-06-29  2012                4.0  \n",
      "2  DE 2 A 3 NOCHES EN A LA SEMANA   2012-06-29  2012                2.0  \n",
      "3       1 VEZ A LA SEMANA O MENOS   2012-06-29  2012                4.0  \n",
      "4                 BIEN CONTROLADA   2012-06-29  2012                4.0  \n"
     ]
    }
   ],
   "source": [
    "print(df_ACT_DSG_OK2.head(5))"
   ]
  },
  {
   "cell_type": "code",
   "execution_count": 70,
   "metadata": {},
   "outputs": [
    {
     "data": {
      "text/html": [
       "<div>\n",
       "<style scoped>\n",
       "    .dataframe tbody tr th:only-of-type {\n",
       "        vertical-align: middle;\n",
       "    }\n",
       "\n",
       "    .dataframe tbody tr th {\n",
       "        vertical-align: top;\n",
       "    }\n",
       "\n",
       "    .dataframe thead tr th {\n",
       "        text-align: left;\n",
       "    }\n",
       "\n",
       "    .dataframe thead tr:last-of-type th {\n",
       "        text-align: right;\n",
       "    }\n",
       "</style>\n",
       "<table border=\"1\" class=\"dataframe\">\n",
       "  <thead>\n",
       "    <tr>\n",
       "      <th></th>\n",
       "      <th></th>\n",
       "      <th colspan=\"8\" halign=\"left\">count</th>\n",
       "    </tr>\n",
       "    <tr>\n",
       "      <th></th>\n",
       "      <th>ANIO</th>\n",
       "      <th>2012</th>\n",
       "      <th>2014</th>\n",
       "      <th>2015</th>\n",
       "      <th>2016</th>\n",
       "      <th>2017</th>\n",
       "      <th>2018</th>\n",
       "      <th>2019</th>\n",
       "      <th>2020</th>\n",
       "    </tr>\n",
       "    <tr>\n",
       "      <th>PREGUNTA_ACT_COD</th>\n",
       "      <th>RESPUESTA_ACT_COD</th>\n",
       "      <th></th>\n",
       "      <th></th>\n",
       "      <th></th>\n",
       "      <th></th>\n",
       "      <th></th>\n",
       "      <th></th>\n",
       "      <th></th>\n",
       "      <th></th>\n",
       "    </tr>\n",
       "  </thead>\n",
       "  <tbody>\n",
       "    <tr>\n",
       "      <th rowspan=\"5\" valign=\"top\">ACT_1</th>\n",
       "      <th>1.0</th>\n",
       "      <td>1.0</td>\n",
       "      <td>4.0</td>\n",
       "      <td>26.0</td>\n",
       "      <td>7.0</td>\n",
       "      <td>15.0</td>\n",
       "      <td>6.0</td>\n",
       "      <td>1.0</td>\n",
       "      <td>5.0</td>\n",
       "    </tr>\n",
       "    <tr>\n",
       "      <th>2.0</th>\n",
       "      <td>1.0</td>\n",
       "      <td>10.0</td>\n",
       "      <td>29.0</td>\n",
       "      <td>18.0</td>\n",
       "      <td>19.0</td>\n",
       "      <td>33.0</td>\n",
       "      <td>3.0</td>\n",
       "      <td>14.0</td>\n",
       "    </tr>\n",
       "    <tr>\n",
       "      <th>3.0</th>\n",
       "      <td>NaN</td>\n",
       "      <td>19.0</td>\n",
       "      <td>48.0</td>\n",
       "      <td>85.0</td>\n",
       "      <td>35.0</td>\n",
       "      <td>39.0</td>\n",
       "      <td>3.0</td>\n",
       "      <td>27.0</td>\n",
       "    </tr>\n",
       "    <tr>\n",
       "      <th>4.0</th>\n",
       "      <td>5.0</td>\n",
       "      <td>13.0</td>\n",
       "      <td>78.0</td>\n",
       "      <td>149.0</td>\n",
       "      <td>69.0</td>\n",
       "      <td>127.0</td>\n",
       "      <td>3.0</td>\n",
       "      <td>58.0</td>\n",
       "    </tr>\n",
       "    <tr>\n",
       "      <th>5.0</th>\n",
       "      <td>4.0</td>\n",
       "      <td>62.0</td>\n",
       "      <td>166.0</td>\n",
       "      <td>189.0</td>\n",
       "      <td>76.0</td>\n",
       "      <td>133.0</td>\n",
       "      <td>9.0</td>\n",
       "      <td>114.0</td>\n",
       "    </tr>\n",
       "    <tr>\n",
       "      <th rowspan=\"5\" valign=\"top\">ACT_2</th>\n",
       "      <th>1.0</th>\n",
       "      <td>2.0</td>\n",
       "      <td>16.0</td>\n",
       "      <td>51.0</td>\n",
       "      <td>40.0</td>\n",
       "      <td>31.0</td>\n",
       "      <td>12.0</td>\n",
       "      <td>5.0</td>\n",
       "      <td>20.0</td>\n",
       "    </tr>\n",
       "    <tr>\n",
       "      <th>2.0</th>\n",
       "      <td>1.0</td>\n",
       "      <td>11.0</td>\n",
       "      <td>27.0</td>\n",
       "      <td>28.0</td>\n",
       "      <td>17.0</td>\n",
       "      <td>25.0</td>\n",
       "      <td>1.0</td>\n",
       "      <td>15.0</td>\n",
       "    </tr>\n",
       "    <tr>\n",
       "      <th>3.0</th>\n",
       "      <td>NaN</td>\n",
       "      <td>14.0</td>\n",
       "      <td>36.0</td>\n",
       "      <td>58.0</td>\n",
       "      <td>26.0</td>\n",
       "      <td>30.0</td>\n",
       "      <td>3.0</td>\n",
       "      <td>25.0</td>\n",
       "    </tr>\n",
       "    <tr>\n",
       "      <th>4.0</th>\n",
       "      <td>5.0</td>\n",
       "      <td>28.0</td>\n",
       "      <td>104.0</td>\n",
       "      <td>178.0</td>\n",
       "      <td>90.0</td>\n",
       "      <td>107.0</td>\n",
       "      <td>6.0</td>\n",
       "      <td>55.0</td>\n",
       "    </tr>\n",
       "    <tr>\n",
       "      <th>5.0</th>\n",
       "      <td>3.0</td>\n",
       "      <td>39.0</td>\n",
       "      <td>129.0</td>\n",
       "      <td>143.0</td>\n",
       "      <td>50.0</td>\n",
       "      <td>164.0</td>\n",
       "      <td>4.0</td>\n",
       "      <td>103.0</td>\n",
       "    </tr>\n",
       "    <tr>\n",
       "      <th rowspan=\"5\" valign=\"top\">ACT_3</th>\n",
       "      <th>1.0</th>\n",
       "      <td>2.0</td>\n",
       "      <td>12.0</td>\n",
       "      <td>54.0</td>\n",
       "      <td>34.0</td>\n",
       "      <td>24.0</td>\n",
       "      <td>10.0</td>\n",
       "      <td>2.0</td>\n",
       "      <td>18.0</td>\n",
       "    </tr>\n",
       "    <tr>\n",
       "      <th>2.0</th>\n",
       "      <td>2.0</td>\n",
       "      <td>19.0</td>\n",
       "      <td>54.0</td>\n",
       "      <td>66.0</td>\n",
       "      <td>37.0</td>\n",
       "      <td>28.0</td>\n",
       "      <td>4.0</td>\n",
       "      <td>35.0</td>\n",
       "    </tr>\n",
       "    <tr>\n",
       "      <th>3.0</th>\n",
       "      <td>1.0</td>\n",
       "      <td>10.0</td>\n",
       "      <td>33.0</td>\n",
       "      <td>50.0</td>\n",
       "      <td>11.0</td>\n",
       "      <td>28.0</td>\n",
       "      <td>4.0</td>\n",
       "      <td>18.0</td>\n",
       "    </tr>\n",
       "    <tr>\n",
       "      <th>4.0</th>\n",
       "      <td>3.0</td>\n",
       "      <td>17.0</td>\n",
       "      <td>92.0</td>\n",
       "      <td>126.0</td>\n",
       "      <td>55.0</td>\n",
       "      <td>92.0</td>\n",
       "      <td>7.0</td>\n",
       "      <td>23.0</td>\n",
       "    </tr>\n",
       "    <tr>\n",
       "      <th>5.0</th>\n",
       "      <td>3.0</td>\n",
       "      <td>50.0</td>\n",
       "      <td>114.0</td>\n",
       "      <td>174.0</td>\n",
       "      <td>87.0</td>\n",
       "      <td>180.0</td>\n",
       "      <td>3.0</td>\n",
       "      <td>124.0</td>\n",
       "    </tr>\n",
       "    <tr>\n",
       "      <th rowspan=\"5\" valign=\"top\">ACT_4</th>\n",
       "      <th>1.0</th>\n",
       "      <td>2.0</td>\n",
       "      <td>23.0</td>\n",
       "      <td>56.0</td>\n",
       "      <td>43.0</td>\n",
       "      <td>49.0</td>\n",
       "      <td>18.0</td>\n",
       "      <td>3.0</td>\n",
       "      <td>30.0</td>\n",
       "    </tr>\n",
       "    <tr>\n",
       "      <th>2.0</th>\n",
       "      <td>1.0</td>\n",
       "      <td>12.0</td>\n",
       "      <td>71.0</td>\n",
       "      <td>54.0</td>\n",
       "      <td>24.0</td>\n",
       "      <td>37.0</td>\n",
       "      <td>4.0</td>\n",
       "      <td>59.0</td>\n",
       "    </tr>\n",
       "    <tr>\n",
       "      <th>3.0</th>\n",
       "      <td>NaN</td>\n",
       "      <td>18.0</td>\n",
       "      <td>46.0</td>\n",
       "      <td>76.0</td>\n",
       "      <td>32.0</td>\n",
       "      <td>49.0</td>\n",
       "      <td>6.0</td>\n",
       "      <td>15.0</td>\n",
       "    </tr>\n",
       "    <tr>\n",
       "      <th>4.0</th>\n",
       "      <td>6.0</td>\n",
       "      <td>24.0</td>\n",
       "      <td>53.0</td>\n",
       "      <td>141.0</td>\n",
       "      <td>58.0</td>\n",
       "      <td>117.0</td>\n",
       "      <td>5.0</td>\n",
       "      <td>40.0</td>\n",
       "    </tr>\n",
       "    <tr>\n",
       "      <th>5.0</th>\n",
       "      <td>2.0</td>\n",
       "      <td>31.0</td>\n",
       "      <td>119.0</td>\n",
       "      <td>133.0</td>\n",
       "      <td>52.0</td>\n",
       "      <td>117.0</td>\n",
       "      <td>2.0</td>\n",
       "      <td>74.0</td>\n",
       "    </tr>\n",
       "    <tr>\n",
       "      <th rowspan=\"5\" valign=\"top\">ACT_5</th>\n",
       "      <th>1.0</th>\n",
       "      <td>NaN</td>\n",
       "      <td>4.0</td>\n",
       "      <td>11.0</td>\n",
       "      <td>5.0</td>\n",
       "      <td>10.0</td>\n",
       "      <td>2.0</td>\n",
       "      <td>1.0</td>\n",
       "      <td>2.0</td>\n",
       "    </tr>\n",
       "    <tr>\n",
       "      <th>2.0</th>\n",
       "      <td>1.0</td>\n",
       "      <td>11.0</td>\n",
       "      <td>28.0</td>\n",
       "      <td>29.0</td>\n",
       "      <td>7.0</td>\n",
       "      <td>27.0</td>\n",
       "      <td>1.0</td>\n",
       "      <td>10.0</td>\n",
       "    </tr>\n",
       "    <tr>\n",
       "      <th>3.0</th>\n",
       "      <td>2.0</td>\n",
       "      <td>24.0</td>\n",
       "      <td>75.0</td>\n",
       "      <td>91.0</td>\n",
       "      <td>44.0</td>\n",
       "      <td>46.0</td>\n",
       "      <td>4.0</td>\n",
       "      <td>45.0</td>\n",
       "    </tr>\n",
       "    <tr>\n",
       "      <th>4.0</th>\n",
       "      <td>6.0</td>\n",
       "      <td>56.0</td>\n",
       "      <td>155.0</td>\n",
       "      <td>226.0</td>\n",
       "      <td>127.0</td>\n",
       "      <td>189.0</td>\n",
       "      <td>11.0</td>\n",
       "      <td>137.0</td>\n",
       "    </tr>\n",
       "    <tr>\n",
       "      <th>5.0</th>\n",
       "      <td>2.0</td>\n",
       "      <td>13.0</td>\n",
       "      <td>77.0</td>\n",
       "      <td>96.0</td>\n",
       "      <td>26.0</td>\n",
       "      <td>74.0</td>\n",
       "      <td>2.0</td>\n",
       "      <td>24.0</td>\n",
       "    </tr>\n",
       "  </tbody>\n",
       "</table>\n",
       "</div>"
      ],
      "text/plain": [
       "                                   count                                    \\\n",
       "ANIO                                2012  2014   2015   2016   2017   2018   \n",
       "PREGUNTA_ACT_COD RESPUESTA_ACT_COD                                           \n",
       "ACT_1            1.0                 1.0   4.0   26.0    7.0   15.0    6.0   \n",
       "                 2.0                 1.0  10.0   29.0   18.0   19.0   33.0   \n",
       "                 3.0                 NaN  19.0   48.0   85.0   35.0   39.0   \n",
       "                 4.0                 5.0  13.0   78.0  149.0   69.0  127.0   \n",
       "                 5.0                 4.0  62.0  166.0  189.0   76.0  133.0   \n",
       "ACT_2            1.0                 2.0  16.0   51.0   40.0   31.0   12.0   \n",
       "                 2.0                 1.0  11.0   27.0   28.0   17.0   25.0   \n",
       "                 3.0                 NaN  14.0   36.0   58.0   26.0   30.0   \n",
       "                 4.0                 5.0  28.0  104.0  178.0   90.0  107.0   \n",
       "                 5.0                 3.0  39.0  129.0  143.0   50.0  164.0   \n",
       "ACT_3            1.0                 2.0  12.0   54.0   34.0   24.0   10.0   \n",
       "                 2.0                 2.0  19.0   54.0   66.0   37.0   28.0   \n",
       "                 3.0                 1.0  10.0   33.0   50.0   11.0   28.0   \n",
       "                 4.0                 3.0  17.0   92.0  126.0   55.0   92.0   \n",
       "                 5.0                 3.0  50.0  114.0  174.0   87.0  180.0   \n",
       "ACT_4            1.0                 2.0  23.0   56.0   43.0   49.0   18.0   \n",
       "                 2.0                 1.0  12.0   71.0   54.0   24.0   37.0   \n",
       "                 3.0                 NaN  18.0   46.0   76.0   32.0   49.0   \n",
       "                 4.0                 6.0  24.0   53.0  141.0   58.0  117.0   \n",
       "                 5.0                 2.0  31.0  119.0  133.0   52.0  117.0   \n",
       "ACT_5            1.0                 NaN   4.0   11.0    5.0   10.0    2.0   \n",
       "                 2.0                 1.0  11.0   28.0   29.0    7.0   27.0   \n",
       "                 3.0                 2.0  24.0   75.0   91.0   44.0   46.0   \n",
       "                 4.0                 6.0  56.0  155.0  226.0  127.0  189.0   \n",
       "                 5.0                 2.0  13.0   77.0   96.0   26.0   74.0   \n",
       "\n",
       "                                                 \n",
       "ANIO                                2019   2020  \n",
       "PREGUNTA_ACT_COD RESPUESTA_ACT_COD               \n",
       "ACT_1            1.0                 1.0    5.0  \n",
       "                 2.0                 3.0   14.0  \n",
       "                 3.0                 3.0   27.0  \n",
       "                 4.0                 3.0   58.0  \n",
       "                 5.0                 9.0  114.0  \n",
       "ACT_2            1.0                 5.0   20.0  \n",
       "                 2.0                 1.0   15.0  \n",
       "                 3.0                 3.0   25.0  \n",
       "                 4.0                 6.0   55.0  \n",
       "                 5.0                 4.0  103.0  \n",
       "ACT_3            1.0                 2.0   18.0  \n",
       "                 2.0                 4.0   35.0  \n",
       "                 3.0                 4.0   18.0  \n",
       "                 4.0                 7.0   23.0  \n",
       "                 5.0                 3.0  124.0  \n",
       "ACT_4            1.0                 3.0   30.0  \n",
       "                 2.0                 4.0   59.0  \n",
       "                 3.0                 6.0   15.0  \n",
       "                 4.0                 5.0   40.0  \n",
       "                 5.0                 2.0   74.0  \n",
       "ACT_5            1.0                 1.0    2.0  \n",
       "                 2.0                 1.0   10.0  \n",
       "                 3.0                 4.0   45.0  \n",
       "                 4.0                11.0  137.0  \n",
       "                 5.0                 2.0   24.0  "
      ]
     },
     "execution_count": 70,
     "metadata": {},
     "output_type": "execute_result"
    }
   ],
   "source": [
    "evolucion_puntaje = pd.pivot_table(df_ACT_DSG_OK2,\n",
    "                          values = \"ID\",\n",
    "                          index = [\"PREGUNTA_ACT_COD\",\"RESPUESTA_ACT_COD\"],\n",
    "                            columns = [\"ANIO\"],\n",
    "                          aggfunc = [\"count\"]                        \n",
    "                         )\n",
    "evolucion_puntaje"
   ]
  },
  {
   "cell_type": "code",
   "execution_count": 150,
   "metadata": {},
   "outputs": [
    {
     "data": {
      "text/plain": [
       "(1694, 3)"
      ]
     },
     "execution_count": 150,
     "metadata": {},
     "output_type": "execute_result"
    }
   ],
   "source": [
    "ACT_agregado = pd.pivot_table(df_ACT_DSG_OK2,\n",
    "                          values = \"RESPUESTA_ACT_COD\",\n",
    "                          index = [\"FE_RESULTADO\",\"ID\"],\n",
    "                          aggfunc = [\"sum\"]                        \n",
    "                         )\n",
    "ACT_agregado2 = pd.DataFrame(ACT_agregado.to_records())\n",
    "ACT_agregado2.rename(columns={\"('sum', 'RESPUESTA_ACT_COD')\": \"NM_PUNTAJE\"}, inplace=True)\n",
    "ACT_agregado2.reset_index(drop=True)\n",
    "ACT_agregado2.shape"
   ]
  },
  {
   "cell_type": "code",
   "execution_count": 151,
   "metadata": {},
   "outputs": [
    {
     "data": {
      "text/plain": [
       "(1710, 7)"
      ]
     },
     "execution_count": 151,
     "metadata": {},
     "output_type": "execute_result"
    }
   ],
   "source": [
    "df_ACT_OK2 = df_ACT_OK.copy()\n",
    "df_ACT_OK2.shape"
   ]
  },
  {
   "cell_type": "code",
   "execution_count": 158,
   "metadata": {},
   "outputs": [
    {
     "data": {
      "text/plain": [
       "(3404, 8)"
      ]
     },
     "execution_count": 158,
     "metadata": {},
     "output_type": "execute_result"
    }
   ],
   "source": [
    "frames = [ACT_agregado2,df_ACT_OK2]\n",
    "df_ACT_DEF = pd.concat(frames)\n",
    "df_ACT_DEF.shape"
   ]
  },
  {
   "cell_type": "code",
   "execution_count": 167,
   "metadata": {},
   "outputs": [
    {
     "name": "stdout",
     "output_type": "stream",
     "text": [
      "(3404, 8)\n",
      "(3404, 8)\n"
     ]
    }
   ],
   "source": [
    "resultados_codificados = {range(0, 19): 0, range(20, 24): 1, range(25,26): 2}\n",
    "df_ACT_DEF[\"DS_RESULTADOS_COD_2\"] = df_ACT_DEF[\"NM_PUNTAJE\"].apply(lambda x: next((v for k, v in resultados_codificados.items() if x in k), 1))\n",
    "df_ACT_DEF[\"ANIO\"] = pd.DatetimeIndex(df_ACT_DEF[\"FE_RESULTADO\"]).year\n",
    "print(df_ACT_DEF.shape)\n",
    "df_ACT_DEF_2 = df_ACT_DEF.drop_duplicates()\n",
    "print(df_ACT_DEF_2.shape)"
   ]
  },
  {
   "cell_type": "code",
   "execution_count": 175,
   "metadata": {},
   "outputs": [],
   "source": [
    "df_ACT_DEF_2.to_csv(\"ACT.csv\")"
   ]
  },
  {
   "cell_type": "code",
   "execution_count": null,
   "metadata": {},
   "outputs": [],
   "source": []
  }
 ],
 "metadata": {
  "kernelspec": {
   "display_name": "Python 3",
   "language": "python",
   "name": "python3"
  },
  "language_info": {
   "codemirror_mode": {
    "name": "ipython",
    "version": 3
   },
   "file_extension": ".py",
   "mimetype": "text/x-python",
   "name": "python",
   "nbconvert_exporter": "python",
   "pygments_lexer": "ipython3",
   "version": "3.7.6"
  }
 },
 "nbformat": 4,
 "nbformat_minor": 4
}
