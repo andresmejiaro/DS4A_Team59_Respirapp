{
 "cells": [
  {
   "cell_type": "code",
   "execution_count": 30,
   "metadata": {},
   "outputs": [],
   "source": [
    "import pandas as pd\n",
    "import numpy as np\n",
    "import matplotlib.pyplot as plt\n",
    "import seaborn as sns\n",
    "import statsmodels.formula.api as sm\n",
    "import warnings\n",
    "import plotly.express as px\n",
    "warnings.filterwarnings(\"ignore\")  # Suppress all warnings\n",
    "from datetime import datetime\n",
    "# !pip install openpyxl"
   ]
  },
  {
   "cell_type": "code",
   "execution_count": 31,
   "metadata": {},
   "outputs": [
    {
     "name": "stdout",
     "output_type": "stream",
     "text": [
      "<class 'pandas.core.frame.DataFrame'>\n",
      "RangeIndex: 1016 entries, 0 to 1015\n",
      "Data columns (total 4 columns):\n",
      " #   Column          Non-Null Count  Dtype         \n",
      "---  ------          --------------  -----         \n",
      " 0   Identificacion  1016 non-null   int64         \n",
      " 1   FE_ALTA         1016 non-null   datetime64[ns]\n",
      " 2   Dimensiones     1016 non-null   object        \n",
      " 3   0_100           1012 non-null   float64       \n",
      "dtypes: datetime64[ns](1), float64(1), int64(1), object(1)\n",
      "memory usage: 31.9+ KB\n",
      "None\n"
     ]
    },
    {
     "data": {
      "text/html": [
       "<div>\n",
       "<style scoped>\n",
       "    .dataframe tbody tr th:only-of-type {\n",
       "        vertical-align: middle;\n",
       "    }\n",
       "\n",
       "    .dataframe tbody tr th {\n",
       "        vertical-align: top;\n",
       "    }\n",
       "\n",
       "    .dataframe thead th {\n",
       "        text-align: right;\n",
       "    }\n",
       "</style>\n",
       "<table border=\"1\" class=\"dataframe\">\n",
       "  <thead>\n",
       "    <tr style=\"text-align: right;\">\n",
       "      <th></th>\n",
       "      <th>Identificacion</th>\n",
       "      <th>FE_ALTA</th>\n",
       "      <th>Dimensiones</th>\n",
       "      <th>0_100</th>\n",
       "    </tr>\n",
       "  </thead>\n",
       "  <tbody>\n",
       "    <tr>\n",
       "      <th>0</th>\n",
       "      <td>1645342</td>\n",
       "      <td>2016-09-27</td>\n",
       "      <td>Entorno</td>\n",
       "      <td>75.0</td>\n",
       "    </tr>\n",
       "    <tr>\n",
       "      <th>1</th>\n",
       "      <td>1645342</td>\n",
       "      <td>2016-09-27</td>\n",
       "      <td>Psicologico</td>\n",
       "      <td>81.0</td>\n",
       "    </tr>\n",
       "    <tr>\n",
       "      <th>2</th>\n",
       "      <td>1645342</td>\n",
       "      <td>2016-09-27</td>\n",
       "      <td>Relaciones interpersonales</td>\n",
       "      <td>100.0</td>\n",
       "    </tr>\n",
       "    <tr>\n",
       "      <th>3</th>\n",
       "      <td>1645342</td>\n",
       "      <td>2016-09-27</td>\n",
       "      <td>Salud fisica</td>\n",
       "      <td>25.0</td>\n",
       "    </tr>\n",
       "    <tr>\n",
       "      <th>4</th>\n",
       "      <td>1645342</td>\n",
       "      <td>2017-12-21</td>\n",
       "      <td>Entorno</td>\n",
       "      <td>63.0</td>\n",
       "    </tr>\n",
       "  </tbody>\n",
       "</table>\n",
       "</div>"
      ],
      "text/plain": [
       "   Identificacion    FE_ALTA                 Dimensiones  0_100\n",
       "0         1645342 2016-09-27                     Entorno   75.0\n",
       "1         1645342 2016-09-27                 Psicologico   81.0\n",
       "2         1645342 2016-09-27  Relaciones interpersonales  100.0\n",
       "3         1645342 2016-09-27                Salud fisica   25.0\n",
       "4         1645342 2017-12-21                     Entorno   63.0"
      ]
     },
     "execution_count": 31,
     "metadata": {},
     "output_type": "execute_result"
    }
   ],
   "source": [
    "df = pd.read_excel(\"./antiguos/Calidad de vida relacioada en salud.xlsx\")\n",
    "print(df.info())\n",
    "df.head()"
   ]
  },
  {
   "cell_type": "code",
   "execution_count": 32,
   "metadata": {},
   "outputs": [
    {
     "name": "stdout",
     "output_type": "stream",
     "text": [
      "Identificacion\n",
      "False    1016\n",
      "Name: Identificacion, dtype: int64\n",
      "\n",
      "FE_ALTA\n",
      "False    1016\n",
      "Name: FE_ALTA, dtype: int64\n",
      "\n",
      "Dimensiones\n",
      "False    1016\n",
      "Name: Dimensiones, dtype: int64\n",
      "\n",
      "0_100\n",
      "False    1012\n",
      "True        4\n",
      "Name: 0_100, dtype: int64\n",
      "\n"
     ]
    }
   ],
   "source": [
    "for column in missing_data.columns.values.tolist():\n",
    "    print(column)\n",
    "    print (missing_data[column].value_counts())\n",
    "    print(\"\")    "
   ]
  },
  {
   "cell_type": "code",
   "execution_count": 33,
   "metadata": {},
   "outputs": [
    {
     "data": {
      "text/html": [
       "<div>\n",
       "<style scoped>\n",
       "    .dataframe tbody tr th:only-of-type {\n",
       "        vertical-align: middle;\n",
       "    }\n",
       "\n",
       "    .dataframe tbody tr th {\n",
       "        vertical-align: top;\n",
       "    }\n",
       "\n",
       "    .dataframe thead th {\n",
       "        text-align: right;\n",
       "    }\n",
       "</style>\n",
       "<table border=\"1\" class=\"dataframe\">\n",
       "  <thead>\n",
       "    <tr style=\"text-align: right;\">\n",
       "      <th></th>\n",
       "      <th>Identificacion</th>\n",
       "      <th>FE_ALTA</th>\n",
       "      <th>Dimensiones</th>\n",
       "      <th>0_100</th>\n",
       "    </tr>\n",
       "  </thead>\n",
       "  <tbody>\n",
       "    <tr>\n",
       "      <th>84</th>\n",
       "      <td>1971217</td>\n",
       "      <td>2017-07-25</td>\n",
       "      <td>Entorno</td>\n",
       "      <td>NaN</td>\n",
       "    </tr>\n",
       "    <tr>\n",
       "      <th>85</th>\n",
       "      <td>1971217</td>\n",
       "      <td>2017-07-25</td>\n",
       "      <td>Psicologico</td>\n",
       "      <td>NaN</td>\n",
       "    </tr>\n",
       "    <tr>\n",
       "      <th>86</th>\n",
       "      <td>1971217</td>\n",
       "      <td>2017-07-25</td>\n",
       "      <td>Relaciones interpersonales</td>\n",
       "      <td>NaN</td>\n",
       "    </tr>\n",
       "    <tr>\n",
       "      <th>87</th>\n",
       "      <td>1971217</td>\n",
       "      <td>2017-07-25</td>\n",
       "      <td>Salud fisica</td>\n",
       "      <td>NaN</td>\n",
       "    </tr>\n",
       "  </tbody>\n",
       "</table>\n",
       "</div>"
      ],
      "text/plain": [
       "    Identificacion    FE_ALTA                 Dimensiones  0_100\n",
       "84         1971217 2017-07-25                     Entorno    NaN\n",
       "85         1971217 2017-07-25                 Psicologico    NaN\n",
       "86         1971217 2017-07-25  Relaciones interpersonales    NaN\n",
       "87         1971217 2017-07-25                Salud fisica    NaN"
      ]
     },
     "execution_count": 33,
     "metadata": {},
     "output_type": "execute_result"
    }
   ],
   "source": [
    "df[df.isnull().any(axis=1)]"
   ]
  },
  {
   "cell_type": "code",
   "execution_count": 34,
   "metadata": {},
   "outputs": [
    {
     "name": "stdout",
     "output_type": "stream",
     "text": [
      "<class 'pandas.core.frame.DataFrame'>\n",
      "Int64Index: 1012 entries, 0 to 1015\n",
      "Data columns (total 4 columns):\n",
      " #   Column          Non-Null Count  Dtype         \n",
      "---  ------          --------------  -----         \n",
      " 0   Identificacion  1012 non-null   int64         \n",
      " 1   FE_ALTA         1012 non-null   datetime64[ns]\n",
      " 2   Dimensiones     1012 non-null   object        \n",
      " 3   0_100           1012 non-null   float64       \n",
      "dtypes: datetime64[ns](1), float64(1), int64(1), object(1)\n",
      "memory usage: 39.5+ KB\n"
     ]
    }
   ],
   "source": [
    "####Se eliminan los 4 null values de la columna 0_100 ya que no ofrecen información del resultado del test\n",
    "df.dropna(subset=[\"0_100\"], axis=0, inplace=True)\n",
    "df.info()"
   ]
  },
  {
   "cell_type": "code",
   "execution_count": 35,
   "metadata": {},
   "outputs": [
    {
     "data": {
      "text/plain": [
       "Identificacion             int64\n",
       "FE_ALTA           datetime64[ns]\n",
       "Dimensiones               object\n",
       "0_100                    float64\n",
       "dtype: object"
      ]
     },
     "execution_count": 35,
     "metadata": {},
     "output_type": "execute_result"
    }
   ],
   "source": [
    "df.dtypes"
   ]
  },
  {
   "cell_type": "code",
   "execution_count": 36,
   "metadata": {},
   "outputs": [
    {
     "data": {
      "text/html": [
       "<div>\n",
       "<style scoped>\n",
       "    .dataframe tbody tr th:only-of-type {\n",
       "        vertical-align: middle;\n",
       "    }\n",
       "\n",
       "    .dataframe tbody tr th {\n",
       "        vertical-align: top;\n",
       "    }\n",
       "\n",
       "    .dataframe thead th {\n",
       "        text-align: right;\n",
       "    }\n",
       "</style>\n",
       "<table border=\"1\" class=\"dataframe\">\n",
       "  <thead>\n",
       "    <tr style=\"text-align: right;\">\n",
       "      <th></th>\n",
       "      <th>ID_PACIENTE</th>\n",
       "      <th>FE_ALTA</th>\n",
       "      <th>DIMENSIONES</th>\n",
       "      <th>0_100</th>\n",
       "    </tr>\n",
       "  </thead>\n",
       "  <tbody>\n",
       "    <tr>\n",
       "      <th>0</th>\n",
       "      <td>1645342</td>\n",
       "      <td>2016-09-27</td>\n",
       "      <td>Entorno</td>\n",
       "      <td>75.0</td>\n",
       "    </tr>\n",
       "    <tr>\n",
       "      <th>1</th>\n",
       "      <td>1645342</td>\n",
       "      <td>2016-09-27</td>\n",
       "      <td>Psicologico</td>\n",
       "      <td>81.0</td>\n",
       "    </tr>\n",
       "    <tr>\n",
       "      <th>2</th>\n",
       "      <td>1645342</td>\n",
       "      <td>2016-09-27</td>\n",
       "      <td>Relaciones interpersonales</td>\n",
       "      <td>100.0</td>\n",
       "    </tr>\n",
       "    <tr>\n",
       "      <th>3</th>\n",
       "      <td>1645342</td>\n",
       "      <td>2016-09-27</td>\n",
       "      <td>Salud fisica</td>\n",
       "      <td>25.0</td>\n",
       "    </tr>\n",
       "    <tr>\n",
       "      <th>4</th>\n",
       "      <td>1645342</td>\n",
       "      <td>2017-12-21</td>\n",
       "      <td>Entorno</td>\n",
       "      <td>63.0</td>\n",
       "    </tr>\n",
       "  </tbody>\n",
       "</table>\n",
       "</div>"
      ],
      "text/plain": [
       "   ID_PACIENTE    FE_ALTA                 DIMENSIONES  0_100\n",
       "0      1645342 2016-09-27                     Entorno   75.0\n",
       "1      1645342 2016-09-27                 Psicologico   81.0\n",
       "2      1645342 2016-09-27  Relaciones interpersonales  100.0\n",
       "3      1645342 2016-09-27                Salud fisica   25.0\n",
       "4      1645342 2017-12-21                     Entorno   63.0"
      ]
     },
     "execution_count": 36,
     "metadata": {},
     "output_type": "execute_result"
    }
   ],
   "source": [
    "df=df.rename(columns={'Identificacion':'ID_PACIENTE'})\n",
    "df.columns=df.columns.str.upper()\n",
    "df.columns=df.columns.str.replace(' ','_')\n",
    "df.head()"
   ]
  },
  {
   "cell_type": "code",
   "execution_count": 37,
   "metadata": {},
   "outputs": [],
   "source": [
    "df.to_excel(\"./Calidad de vidaNew.xlsx\")\n"
   ]
  },
  {
   "cell_type": "code",
   "execution_count": null,
   "metadata": {},
   "outputs": [],
   "source": []
  }
 ],
 "metadata": {
  "kernelspec": {
   "display_name": "Python 3",
   "language": "python",
   "name": "python3"
  },
  "language_info": {
   "codemirror_mode": {
    "name": "ipython",
    "version": 3
   },
   "file_extension": ".py",
   "mimetype": "text/x-python",
   "name": "python",
   "nbconvert_exporter": "python",
   "pygments_lexer": "ipython3",
   "version": "3.8.3"
  }
 },
 "nbformat": 4,
 "nbformat_minor": 4
}
