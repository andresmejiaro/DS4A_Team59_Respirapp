{
 "cells": [
  {
   "cell_type": "code",
   "execution_count": 19,
   "metadata": {},
   "outputs": [],
   "source": [
    "### Limpieza del Archivo de Medicamentos, incluye calculos de variables necesarias para \n",
    "### calcular la adherencia"
   ]
  },
  {
   "cell_type": "markdown",
   "metadata": {},
   "source": [
    "# Ojo cantidades negativas y no cuadran con la base medicamentos"
   ]
  },
  {
   "cell_type": "code",
   "execution_count": 20,
   "metadata": {},
   "outputs": [],
   "source": [
    "import pandas as pd\n",
    "from datetime import timedelta\n",
    "from sklearn.experimental import enable_iterative_imputer\n",
    "from sklearn.impute import IterativeImputer,MissingIndicator \n",
    "\n",
    "biologicos=pd.read_excel(\"../datos originales/Biologicos Asma.xlsx\")"
   ]
  },
  {
   "cell_type": "code",
   "execution_count": 21,
   "metadata": {},
   "outputs": [],
   "source": [
    "### Renombramiento de columnas segun el estilo acordado\n",
    "\n"
   ]
  },
  {
   "cell_type": "code",
   "execution_count": 22,
   "metadata": {},
   "outputs": [],
   "source": [
    "biologicos.columns=[x.upper() for x in biologicos.columns ]\n",
    "biologicos.rename(columns={\"IDENTIFICACION\":\"ID_PACIENTE\"},inplace=True)\n",
    "biologicos.rename(columns={\"NOMBRE_PRODUCTO_MVTO\":\"NOMBRE_MEDICAMENTO\"},inplace=True)"
   ]
  },
  {
   "cell_type": "code",
   "execution_count": 23,
   "metadata": {},
   "outputs": [
    {
     "output_type": "execute_result",
     "data": {
      "text/plain": "       ID_PACIENTE FECHA_DCTO  \\\n0          1853167 2019-08-02   \n1           695889 2019-07-31   \n2          1534187 2019-01-05   \n3          1831103 2018-12-03   \n4          1831103 2019-01-03   \n...            ...        ...   \n12589      1209144 2020-04-22   \n12590       896933 2020-04-22   \n12591       896933 2020-02-25   \n12592      1209144 2020-02-27   \n12593      1346990 2019-10-30   \n\n                                      NOMBRE_MEDICAMENTO NOM_GENERICO  \\\n0         OMALIZUMAB 150 MG POLV INY (XOLAIR)-21755-4896   OMALIZUMAB   \n1         OMALIZUMAB 150 MG POLV INY (XOLAIR)-21755-4896   OMALIZUMAB   \n2      OMALIZUMAB SOLUCIÓN INYECTABLE 150MG /1ML (XOL...   OMALIZUMAB   \n3      OMALIZUMAB SOLUCIÓN INYECTABLE 150MG /1ML (XOL...   OMALIZUMAB   \n4      OMALIZUMAB SOLUCIÓN INYECTABLE 150MG /1ML (XOL...   OMALIZUMAB   \n...                                                  ...          ...   \n12589  MEPOLIZUMAB POLVO INYECTABLE 100MG (NUCALA) -2...  MEPOLIZUMAB   \n12590  MEPOLIZUMAB POLVO INYECTABLE 100MG (NUCALA) -2...  MEPOLIZUMAB   \n12591  MEPOLIZUMAB POLVO INYECTABLE 100MG (NUCALA) -2...  MEPOLIZUMAB   \n12592  MEPOLIZUMAB POLVO INYECTABLE 100MG (NUCALA) -2...  MEPOLIZUMAB   \n12593  OMALIZUMAB SOLUCIÓN INYECTABLE 150MG /1ML (XOL...   OMALIZUMAB   \n\n       CANTIDAD  \n0             2  \n1             2  \n2             4  \n3             3  \n4             3  \n...         ...  \n12589         1  \n12590         1  \n12591         1  \n12592         1  \n12593         2  \n\n[12594 rows x 5 columns]",
      "text/html": "<div>\n<style scoped>\n    .dataframe tbody tr th:only-of-type {\n        vertical-align: middle;\n    }\n\n    .dataframe tbody tr th {\n        vertical-align: top;\n    }\n\n    .dataframe thead th {\n        text-align: right;\n    }\n</style>\n<table border=\"1\" class=\"dataframe\">\n  <thead>\n    <tr style=\"text-align: right;\">\n      <th></th>\n      <th>ID_PACIENTE</th>\n      <th>FECHA_DCTO</th>\n      <th>NOMBRE_MEDICAMENTO</th>\n      <th>NOM_GENERICO</th>\n      <th>CANTIDAD</th>\n    </tr>\n  </thead>\n  <tbody>\n    <tr>\n      <th>0</th>\n      <td>1853167</td>\n      <td>2019-08-02</td>\n      <td>OMALIZUMAB 150 MG POLV INY (XOLAIR)-21755-4896</td>\n      <td>OMALIZUMAB</td>\n      <td>2</td>\n    </tr>\n    <tr>\n      <th>1</th>\n      <td>695889</td>\n      <td>2019-07-31</td>\n      <td>OMALIZUMAB 150 MG POLV INY (XOLAIR)-21755-4896</td>\n      <td>OMALIZUMAB</td>\n      <td>2</td>\n    </tr>\n    <tr>\n      <th>2</th>\n      <td>1534187</td>\n      <td>2019-01-05</td>\n      <td>OMALIZUMAB SOLUCIÓN INYECTABLE 150MG /1ML (XOL...</td>\n      <td>OMALIZUMAB</td>\n      <td>4</td>\n    </tr>\n    <tr>\n      <th>3</th>\n      <td>1831103</td>\n      <td>2018-12-03</td>\n      <td>OMALIZUMAB SOLUCIÓN INYECTABLE 150MG /1ML (XOL...</td>\n      <td>OMALIZUMAB</td>\n      <td>3</td>\n    </tr>\n    <tr>\n      <th>4</th>\n      <td>1831103</td>\n      <td>2019-01-03</td>\n      <td>OMALIZUMAB SOLUCIÓN INYECTABLE 150MG /1ML (XOL...</td>\n      <td>OMALIZUMAB</td>\n      <td>3</td>\n    </tr>\n    <tr>\n      <th>...</th>\n      <td>...</td>\n      <td>...</td>\n      <td>...</td>\n      <td>...</td>\n      <td>...</td>\n    </tr>\n    <tr>\n      <th>12589</th>\n      <td>1209144</td>\n      <td>2020-04-22</td>\n      <td>MEPOLIZUMAB POLVO INYECTABLE 100MG (NUCALA) -2...</td>\n      <td>MEPOLIZUMAB</td>\n      <td>1</td>\n    </tr>\n    <tr>\n      <th>12590</th>\n      <td>896933</td>\n      <td>2020-04-22</td>\n      <td>MEPOLIZUMAB POLVO INYECTABLE 100MG (NUCALA) -2...</td>\n      <td>MEPOLIZUMAB</td>\n      <td>1</td>\n    </tr>\n    <tr>\n      <th>12591</th>\n      <td>896933</td>\n      <td>2020-02-25</td>\n      <td>MEPOLIZUMAB POLVO INYECTABLE 100MG (NUCALA) -2...</td>\n      <td>MEPOLIZUMAB</td>\n      <td>1</td>\n    </tr>\n    <tr>\n      <th>12592</th>\n      <td>1209144</td>\n      <td>2020-02-27</td>\n      <td>MEPOLIZUMAB POLVO INYECTABLE 100MG (NUCALA) -2...</td>\n      <td>MEPOLIZUMAB</td>\n      <td>1</td>\n    </tr>\n    <tr>\n      <th>12593</th>\n      <td>1346990</td>\n      <td>2019-10-30</td>\n      <td>OMALIZUMAB SOLUCIÓN INYECTABLE 150MG /1ML (XOL...</td>\n      <td>OMALIZUMAB</td>\n      <td>2</td>\n    </tr>\n  </tbody>\n</table>\n<p>12594 rows × 5 columns</p>\n</div>"
     },
     "metadata": {},
     "execution_count": 23
    }
   ],
   "source": [
    "biologicos"
   ]
  },
  {
   "cell_type": "code",
   "execution_count": 24,
   "metadata": {
    "tags": []
   },
   "outputs": [
    {
     "output_type": "stream",
     "name": "stdout",
     "text": "872\n0\n0\n"
    }
   ],
   "source": [
    "### Revision Columnas\n",
    "\n",
    "## ID Paciente\n",
    "print(biologicos.ID_PACIENTE.drop_duplicates().count())\n",
    "print(biologicos.ID_PACIENTE.isna().sum())\n",
    "print(biologicos.ID_PACIENTE.isnull().sum())"
   ]
  },
  {
   "cell_type": "markdown",
   "metadata": {},
   "source": [
    "872 menos de los 1200 de medicamentos "
   ]
  },
  {
   "cell_type": "code",
   "execution_count": 25,
   "metadata": {
    "tags": []
   },
   "outputs": [
    {
     "output_type": "stream",
     "name": "stdout",
     "text": "2016-11-08 00:00:00\n2020-05-30 00:00:00\n0\n0\n"
    }
   ],
   "source": [
    "### Fecha Emision\n",
    "\n",
    "biologicos.FECHA_DCTO=pd.to_datetime(biologicos.FECHA_DCTO)\n",
    "print(biologicos.FECHA_DCTO.min())\n",
    "print(biologicos.FECHA_DCTO.max())\n",
    "print(biologicos.FECHA_DCTO.isna().sum())\n",
    "print(biologicos.FECHA_DCTO.isnull().sum())"
   ]
  },
  {
   "cell_type": "code",
   "execution_count": 26,
   "metadata": {
    "tags": []
   },
   "outputs": [
    {
     "output_type": "stream",
     "name": "stdout",
     "text": "7\n0\n0\n"
    },
    {
     "output_type": "execute_result",
     "data": {
      "text/plain": "0          OMALIZUMAB 150 MG POLV INY (XOLAIR)-21755-4896\n2       OMALIZUMAB SOLUCIÓN INYECTABLE 150MG /1ML (XOL...\n2792    OMALIZUMAB SOLUCIÓN INYECTABLE 75MG /0.5ML (XO...\n3151    BENRALIZUMAB 30MG JERINGA PRELLENA (FASENRA) -...\n3236    MEPOLIZUMAB POLVO INYECTABLE 100MG (NUCALA) -2...\n8307    DUPILUMAB 200MG/1.14 ML JERINGA PRELLENA (DUPI...\n9269                                                    1\nName: NOMBRE_MEDICAMENTO, dtype: object"
     },
     "metadata": {},
     "execution_count": 26
    }
   ],
   "source": [
    "### Descricion prestacion/Nombre del Medicamento \n",
    "\n",
    "print(biologicos.NOMBRE_MEDICAMENTO.drop_duplicates().count())\n",
    "print(biologicos.NOMBRE_MEDICAMENTO.isna().sum())\n",
    "print(biologicos.NOMBRE_MEDICAMENTO.isnull().sum())\n",
    "biologicos.NOMBRE_MEDICAMENTO.drop_duplicates()"
   ]
  },
  {
   "cell_type": "code",
   "execution_count": 27,
   "metadata": {
    "tags": []
   },
   "outputs": [
    {
     "output_type": "stream",
     "name": "stdout",
     "text": "4\n0\n0\n"
    },
    {
     "output_type": "execute_result",
     "data": {
      "text/plain": "0         OMALIZUMAB\n3151    BENRALIZUMAB\n3236     MEPOLIZUMAB\n8307       DUPILUMAB\nName: NOM_GENERICO, dtype: object"
     },
     "metadata": {},
     "execution_count": 27
    }
   ],
   "source": [
    "### Descricion prestacion/Nombre del Medicamento Generico\n",
    "\n",
    "\n",
    "\n",
    "print(biologicos.NOM_GENERICO.drop_duplicates().count())\n",
    "print(biologicos.NOM_GENERICO.isna().sum())\n",
    "print(biologicos.NOM_GENERICO.isnull().sum())\n",
    "biologicos.NOM_GENERICO.drop_duplicates()"
   ]
  },
  {
   "cell_type": "code",
   "execution_count": 28,
   "metadata": {
    "tags": []
   },
   "outputs": [
    {
     "output_type": "stream",
     "name": "stdout",
     "text": "-8\n9\n0\n0\n"
    }
   ],
   "source": [
    "### Cantidad\n",
    "\n",
    "print(biologicos.CANTIDAD.min())\n",
    "print(biologicos.CANTIDAD.max())\n",
    "print(biologicos.CANTIDAD.isna().sum())\n",
    "print(biologicos.CANTIDAD.isnull().sum())\n",
    "biologicos=biologicos[biologicos.CANTIDAD>0]"
   ]
  },
  {
   "cell_type": "code",
   "execution_count": 29,
   "metadata": {},
   "outputs": [],
   "source": [
    "biologicos.groupby(['ID_PACIENTE', 'FECHA_DCTO', 'NOMBRE_MEDICAMENTO', 'NOM_GENERICO']).sum().reset_index().to_excel(\"Biologicos_19_jun_AM.xlsx\")"
   ]
  },
  {
   "cell_type": "code",
   "execution_count": null,
   "metadata": {},
   "outputs": [],
   "source": []
  }
 ],
 "metadata": {
  "kernelspec": {
   "display_name": "Python 3",
   "language": "python",
   "name": "python3"
  },
  "language_info": {
   "codemirror_mode": {
    "name": "ipython",
    "version": 3
   },
   "file_extension": ".py",
   "mimetype": "text/x-python",
   "name": "python",
   "nbconvert_exporter": "python",
   "pygments_lexer": "ipython3",
   "version": "3.8.2-final"
  }
 },
 "nbformat": 4,
 "nbformat_minor": 4
}